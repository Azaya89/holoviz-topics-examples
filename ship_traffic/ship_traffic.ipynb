{
 "cells": [
  {
   "cell_type": "markdown",
   "metadata": {},
   "source": [
    "# Exploring AIS vessel-traffic data\n",
    "\n",
    "This [Jupyter](https://jupyter.org) notebook demonstrates how to use the [Datashader](https://datashader.org)-based rendering in [HoloViews](https://holoviews.org) to explore and analyze US Coast Guard [Automatic Identification System (AIS)](https://en.wikipedia.org/wiki/Automatic_identification_system) vessel-location data. Vessels are identified by their [Maritime Mobile Service Identity](https://en.wikipedia.org/wiki/Maritime_Mobile_Service_Identity) numbers, and other data about the vessels is also typically included. Data is provided for January 2020, but additional months and years of data can be downloaded for US coastal areas from [marinecadastre.gov](marinehttps://marinecadastre.gov/ais), and similar approaches should be usable for other AIS data available for other regions."
   ]
  },
  {
   "cell_type": "code",
   "execution_count": null,
   "metadata": {},
   "outputs": [],
   "source": [
    "import os, requests, numpy as np, pandas as pd, panel as pn, colorcet as cc, datashader as ds, holoviews as hv\n",
    "import spatialpandas as sp, spatialpandas.io, spatialpandas.geometry, spatialpandas.dask, dask.dataframe as dd\n",
    "from PIL import Image\n",
    "\n",
    "from glob import glob\n",
    "from holoviews.util.transform import lon_lat_to_easting_northing as ll2en\n",
    "from holoviews.operation.datashader import rasterize, datashade, dynspread, inspect_points\n",
    "from dask.diagnostics import ProgressBar\n",
    "\n",
    "hv.extension('bokeh', width=100)"
   ]
  },
  {
   "cell_type": "markdown",
   "metadata": {},
   "source": [
    "## Vessel categories \n",
    "\n",
    "AIS pings come with an associated integer `VesselType`, which broadly labels what sort of vessel it is. Different types of vessels are used for different purposes and behave differently, as we can see if we color-code the location of each ping by the `VesselType` using Datshader. \n",
    "\n",
    "Type names are defined in a separate file constructed using lists of 100+ [AIS Vessel Types](https://api.vtexplorer.com/docs/ref-aistypes.html), and can be further collapsed into a smaller number of broad vessel categories:"
   ]
  },
  {
   "cell_type": "code",
   "execution_count": null,
   "metadata": {},
   "outputs": [],
   "source": [
    "vessel_types=pd.read_csv(\"AIS_categories.csv\")\n",
    "vessel_types.iloc[34:37]"
   ]
  },
  {
   "cell_type": "markdown",
   "metadata": {},
   "source": [
    "We can further reduce the `category` to the 6 most common (with the rest as `Other`). We will create a dictionary which maps the value to one of the categories:"
   ]
  },
  {
   "cell_type": "code",
   "execution_count": null,
   "metadata": {},
   "outputs": [],
   "source": [
    "categories = {r.num: r.category if r.category in [0,2,3,19,12,18] else 21 for i, r in vessel_types.iterrows()}\n",
    "categories[np.NaN] = 0\n",
    "\n",
    "def category_desc(val):\n",
    "    \"\"\"Return description for the category with the indicated integer value\"\"\"\n",
    "    return vessel_types[vessel_types.category==val].iloc[0].category_desc\n",
    "\n",
    "vessel_mapping = dict(zip(vessel_types.num.to_list(), vessel_types.category.to_list()))"
   ]
  },
  {
   "cell_type": "markdown",
   "metadata": {},
   "source": [
    "Now let us look at the categories:"
   ]
  },
  {
   "cell_type": "code",
   "execution_count": null,
   "metadata": {},
   "outputs": [],
   "source": [
    "groups = {categories[i]: category_desc(categories[i]) for i in vessel_types.num.unique()}\n",
    "print(\" \".join([f\"{k}:{v}\" for k,v in sorted(groups.items())]))"
   ]
  },
  {
   "cell_type": "markdown",
   "metadata": {},
   "source": [
    "Given a set of colors, let's construct a color key for Datashader to use later, along with a visible legend we can add to such a plot:"
   ]
  },
  {
   "cell_type": "code",
   "execution_count": null,
   "metadata": {},
   "outputs": [],
   "source": [
    "colors    = cc.glasbey_bw_minc_20_minl_30\n",
    "color_key = {list(groups.keys())[i]:tuple(int(e*255.) for e in v) for i,v in \n",
    "              enumerate(colors[:(len(groups))][::-1])}\n",
    "legend    = hv.NdOverlay({groups[k]: hv.Points([0,0], label=str(groups[k])).opts(\n",
    "                                         color=cc.rgb_to_hex(*v), size=0) \n",
    "                          for k, v in color_key.items()})\n",
    "#legend #uncomment to see legend alone"
   ]
  },
  {
   "cell_type": "markdown",
   "metadata": {},
   "source": [
    "## Load AIS pings\n",
    "\n",
    "Next we will load the data from disk, either directly from a spatially indexed Parquet file (if previously cached) or from the raw CSV files. We'll also project the data to the coordinate system we will use later for plotting.\n",
    "\n",
    "Since particularly in raw form this is a lot of data, we will use the `map_partitions` functionality of a dask.DataFrame. To do this we define a function to the conversion and an example DataFrame with the required structure:"
   ]
  },
  {
   "cell_type": "code",
   "execution_count": null,
   "metadata": {},
   "outputs": [],
   "source": [
    "def convert_partition(df):\n",
    "    east, north = ll2en(df.LON.astype('float32'), df.LAT.astype('float32'))\n",
    "    return sp.GeoDataFrame({\n",
    "        'geometry': sp.geometry.PointArray((east, north)),\n",
    "        'MMSI':     df.MMSI.fillna(0).astype('int32'),\n",
    "        'category': df.VesselType.replace(categories).astype('int32')})\n",
    "\n",
    "example = sp.GeoDataFrame({\n",
    "    'geometry': sp.geometry.PointArray([], dtype='float32'),\n",
    "    'MMSI':     np.array([], dtype='int32'),\n",
    "    'category': np.array([], dtype='int32')})"
   ]
  },
  {
   "cell_type": "markdown",
   "metadata": {},
   "source": [
    "Next we will define the function that will load our data, reading a much-smaller (and much faster to load) cached Parquet-format file from disk if available:"
   ]
  },
  {
   "cell_type": "code",
   "execution_count": null,
   "metadata": {},
   "outputs": [],
   "source": [
    "basedir = './2020/'\n",
    "basename = 'AIS_2020_01'\n",
    "index = 'MMSI'\n",
    "dfcols = ['MMSI', 'LON', 'LAT', 'BaseDateTime', 'VesselType']\n",
    "vesselcols = ['MMSI', 'IMO', 'CallSign', 'VesselName', 'VesselType', 'Length', 'Width']\n",
    "\n",
    "def load_data():\n",
    "    cache_file = basedir+basename+'_broadcast.parq'\n",
    "    vessels_file = basedir+basename+'_vessels.parq'\n",
    "    \n",
    "    if (os.path.exists(cache_file) and os.path.exists(vessels_file)):\n",
    "        print('Reading vessel info file')\n",
    "        vessels = dd.read_parquet(vessels_file)\n",
    "\n",
    "        print('Reading parquet file')\n",
    "        gdf = sp.io.read_parquet_dask(cache_file).persist()\n",
    "        gdf['category'] = gdf['category'].astype('category').cat.as_known()\n",
    "        \n",
    "    else:\n",
    "        csvs = basedir+basename+'*.csv'\n",
    "        df = dd.read_csv(csvs, usecols=vesselcols, assume_missing=True)\n",
    "        gdf = dd.read_csv(csvs, usecols=dfcols, assume_missing=True)\n",
    "        with ProgressBar():\n",
    "            print('Writing vessel info file')\n",
    "            vessels = df.groupby(index).last().reset_index().compute()\n",
    "            vessels[index] = vessels[index].astype('int32')\n",
    "            vessels.to_parquet(vessels_file)\n",
    "\n",
    "            print('Reading CSV files')\n",
    "            gdf = gdf.map_partitions(convert_partition, meta=example).persist()\n",
    "\n",
    "            print('Writing parquet file')\n",
    "            gdf = gdf.pack_partitions_to_parquet(cache_file, npartitions=64).persist()\n",
    "            gdf['category'] = gdf['category'].astype('category').cat.as_known()\n",
    "         \n",
    "    return gdf, vessels"
   ]
  },
  {
   "cell_type": "markdown",
   "metadata": {},
   "source": [
    "Actually load the data, using the disk cache and memory cache if available:"
   ]
  },
  {
   "cell_type": "code",
   "execution_count": null,
   "metadata": {},
   "outputs": [],
   "source": [
    "%%time\n",
    "df, vessels = pn.state.as_cached('df', load_data)"
   ]
  },
  {
   "cell_type": "markdown",
   "metadata": {},
   "source": [
    "# Plot categorical data\n",
    "\n",
    "We can now plot the data colored by category, with a color key.\n",
    "\n",
    "To zoom in & interact with the plot, click the “Wheel zoom” tool in the toolbar on the side of the plot. Click and drag the plot in order to look around.  As you zoom in, finer-grained detail will emerge and fill in, as long as you have a live Python process running to render the data dynamically.  Depending on the size of the dataset and your machine, updating the plot might take a few seconds."
   ]
  },
  {
   "cell_type": "code",
   "execution_count": null,
   "metadata": {},
   "outputs": [],
   "source": [
    "x_range, y_range = ll2en([-54,-132], [15,51])\n",
    "bounds = dict(x=tuple(x_range), y=tuple(y_range))\n",
    "\n",
    "pts    = hv.Points(df, vdims=['category']).redim.range(**bounds)\n",
    "points = dynspread(datashade(pts, aggregator=ds.count_cat('category'), color_key=color_key))\n",
    "\n",
    "tiles  = hv.element.tiles.ESRI().opts(alpha=0.4, bgcolor=\"black\").opts(responsive=True, min_height=600)\n",
    "labels = hv.element.tiles.StamenLabels().opts(alpha=0.7, level='glyph')\n",
    "\n",
    "tiles * points * labels * legend"
   ]
  },
  {
   "cell_type": "markdown",
   "metadata": {},
   "source": [
    "Clearly, the ship's behavior is highly dependent on category, with very different patterns of motion between these categories (and presumably the other categories not shown). E.g. passenger vessels tend to travel _across_ narrow waterways, while towing and cargo vessels travel _along_ them. Fishing vessels, as one would expect, travel out to open water and then cover a wide area around their initial destination. Zooming and panning (using the [Bokeh](https://docs.bokeh.org/en/latest/docs/user_guide/tools.html) tools at the right) reveal other patterns at different locations and scales.\n",
    "\n",
    "# Selecting specific datapoints\n",
    "\n",
    "To help understand clusters of datapoints or individual datapoints, we can use the x,y location of a tap to query the dataset for a ping in that region, then highlight it on top of the main plot."
   ]
  },
  {
   "cell_type": "code",
   "execution_count": null,
   "metadata": {},
   "outputs": [],
   "source": [
    "vessels_df = vessels.compute()\n",
    "columns = ['MMSI', 'IMO', 'VesselName', 'VesselType']\n",
    "\n",
    "def points_transformer(df):\n",
    "    return df.merge(vessels_df, on='MMSI').merge(vessel_types, on='category')[['geometry']+columns]\n",
    "\n",
    "ship_url = \"https://www.marinetraffic.com/cs/ais/details/ships/mmsi:\"\n",
    "def hits_transformer(df):\n",
    "    match =  pd.DataFrame(points_transformer(df)[columns].iloc[0:1])\n",
    "    url = vdesc = \"\"\n",
    "    if len(match)==1:\n",
    "        row = match.iloc[0]\n",
    "        url = f\"{ship_url}{row.MMSI}\" \n",
    "        vdesc = f\"{int(row.VesselType)} ({vessel_types.loc[row.VesselType].desc})\"\n",
    "    match['URL'] = pd.Series([url])\n",
    "    match['VesselType'] = pd.Series([vdesc])\n",
    "    return match"
   ]
  },
  {
   "cell_type": "code",
   "execution_count": null,
   "metadata": {},
   "outputs": [],
   "source": [
    "xr, yr   = ll2en([-126,-120.7], [47.5,49.5])\n",
    "pts2     = hv.Points(df, vdims=['category']).redim.range(x=tuple(xr), y=tuple(yr))\n",
    "pointsp  = dynspread(datashade(pts2, color_key=color_key, aggregator=ds.count_cat('category'), min_alpha=90))\n",
    "\n",
    "highlighter = inspect_points.instance(streams=[hv.streams.Tap], \n",
    "                                      points_transformer=points_transformer, \n",
    "                                      hits_transformer=hits_transformer)\n",
    "highlight = highlighter(pointsp).opts(color='white', tools=[\"hover\"], marker='square', \n",
    "                                      size=10, fill_alpha=0)\n",
    "\n",
    "#tiles * pointsp * highlight * legend"
   ]
  },
  {
   "cell_type": "markdown",
   "metadata": {},
   "source": [
    "We could view the result above by uncommenting the last line, but let's just go ahead and make a little app with widgets for controlling the visibility of the background map, the data, and the text labels, plus a table showing information about the selected vessel:"
   ]
  },
  {
   "cell_type": "code",
   "execution_count": null,
   "metadata": {},
   "outputs": [],
   "source": [
    "def get_photo_url(mmsi):\n",
    "    headers = {'User-Agent': 'Mozilla/5.0'}\n",
    "    r=requests.get(f'https://www.marinetraffic.com/cs/ais/details/ships/mmsi:{mmsi}', \n",
    "                   allow_redirects=True, headers=headers)\n",
    "    ship_id = [el for el in r.url.split('/') if el.startswith('shipid')]\n",
    "    if ship_id == []: return 'Not found'\n",
    "    ship_id =ship_id[0].replace('shipid:','')\n",
    "    return f\"https://photos.marinetraffic.com/ais/showphoto.aspx?shipid={ship_id}&size=thumb300&stamp=false\"\n",
    "\n",
    "def get_photo(hits=None):\n",
    "    try:\n",
    "        url = get_photo_url(hits.iloc[0]['MMSI'])\n",
    "        response = requests.get(url, stream=True)\n",
    "        im = Image.open(response.raw)\n",
    "    except: \n",
    "        im = Image.new('RGB', (1,1), (255, 255, 255))\n",
    "    return pn.panel(im)\n"
   ]
  },
  {
   "cell_type": "code",
   "execution_count": null,
   "metadata": {},
   "outputs": [],
   "source": [
    "photo = pn.bind(get_photo, hits=highlighter.param.hits)\n",
    "\n",
    "map_opacity   = pn.widgets.FloatSlider(start=0, end=1, value=0.7, name=\"Map opacity\")\n",
    "data_opacity  = pn.widgets.FloatSlider(start=0, end=1, value=1.0, name=\"Data opacity\")\n",
    "label_opacity = pn.widgets.FloatSlider(start=0, end=1, value=0.9, name=\"Label opacity\")\n",
    "\n",
    "overlay = (tiles.apply.opts(alpha=map_opacity) *\n",
    "           pointsp.apply.opts(alpha=data_opacity) *\n",
    "           labels.apply.opts(alpha=label_opacity) * highlight * legend)\n",
    "table = pn.bind(pn.pane.DataFrame, object=highlighter.param.hits, \n",
    "                width=1200, index=False, render_links=True, na_rep='')\n",
    "\n",
    "pn.Column(\"# Categorical plot of AIS data by type\",\n",
    "          \"Zoom or pan to explore the data, then click to select \"\n",
    "          \"a particular data point to see more information about it (after a delay). \"\n",
    "          \"You may need to zoom in before a point is selectable.\",\n",
    "          pn.Row(map_opacity, data_opacity, label_opacity),\n",
    "          overlay, table,  photo, sizing_mode='stretch_width').servable()"
   ]
  }
 ],
 "metadata": {
  "language_info": {
   "name": "python",
   "pygments_lexer": "ipython3"
  }
 },
 "nbformat": 4,
 "nbformat_minor": 4
}
