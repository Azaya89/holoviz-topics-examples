{
 "cells": [
  {
   "cell_type": "markdown",
   "metadata": {},
   "source": [
    "# Particle Swarms"
   ]
  },
  {
   "cell_type": "markdown",
   "metadata": {},
   "source": [
    "## Interactive Particle Swarm Optimisation Dashboard from Scratch in Python\n",
    "> Swarm Intelligence from social interaction\n",
    "\n",
    "- toc: true \n",
    "- badges: true\n",
    "- comments: true\n",
    "- categories: [jupyter, optimisation, visualisation]"
   ]
  },
  {
   "cell_type": "markdown",
   "metadata": {},
   "source": [
    "## Why are we here?"
   ]
  },
  {
   "cell_type": "markdown",
   "metadata": {},
   "source": [
    "I'm hoping it's to read about **Swarm Intelligence!** I'm also hoping you're interested to read about the **_interactive dashboard_** side of things too so we can play with it at the end. "
   ]
  },
  {
   "cell_type": "markdown",
   "metadata": {},
   "source": [
    "## Finding the \"just right\" Goldilocks Zone using Swarm Intelligence"
   ]
  },
  {
   "cell_type": "markdown",
   "metadata": {},
   "source": [
    "Say you're building a house and you want to maximise the number of rooms you can fit in your plot of land, maybe saying that all rooms have to be a certain size or bigger. That's the kind of thing that optimisation algorithms are useful for.\n",
    "\n",
    "Optimisation methods like **Particle Swarm Optimisation** are used when you want to find the _best_/_optimum_  for some system / problem. **You could just try every possible input** but that might take a while so smarter people than me have invented better ways."
   ]
  },
  {
   "cell_type": "markdown",
   "metadata": {},
   "source": [
    "## Make it interactive because"
   ]
  },
  {
   "cell_type": "markdown",
   "metadata": {},
   "source": [
    "Let's build a dashboard in which you can **control parameters of Particle Swarm Optimisation, click a target and see the little dots flock towards it**. Like an interactive, 2D version of this plot on Wikipedia."
   ]
  },
  {
   "cell_type": "markdown",
   "metadata": {},
   "source": [
    "![pso.gif](./assets/pso.gif \"Source: Wikipedia\")"
   ]
  },
  {
   "cell_type": "markdown",
   "metadata": {},
   "source": [
    "# Swarm Intelligence"
   ]
  },
  {
   "cell_type": "markdown",
   "metadata": {},
   "source": [
    "## Wait, why no death?\n",
    "\n",
    "Genetic algorithm is based on genetic evolution where each generation there is survival-of-the-fittest-style well... death. In the case of Particle Swarm Optimisation, **there is the same population throughout** because we want them to **remember where they were when they were at their fittest**. Like looking back at yourself on your wedding day or after a health kick. **Each particles position is a potential solution to your problem so they're all trying to find the _best position_ together.** \n",
    "\n",
    "## Adding velocity to the mix\n",
    "\n",
    "In the case of Genetic Algorithm each member of the population was just a few numbers (their X and Y position), the parameters that you’re trying to optimise. In this case each particle will not just have a X and Y position, **they also have a velocity**. We also need a way to know how to improve the particles in our swarm..."
   ]
  },
  {
   "cell_type": "markdown",
   "metadata": {},
   "source": [
    "### Closer (smaller distance) is better"
   ]
  },
  {
   "cell_type": "markdown",
   "metadata": {},
   "source": [
    "We'll need to **find the fittest member of the population using euclidean distance** / mean squared error (which particle is closest to the target). "
   ]
  },
  {
   "cell_type": "code",
   "execution_count": 1,
   "metadata": {
    "execution": {
     "iopub.execute_input": "2023-11-02T13:57:28.794841Z",
     "iopub.status.busy": "2023-11-02T13:57:28.794345Z",
     "iopub.status.idle": "2023-11-02T13:57:28.804322Z",
     "shell.execute_reply": "2023-11-02T13:57:28.803295Z"
    }
   },
   "outputs": [],
   "source": [
    "#collapse-hide\n",
    "def mean_squared_error(y_true, y_pred):\n",
    "    return ((y_true - y_pred)**2).mean(axis=0)\n",
    "\n",
    "target_x, target_y = 0,0  \n",
    "def problem(soln):\n",
    "    global target_x #using globals so we can link this to the click event later\n",
    "    global target_y\n",
    "    return mean_squared_error(soln, [target_x, target_y])\n",
    "\n",
    "def assess_fitness(individual, problem):\n",
    "    \"Determines the fitness of an individual using the given problem\"\n",
    "    return problem(individual)"
   ]
  },
  {
   "cell_type": "markdown",
   "metadata": {},
   "source": [
    "## Nostalgic by design"
   ]
  },
  {
   "cell_type": "markdown",
   "metadata": {},
   "source": [
    "**Each member is going to keep track of their fittest position**, this can help them if they explore a worse direction, or want to tell other particles (but we'll get to that later). They also keep an ID so that we can colour them across iterations. "
   ]
  },
  {
   "cell_type": "markdown",
   "metadata": {},
   "source": [
    "Here's that in code (before we add any of the update logic)."
   ]
  },
  {
   "cell_type": "code",
   "execution_count": 2,
   "metadata": {
    "execution": {
     "iopub.execute_input": "2023-11-02T13:57:28.808312Z",
     "iopub.status.busy": "2023-11-02T13:57:28.807558Z",
     "iopub.status.idle": "2023-11-02T13:57:30.985801Z",
     "shell.execute_reply": "2023-11-02T13:57:30.985188Z"
    }
   },
   "outputs": [
    {
     "data": {
      "application/javascript": [
       "(function(root) {\n",
       "  function now() {\n",
       "    return new Date();\n",
       "  }\n",
       "\n",
       "  var force = true;\n",
       "\n",
       "  if (typeof root._bokeh_onload_callbacks === \"undefined\" || force === true) {\n",
       "    root._bokeh_onload_callbacks = [];\n",
       "    root._bokeh_is_loading = undefined;\n",
       "  }\n",
       "\n",
       "  if (typeof (root._bokeh_timeout) === \"undefined\" || force === true) {\n",
       "    root._bokeh_timeout = Date.now() + 5000;\n",
       "    root._bokeh_failed_load = false;\n",
       "  }\n",
       "\n",
       "  function run_callbacks() {\n",
       "    try {\n",
       "      root._bokeh_onload_callbacks.forEach(function(callback) {\n",
       "        if (callback != null)\n",
       "          callback();\n",
       "      });\n",
       "    } finally {\n",
       "      delete root._bokeh_onload_callbacks\n",
       "    }\n",
       "    console.debug(\"Bokeh: all callbacks have finished\");\n",
       "  }\n",
       "\n",
       "  function load_libs(css_urls, js_urls, js_modules, callback) {\n",
       "    if (css_urls == null) css_urls = [];\n",
       "    if (js_urls == null) js_urls = [];\n",
       "    if (js_modules == null) js_modules = [];\n",
       "\n",
       "    root._bokeh_onload_callbacks.push(callback);\n",
       "    if (root._bokeh_is_loading > 0) {\n",
       "      console.debug(\"Bokeh: BokehJS is being loaded, scheduling callback at\", now());\n",
       "      return null;\n",
       "    }\n",
       "    if (js_urls.length === 0 && js_modules.length === 0) {\n",
       "      run_callbacks();\n",
       "      return null;\n",
       "    }\n",
       "    console.debug(\"Bokeh: BokehJS not loaded, scheduling load and callback at\", now());\n",
       "\n",
       "    function on_load() {\n",
       "      root._bokeh_is_loading--;\n",
       "      if (root._bokeh_is_loading === 0) {\n",
       "        console.debug(\"Bokeh: all BokehJS libraries/stylesheets loaded\");\n",
       "        run_callbacks()\n",
       "      }\n",
       "    }\n",
       "\n",
       "    function on_error() {\n",
       "      console.error(\"failed to load \" + url);\n",
       "    }\n",
       "\n",
       "    for (var i = 0; i < css_urls.length; i++) {\n",
       "      var url = css_urls[i];\n",
       "      const element = document.createElement(\"link\");\n",
       "      element.onload = on_load;\n",
       "      element.onerror = on_error;\n",
       "      element.rel = \"stylesheet\";\n",
       "      element.type = \"text/css\";\n",
       "      element.href = url;\n",
       "      console.debug(\"Bokeh: injecting link tag for BokehJS stylesheet: \", url);\n",
       "      document.body.appendChild(element);\n",
       "    }\n",
       "\n",
       "    var skip = [];\n",
       "    if (window.requirejs) {\n",
       "      window.requirejs.config({'packages': {}, 'paths': {'gridstack': 'https://cdn.jsdelivr.net/npm/gridstack@4.2.5/dist/gridstack-h5', 'notyf': 'https://cdn.jsdelivr.net/npm/notyf@3/notyf.min'}, 'shim': {'gridstack': {'exports': 'GridStack'}}});\n",
       "      require([\"gridstack\"], function(GridStack) {\n",
       "\twindow.GridStack = GridStack\n",
       "\ton_load()\n",
       "      })\n",
       "      require([\"notyf\"], function() {\n",
       "\ton_load()\n",
       "      })\n",
       "      root._bokeh_is_loading = css_urls.length + 2;\n",
       "    } else {\n",
       "      root._bokeh_is_loading = css_urls.length + js_urls.length + js_modules.length;\n",
       "    }    if (((window['GridStack'] !== undefined) && (!(window['GridStack'] instanceof HTMLElement))) || window.requirejs) {\n",
       "      var urls = ['https://cdn.holoviz.org/panel/0.14.3/dist/bundled/gridstack/gridstack@4.2.5/dist/gridstack-h5.js'];\n",
       "      for (var i = 0; i < urls.length; i++) {\n",
       "        skip.push(urls[i])\n",
       "      }\n",
       "    }    if (((window['Notyf'] !== undefined) && (!(window['Notyf'] instanceof HTMLElement))) || window.requirejs) {\n",
       "      var urls = ['https://cdn.holoviz.org/panel/0.14.3/dist/bundled/notificationarea/notyf@3/notyf.min.js'];\n",
       "      for (var i = 0; i < urls.length; i++) {\n",
       "        skip.push(urls[i])\n",
       "      }\n",
       "    }    for (var i = 0; i < js_urls.length; i++) {\n",
       "      var url = js_urls[i];\n",
       "      if (skip.indexOf(url) >= 0) {\n",
       "\tif (!window.requirejs) {\n",
       "\t  on_load();\n",
       "\t}\n",
       "\tcontinue;\n",
       "      }\n",
       "      var element = document.createElement('script');\n",
       "      element.onload = on_load;\n",
       "      element.onerror = on_error;\n",
       "      element.async = false;\n",
       "      element.src = url;\n",
       "      console.debug(\"Bokeh: injecting script tag for BokehJS library: \", url);\n",
       "      document.head.appendChild(element);\n",
       "    }\n",
       "    for (var i = 0; i < js_modules.length; i++) {\n",
       "      var url = js_modules[i];\n",
       "      if (skip.indexOf(url) >= 0) {\n",
       "\tif (!window.requirejs) {\n",
       "\t  on_load();\n",
       "\t}\n",
       "\tcontinue;\n",
       "      }\n",
       "      var element = document.createElement('script');\n",
       "      element.onload = on_load;\n",
       "      element.onerror = on_error;\n",
       "      element.async = false;\n",
       "      element.src = url;\n",
       "      element.type = \"module\";\n",
       "      console.debug(\"Bokeh: injecting script tag for BokehJS library: \", url);\n",
       "      document.head.appendChild(element);\n",
       "    }\n",
       "    if (!js_urls.length && !js_modules.length) {\n",
       "      on_load()\n",
       "    }\n",
       "  };\n",
       "\n",
       "  function inject_raw_css(css) {\n",
       "    const element = document.createElement(\"style\");\n",
       "    element.appendChild(document.createTextNode(css));\n",
       "    document.body.appendChild(element);\n",
       "  }\n",
       "\n",
       "  var js_urls = [\"https://cdn.bokeh.org/bokeh/release/bokeh-2.4.3.min.js\", \"https://cdn.bokeh.org/bokeh/release/bokeh-gl-2.4.3.min.js\", \"https://cdn.bokeh.org/bokeh/release/bokeh-widgets-2.4.3.min.js\", \"https://cdn.bokeh.org/bokeh/release/bokeh-tables-2.4.3.min.js\", \"https://cdn.bokeh.org/bokeh/release/bokeh-mathjax-2.4.3.min.js\", \"https://unpkg.com/@holoviz/panel@0.14.3/dist/panel.min.js\"];\n",
       "  var js_modules = [];\n",
       "  var css_urls = [\"https://cdn.holoviz.org/panel/0.14.3/dist/css/debugger.css\", \"https://cdn.holoviz.org/panel/0.14.3/dist/css/widgets.css\", \"https://cdn.holoviz.org/panel/0.14.3/dist/css/card.css\", \"https://cdn.holoviz.org/panel/0.14.3/dist/css/dataframe.css\", \"https://cdn.holoviz.org/panel/0.14.3/dist/css/markdown.css\", \"https://cdn.holoviz.org/panel/0.14.3/dist/css/alerts.css\", \"https://cdn.holoviz.org/panel/0.14.3/dist/css/json.css\", \"https://cdn.holoviz.org/panel/0.14.3/dist/css/loading.css\"];\n",
       "  var inline_js = [    function(Bokeh) {\n",
       "      inject_raw_css(\"\\n    .bk.pn-loading.arc:before {\\n      background-image: url(\\\"data:image/svg+xml;base64,PHN2ZyB4bWxucz0iaHR0cDovL3d3dy53My5vcmcvMjAwMC9zdmciIHN0eWxlPSJtYXJnaW46IGF1dG87IGJhY2tncm91bmQ6IG5vbmU7IGRpc3BsYXk6IGJsb2NrOyBzaGFwZS1yZW5kZXJpbmc6IGF1dG87IiB2aWV3Qm94PSIwIDAgMTAwIDEwMCIgcHJlc2VydmVBc3BlY3RSYXRpbz0ieE1pZFlNaWQiPiAgPGNpcmNsZSBjeD0iNTAiIGN5PSI1MCIgZmlsbD0ibm9uZSIgc3Ryb2tlPSIjYzNjM2MzIiBzdHJva2Utd2lkdGg9IjEwIiByPSIzNSIgc3Ryb2tlLWRhc2hhcnJheT0iMTY0LjkzMzYxNDMxMzQ2NDE1IDU2Ljk3Nzg3MTQzNzgyMTM4Ij4gICAgPGFuaW1hdGVUcmFuc2Zvcm0gYXR0cmlidXRlTmFtZT0idHJhbnNmb3JtIiB0eXBlPSJyb3RhdGUiIHJlcGVhdENvdW50PSJpbmRlZmluaXRlIiBkdXI9IjFzIiB2YWx1ZXM9IjAgNTAgNTA7MzYwIDUwIDUwIiBrZXlUaW1lcz0iMDsxIj48L2FuaW1hdGVUcmFuc2Zvcm0+ICA8L2NpcmNsZT48L3N2Zz4=\\\");\\n      background-size: auto calc(min(50%, 400px));\\n    }\\n    \");\n",
       "    },    function(Bokeh) {\n",
       "      Bokeh.set_log_level(\"info\");\n",
       "    },\n",
       "function(Bokeh) {} // ensure no trailing comma for IE\n",
       "  ];\n",
       "\n",
       "  function run_inline_js() {\n",
       "    if ((root.Bokeh !== undefined) || (force === true)) {\n",
       "      for (var i = 0; i < inline_js.length; i++) {\n",
       "        inline_js[i].call(root, root.Bokeh);\n",
       "      }} else if (Date.now() < root._bokeh_timeout) {\n",
       "      setTimeout(run_inline_js, 100);\n",
       "    } else if (!root._bokeh_failed_load) {\n",
       "      console.log(\"Bokeh: BokehJS failed to load within specified timeout.\");\n",
       "      root._bokeh_failed_load = true;\n",
       "    }\n",
       "  }\n",
       "\n",
       "  if (root._bokeh_is_loading === 0) {\n",
       "    console.debug(\"Bokeh: BokehJS loaded, going straight to plotting\");\n",
       "    run_inline_js();\n",
       "  } else {\n",
       "    load_libs(css_urls, js_urls, js_modules, function() {\n",
       "      console.debug(\"Bokeh: BokehJS plotting callback run at\", now());\n",
       "      run_inline_js();\n",
       "    });\n",
       "  }\n",
       "}(window));"
      ],
      "application/vnd.holoviews_load.v0+json": "(function(root) {\n  function now() {\n    return new Date();\n  }\n\n  var force = true;\n\n  if (typeof root._bokeh_onload_callbacks === \"undefined\" || force === true) {\n    root._bokeh_onload_callbacks = [];\n    root._bokeh_is_loading = undefined;\n  }\n\n  if (typeof (root._bokeh_timeout) === \"undefined\" || force === true) {\n    root._bokeh_timeout = Date.now() + 5000;\n    root._bokeh_failed_load = false;\n  }\n\n  function run_callbacks() {\n    try {\n      root._bokeh_onload_callbacks.forEach(function(callback) {\n        if (callback != null)\n          callback();\n      });\n    } finally {\n      delete root._bokeh_onload_callbacks\n    }\n    console.debug(\"Bokeh: all callbacks have finished\");\n  }\n\n  function load_libs(css_urls, js_urls, js_modules, callback) {\n    if (css_urls == null) css_urls = [];\n    if (js_urls == null) js_urls = [];\n    if (js_modules == null) js_modules = [];\n\n    root._bokeh_onload_callbacks.push(callback);\n    if (root._bokeh_is_loading > 0) {\n      console.debug(\"Bokeh: BokehJS is being loaded, scheduling callback at\", now());\n      return null;\n    }\n    if (js_urls.length === 0 && js_modules.length === 0) {\n      run_callbacks();\n      return null;\n    }\n    console.debug(\"Bokeh: BokehJS not loaded, scheduling load and callback at\", now());\n\n    function on_load() {\n      root._bokeh_is_loading--;\n      if (root._bokeh_is_loading === 0) {\n        console.debug(\"Bokeh: all BokehJS libraries/stylesheets loaded\");\n        run_callbacks()\n      }\n    }\n\n    function on_error() {\n      console.error(\"failed to load \" + url);\n    }\n\n    for (var i = 0; i < css_urls.length; i++) {\n      var url = css_urls[i];\n      const element = document.createElement(\"link\");\n      element.onload = on_load;\n      element.onerror = on_error;\n      element.rel = \"stylesheet\";\n      element.type = \"text/css\";\n      element.href = url;\n      console.debug(\"Bokeh: injecting link tag for BokehJS stylesheet: \", url);\n      document.body.appendChild(element);\n    }\n\n    var skip = [];\n    if (window.requirejs) {\n      window.requirejs.config({'packages': {}, 'paths': {'gridstack': 'https://cdn.jsdelivr.net/npm/gridstack@4.2.5/dist/gridstack-h5', 'notyf': 'https://cdn.jsdelivr.net/npm/notyf@3/notyf.min'}, 'shim': {'gridstack': {'exports': 'GridStack'}}});\n      require([\"gridstack\"], function(GridStack) {\n\twindow.GridStack = GridStack\n\ton_load()\n      })\n      require([\"notyf\"], function() {\n\ton_load()\n      })\n      root._bokeh_is_loading = css_urls.length + 2;\n    } else {\n      root._bokeh_is_loading = css_urls.length + js_urls.length + js_modules.length;\n    }    if (((window['GridStack'] !== undefined) && (!(window['GridStack'] instanceof HTMLElement))) || window.requirejs) {\n      var urls = ['https://cdn.holoviz.org/panel/0.14.3/dist/bundled/gridstack/gridstack@4.2.5/dist/gridstack-h5.js'];\n      for (var i = 0; i < urls.length; i++) {\n        skip.push(urls[i])\n      }\n    }    if (((window['Notyf'] !== undefined) && (!(window['Notyf'] instanceof HTMLElement))) || window.requirejs) {\n      var urls = ['https://cdn.holoviz.org/panel/0.14.3/dist/bundled/notificationarea/notyf@3/notyf.min.js'];\n      for (var i = 0; i < urls.length; i++) {\n        skip.push(urls[i])\n      }\n    }    for (var i = 0; i < js_urls.length; i++) {\n      var url = js_urls[i];\n      if (skip.indexOf(url) >= 0) {\n\tif (!window.requirejs) {\n\t  on_load();\n\t}\n\tcontinue;\n      }\n      var element = document.createElement('script');\n      element.onload = on_load;\n      element.onerror = on_error;\n      element.async = false;\n      element.src = url;\n      console.debug(\"Bokeh: injecting script tag for BokehJS library: \", url);\n      document.head.appendChild(element);\n    }\n    for (var i = 0; i < js_modules.length; i++) {\n      var url = js_modules[i];\n      if (skip.indexOf(url) >= 0) {\n\tif (!window.requirejs) {\n\t  on_load();\n\t}\n\tcontinue;\n      }\n      var element = document.createElement('script');\n      element.onload = on_load;\n      element.onerror = on_error;\n      element.async = false;\n      element.src = url;\n      element.type = \"module\";\n      console.debug(\"Bokeh: injecting script tag for BokehJS library: \", url);\n      document.head.appendChild(element);\n    }\n    if (!js_urls.length && !js_modules.length) {\n      on_load()\n    }\n  };\n\n  function inject_raw_css(css) {\n    const element = document.createElement(\"style\");\n    element.appendChild(document.createTextNode(css));\n    document.body.appendChild(element);\n  }\n\n  var js_urls = [\"https://cdn.bokeh.org/bokeh/release/bokeh-2.4.3.min.js\", \"https://cdn.bokeh.org/bokeh/release/bokeh-gl-2.4.3.min.js\", \"https://cdn.bokeh.org/bokeh/release/bokeh-widgets-2.4.3.min.js\", \"https://cdn.bokeh.org/bokeh/release/bokeh-tables-2.4.3.min.js\", \"https://cdn.bokeh.org/bokeh/release/bokeh-mathjax-2.4.3.min.js\", \"https://unpkg.com/@holoviz/panel@0.14.3/dist/panel.min.js\"];\n  var js_modules = [];\n  var css_urls = [\"https://cdn.holoviz.org/panel/0.14.3/dist/css/debugger.css\", \"https://cdn.holoviz.org/panel/0.14.3/dist/css/widgets.css\", \"https://cdn.holoviz.org/panel/0.14.3/dist/css/card.css\", \"https://cdn.holoviz.org/panel/0.14.3/dist/css/dataframe.css\", \"https://cdn.holoviz.org/panel/0.14.3/dist/css/markdown.css\", \"https://cdn.holoviz.org/panel/0.14.3/dist/css/alerts.css\", \"https://cdn.holoviz.org/panel/0.14.3/dist/css/json.css\", \"https://cdn.holoviz.org/panel/0.14.3/dist/css/loading.css\"];\n  var inline_js = [    function(Bokeh) {\n      inject_raw_css(\"\\n    .bk.pn-loading.arc:before {\\n      background-image: url(\\\"data:image/svg+xml;base64,PHN2ZyB4bWxucz0iaHR0cDovL3d3dy53My5vcmcvMjAwMC9zdmciIHN0eWxlPSJtYXJnaW46IGF1dG87IGJhY2tncm91bmQ6IG5vbmU7IGRpc3BsYXk6IGJsb2NrOyBzaGFwZS1yZW5kZXJpbmc6IGF1dG87IiB2aWV3Qm94PSIwIDAgMTAwIDEwMCIgcHJlc2VydmVBc3BlY3RSYXRpbz0ieE1pZFlNaWQiPiAgPGNpcmNsZSBjeD0iNTAiIGN5PSI1MCIgZmlsbD0ibm9uZSIgc3Ryb2tlPSIjYzNjM2MzIiBzdHJva2Utd2lkdGg9IjEwIiByPSIzNSIgc3Ryb2tlLWRhc2hhcnJheT0iMTY0LjkzMzYxNDMxMzQ2NDE1IDU2Ljk3Nzg3MTQzNzgyMTM4Ij4gICAgPGFuaW1hdGVUcmFuc2Zvcm0gYXR0cmlidXRlTmFtZT0idHJhbnNmb3JtIiB0eXBlPSJyb3RhdGUiIHJlcGVhdENvdW50PSJpbmRlZmluaXRlIiBkdXI9IjFzIiB2YWx1ZXM9IjAgNTAgNTA7MzYwIDUwIDUwIiBrZXlUaW1lcz0iMDsxIj48L2FuaW1hdGVUcmFuc2Zvcm0+ICA8L2NpcmNsZT48L3N2Zz4=\\\");\\n      background-size: auto calc(min(50%, 400px));\\n    }\\n    \");\n    },    function(Bokeh) {\n      Bokeh.set_log_level(\"info\");\n    },\nfunction(Bokeh) {} // ensure no trailing comma for IE\n  ];\n\n  function run_inline_js() {\n    if ((root.Bokeh !== undefined) || (force === true)) {\n      for (var i = 0; i < inline_js.length; i++) {\n        inline_js[i].call(root, root.Bokeh);\n      }} else if (Date.now() < root._bokeh_timeout) {\n      setTimeout(run_inline_js, 100);\n    } else if (!root._bokeh_failed_load) {\n      console.log(\"Bokeh: BokehJS failed to load within specified timeout.\");\n      root._bokeh_failed_load = true;\n    }\n  }\n\n  if (root._bokeh_is_loading === 0) {\n    console.debug(\"Bokeh: BokehJS loaded, going straight to plotting\");\n    run_inline_js();\n  } else {\n    load_libs(css_urls, js_urls, js_modules, function() {\n      console.debug(\"Bokeh: BokehJS plotting callback run at\", now());\n      run_inline_js();\n    });\n  }\n}(window));"
     },
     "metadata": {},
     "output_type": "display_data"
    },
    {
     "data": {
      "application/javascript": [
       "\n",
       "if ((window.PyViz === undefined) || (window.PyViz instanceof HTMLElement)) {\n",
       "  window.PyViz = {comms: {}, comm_status:{}, kernels:{}, receivers: {}, plot_index: []}\n",
       "}\n",
       "\n",
       "\n",
       "    function JupyterCommManager() {\n",
       "    }\n",
       "\n",
       "    JupyterCommManager.prototype.register_target = function(plot_id, comm_id, msg_handler) {\n",
       "      if (window.comm_manager || ((window.Jupyter !== undefined) && (Jupyter.notebook.kernel != null))) {\n",
       "        var comm_manager = window.comm_manager || Jupyter.notebook.kernel.comm_manager;\n",
       "        comm_manager.register_target(comm_id, function(comm) {\n",
       "          comm.on_msg(msg_handler);\n",
       "        });\n",
       "      } else if ((plot_id in window.PyViz.kernels) && (window.PyViz.kernels[plot_id])) {\n",
       "        window.PyViz.kernels[plot_id].registerCommTarget(comm_id, function(comm) {\n",
       "          comm.onMsg = msg_handler;\n",
       "        });\n",
       "      } else if (typeof google != 'undefined' && google.colab.kernel != null) {\n",
       "        google.colab.kernel.comms.registerTarget(comm_id, (comm) => {\n",
       "          var messages = comm.messages[Symbol.asyncIterator]();\n",
       "          function processIteratorResult(result) {\n",
       "            var message = result.value;\n",
       "            console.log(message)\n",
       "            var content = {data: message.data, comm_id};\n",
       "            var buffers = []\n",
       "            for (var buffer of message.buffers || []) {\n",
       "              buffers.push(new DataView(buffer))\n",
       "            }\n",
       "            var metadata = message.metadata || {};\n",
       "            var msg = {content, buffers, metadata}\n",
       "            msg_handler(msg);\n",
       "            return messages.next().then(processIteratorResult);\n",
       "          }\n",
       "          return messages.next().then(processIteratorResult);\n",
       "        })\n",
       "      }\n",
       "    }\n",
       "\n",
       "    JupyterCommManager.prototype.get_client_comm = function(plot_id, comm_id, msg_handler) {\n",
       "      if (comm_id in window.PyViz.comms) {\n",
       "        return window.PyViz.comms[comm_id];\n",
       "      } else if (window.comm_manager || ((window.Jupyter !== undefined) && (Jupyter.notebook.kernel != null))) {\n",
       "        var comm_manager = window.comm_manager || Jupyter.notebook.kernel.comm_manager;\n",
       "        var comm = comm_manager.new_comm(comm_id, {}, {}, {}, comm_id);\n",
       "        if (msg_handler) {\n",
       "          comm.on_msg(msg_handler);\n",
       "        }\n",
       "      } else if ((plot_id in window.PyViz.kernels) && (window.PyViz.kernels[plot_id])) {\n",
       "        var comm = window.PyViz.kernels[plot_id].connectToComm(comm_id);\n",
       "        comm.open();\n",
       "        if (msg_handler) {\n",
       "          comm.onMsg = msg_handler;\n",
       "        }\n",
       "      } else if (typeof google != 'undefined' && google.colab.kernel != null) {\n",
       "        var comm_promise = google.colab.kernel.comms.open(comm_id)\n",
       "        comm_promise.then((comm) => {\n",
       "          window.PyViz.comms[comm_id] = comm;\n",
       "          if (msg_handler) {\n",
       "            var messages = comm.messages[Symbol.asyncIterator]();\n",
       "            function processIteratorResult(result) {\n",
       "              var message = result.value;\n",
       "              var content = {data: message.data};\n",
       "              var metadata = message.metadata || {comm_id};\n",
       "              var msg = {content, metadata}\n",
       "              msg_handler(msg);\n",
       "              return messages.next().then(processIteratorResult);\n",
       "            }\n",
       "            return messages.next().then(processIteratorResult);\n",
       "          }\n",
       "        }) \n",
       "        var sendClosure = (data, metadata, buffers, disposeOnDone) => {\n",
       "          return comm_promise.then((comm) => {\n",
       "            comm.send(data, metadata, buffers, disposeOnDone);\n",
       "          });\n",
       "        };\n",
       "        var comm = {\n",
       "          send: sendClosure\n",
       "        };\n",
       "      }\n",
       "      window.PyViz.comms[comm_id] = comm;\n",
       "      return comm;\n",
       "    }\n",
       "    window.PyViz.comm_manager = new JupyterCommManager();\n",
       "    \n",
       "\n",
       "\n",
       "var JS_MIME_TYPE = 'application/javascript';\n",
       "var HTML_MIME_TYPE = 'text/html';\n",
       "var EXEC_MIME_TYPE = 'application/vnd.holoviews_exec.v0+json';\n",
       "var CLASS_NAME = 'output';\n",
       "\n",
       "/**\n",
       " * Render data to the DOM node\n",
       " */\n",
       "function render(props, node) {\n",
       "  var div = document.createElement(\"div\");\n",
       "  var script = document.createElement(\"script\");\n",
       "  node.appendChild(div);\n",
       "  node.appendChild(script);\n",
       "}\n",
       "\n",
       "/**\n",
       " * Handle when a new output is added\n",
       " */\n",
       "function handle_add_output(event, handle) {\n",
       "  var output_area = handle.output_area;\n",
       "  var output = handle.output;\n",
       "  if ((output.data == undefined) || (!output.data.hasOwnProperty(EXEC_MIME_TYPE))) {\n",
       "    return\n",
       "  }\n",
       "  var id = output.metadata[EXEC_MIME_TYPE][\"id\"];\n",
       "  var toinsert = output_area.element.find(\".\" + CLASS_NAME.split(' ')[0]);\n",
       "  if (id !== undefined) {\n",
       "    var nchildren = toinsert.length;\n",
       "    var html_node = toinsert[nchildren-1].children[0];\n",
       "    html_node.innerHTML = output.data[HTML_MIME_TYPE];\n",
       "    var scripts = [];\n",
       "    var nodelist = html_node.querySelectorAll(\"script\");\n",
       "    for (var i in nodelist) {\n",
       "      if (nodelist.hasOwnProperty(i)) {\n",
       "        scripts.push(nodelist[i])\n",
       "      }\n",
       "    }\n",
       "\n",
       "    scripts.forEach( function (oldScript) {\n",
       "      var newScript = document.createElement(\"script\");\n",
       "      var attrs = [];\n",
       "      var nodemap = oldScript.attributes;\n",
       "      for (var j in nodemap) {\n",
       "        if (nodemap.hasOwnProperty(j)) {\n",
       "          attrs.push(nodemap[j])\n",
       "        }\n",
       "      }\n",
       "      attrs.forEach(function(attr) { newScript.setAttribute(attr.name, attr.value) });\n",
       "      newScript.appendChild(document.createTextNode(oldScript.innerHTML));\n",
       "      oldScript.parentNode.replaceChild(newScript, oldScript);\n",
       "    });\n",
       "    if (JS_MIME_TYPE in output.data) {\n",
       "      toinsert[nchildren-1].children[1].textContent = output.data[JS_MIME_TYPE];\n",
       "    }\n",
       "    output_area._hv_plot_id = id;\n",
       "    if ((window.Bokeh !== undefined) && (id in Bokeh.index)) {\n",
       "      window.PyViz.plot_index[id] = Bokeh.index[id];\n",
       "    } else {\n",
       "      window.PyViz.plot_index[id] = null;\n",
       "    }\n",
       "  } else if (output.metadata[EXEC_MIME_TYPE][\"server_id\"] !== undefined) {\n",
       "    var bk_div = document.createElement(\"div\");\n",
       "    bk_div.innerHTML = output.data[HTML_MIME_TYPE];\n",
       "    var script_attrs = bk_div.children[0].attributes;\n",
       "    for (var i = 0; i < script_attrs.length; i++) {\n",
       "      toinsert[toinsert.length - 1].childNodes[1].setAttribute(script_attrs[i].name, script_attrs[i].value);\n",
       "    }\n",
       "    // store reference to server id on output_area\n",
       "    output_area._bokeh_server_id = output.metadata[EXEC_MIME_TYPE][\"server_id\"];\n",
       "  }\n",
       "}\n",
       "\n",
       "/**\n",
       " * Handle when an output is cleared or removed\n",
       " */\n",
       "function handle_clear_output(event, handle) {\n",
       "  var id = handle.cell.output_area._hv_plot_id;\n",
       "  var server_id = handle.cell.output_area._bokeh_server_id;\n",
       "  if (((id === undefined) || !(id in PyViz.plot_index)) && (server_id !== undefined)) { return; }\n",
       "  var comm = window.PyViz.comm_manager.get_client_comm(\"hv-extension-comm\", \"hv-extension-comm\", function () {});\n",
       "  if (server_id !== null) {\n",
       "    comm.send({event_type: 'server_delete', 'id': server_id});\n",
       "    return;\n",
       "  } else if (comm !== null) {\n",
       "    comm.send({event_type: 'delete', 'id': id});\n",
       "  }\n",
       "  delete PyViz.plot_index[id];\n",
       "  if ((window.Bokeh !== undefined) & (id in window.Bokeh.index)) {\n",
       "    var doc = window.Bokeh.index[id].model.document\n",
       "    doc.clear();\n",
       "    const i = window.Bokeh.documents.indexOf(doc);\n",
       "    if (i > -1) {\n",
       "      window.Bokeh.documents.splice(i, 1);\n",
       "    }\n",
       "  }\n",
       "}\n",
       "\n",
       "/**\n",
       " * Handle kernel restart event\n",
       " */\n",
       "function handle_kernel_cleanup(event, handle) {\n",
       "  delete PyViz.comms[\"hv-extension-comm\"];\n",
       "  window.PyViz.plot_index = {}\n",
       "}\n",
       "\n",
       "/**\n",
       " * Handle update_display_data messages\n",
       " */\n",
       "function handle_update_output(event, handle) {\n",
       "  handle_clear_output(event, {cell: {output_area: handle.output_area}})\n",
       "  handle_add_output(event, handle)\n",
       "}\n",
       "\n",
       "function register_renderer(events, OutputArea) {\n",
       "  function append_mime(data, metadata, element) {\n",
       "    // create a DOM node to render to\n",
       "    var toinsert = this.create_output_subarea(\n",
       "    metadata,\n",
       "    CLASS_NAME,\n",
       "    EXEC_MIME_TYPE\n",
       "    );\n",
       "    this.keyboard_manager.register_events(toinsert);\n",
       "    // Render to node\n",
       "    var props = {data: data, metadata: metadata[EXEC_MIME_TYPE]};\n",
       "    render(props, toinsert[0]);\n",
       "    element.append(toinsert);\n",
       "    return toinsert\n",
       "  }\n",
       "\n",
       "  events.on('output_added.OutputArea', handle_add_output);\n",
       "  events.on('output_updated.OutputArea', handle_update_output);\n",
       "  events.on('clear_output.CodeCell', handle_clear_output);\n",
       "  events.on('delete.Cell', handle_clear_output);\n",
       "  events.on('kernel_ready.Kernel', handle_kernel_cleanup);\n",
       "\n",
       "  OutputArea.prototype.register_mime_type(EXEC_MIME_TYPE, append_mime, {\n",
       "    safe: true,\n",
       "    index: 0\n",
       "  });\n",
       "}\n",
       "\n",
       "if (window.Jupyter !== undefined) {\n",
       "  try {\n",
       "    var events = require('base/js/events');\n",
       "    var OutputArea = require('notebook/js/outputarea').OutputArea;\n",
       "    if (OutputArea.prototype.mime_types().indexOf(EXEC_MIME_TYPE) == -1) {\n",
       "      register_renderer(events, OutputArea);\n",
       "    }\n",
       "  } catch(err) {\n",
       "  }\n",
       "}\n"
      ],
      "application/vnd.holoviews_load.v0+json": "\nif ((window.PyViz === undefined) || (window.PyViz instanceof HTMLElement)) {\n  window.PyViz = {comms: {}, comm_status:{}, kernels:{}, receivers: {}, plot_index: []}\n}\n\n\n    function JupyterCommManager() {\n    }\n\n    JupyterCommManager.prototype.register_target = function(plot_id, comm_id, msg_handler) {\n      if (window.comm_manager || ((window.Jupyter !== undefined) && (Jupyter.notebook.kernel != null))) {\n        var comm_manager = window.comm_manager || Jupyter.notebook.kernel.comm_manager;\n        comm_manager.register_target(comm_id, function(comm) {\n          comm.on_msg(msg_handler);\n        });\n      } else if ((plot_id in window.PyViz.kernels) && (window.PyViz.kernels[plot_id])) {\n        window.PyViz.kernels[plot_id].registerCommTarget(comm_id, function(comm) {\n          comm.onMsg = msg_handler;\n        });\n      } else if (typeof google != 'undefined' && google.colab.kernel != null) {\n        google.colab.kernel.comms.registerTarget(comm_id, (comm) => {\n          var messages = comm.messages[Symbol.asyncIterator]();\n          function processIteratorResult(result) {\n            var message = result.value;\n            console.log(message)\n            var content = {data: message.data, comm_id};\n            var buffers = []\n            for (var buffer of message.buffers || []) {\n              buffers.push(new DataView(buffer))\n            }\n            var metadata = message.metadata || {};\n            var msg = {content, buffers, metadata}\n            msg_handler(msg);\n            return messages.next().then(processIteratorResult);\n          }\n          return messages.next().then(processIteratorResult);\n        })\n      }\n    }\n\n    JupyterCommManager.prototype.get_client_comm = function(plot_id, comm_id, msg_handler) {\n      if (comm_id in window.PyViz.comms) {\n        return window.PyViz.comms[comm_id];\n      } else if (window.comm_manager || ((window.Jupyter !== undefined) && (Jupyter.notebook.kernel != null))) {\n        var comm_manager = window.comm_manager || Jupyter.notebook.kernel.comm_manager;\n        var comm = comm_manager.new_comm(comm_id, {}, {}, {}, comm_id);\n        if (msg_handler) {\n          comm.on_msg(msg_handler);\n        }\n      } else if ((plot_id in window.PyViz.kernels) && (window.PyViz.kernels[plot_id])) {\n        var comm = window.PyViz.kernels[plot_id].connectToComm(comm_id);\n        comm.open();\n        if (msg_handler) {\n          comm.onMsg = msg_handler;\n        }\n      } else if (typeof google != 'undefined' && google.colab.kernel != null) {\n        var comm_promise = google.colab.kernel.comms.open(comm_id)\n        comm_promise.then((comm) => {\n          window.PyViz.comms[comm_id] = comm;\n          if (msg_handler) {\n            var messages = comm.messages[Symbol.asyncIterator]();\n            function processIteratorResult(result) {\n              var message = result.value;\n              var content = {data: message.data};\n              var metadata = message.metadata || {comm_id};\n              var msg = {content, metadata}\n              msg_handler(msg);\n              return messages.next().then(processIteratorResult);\n            }\n            return messages.next().then(processIteratorResult);\n          }\n        }) \n        var sendClosure = (data, metadata, buffers, disposeOnDone) => {\n          return comm_promise.then((comm) => {\n            comm.send(data, metadata, buffers, disposeOnDone);\n          });\n        };\n        var comm = {\n          send: sendClosure\n        };\n      }\n      window.PyViz.comms[comm_id] = comm;\n      return comm;\n    }\n    window.PyViz.comm_manager = new JupyterCommManager();\n    \n\n\nvar JS_MIME_TYPE = 'application/javascript';\nvar HTML_MIME_TYPE = 'text/html';\nvar EXEC_MIME_TYPE = 'application/vnd.holoviews_exec.v0+json';\nvar CLASS_NAME = 'output';\n\n/**\n * Render data to the DOM node\n */\nfunction render(props, node) {\n  var div = document.createElement(\"div\");\n  var script = document.createElement(\"script\");\n  node.appendChild(div);\n  node.appendChild(script);\n}\n\n/**\n * Handle when a new output is added\n */\nfunction handle_add_output(event, handle) {\n  var output_area = handle.output_area;\n  var output = handle.output;\n  if ((output.data == undefined) || (!output.data.hasOwnProperty(EXEC_MIME_TYPE))) {\n    return\n  }\n  var id = output.metadata[EXEC_MIME_TYPE][\"id\"];\n  var toinsert = output_area.element.find(\".\" + CLASS_NAME.split(' ')[0]);\n  if (id !== undefined) {\n    var nchildren = toinsert.length;\n    var html_node = toinsert[nchildren-1].children[0];\n    html_node.innerHTML = output.data[HTML_MIME_TYPE];\n    var scripts = [];\n    var nodelist = html_node.querySelectorAll(\"script\");\n    for (var i in nodelist) {\n      if (nodelist.hasOwnProperty(i)) {\n        scripts.push(nodelist[i])\n      }\n    }\n\n    scripts.forEach( function (oldScript) {\n      var newScript = document.createElement(\"script\");\n      var attrs = [];\n      var nodemap = oldScript.attributes;\n      for (var j in nodemap) {\n        if (nodemap.hasOwnProperty(j)) {\n          attrs.push(nodemap[j])\n        }\n      }\n      attrs.forEach(function(attr) { newScript.setAttribute(attr.name, attr.value) });\n      newScript.appendChild(document.createTextNode(oldScript.innerHTML));\n      oldScript.parentNode.replaceChild(newScript, oldScript);\n    });\n    if (JS_MIME_TYPE in output.data) {\n      toinsert[nchildren-1].children[1].textContent = output.data[JS_MIME_TYPE];\n    }\n    output_area._hv_plot_id = id;\n    if ((window.Bokeh !== undefined) && (id in Bokeh.index)) {\n      window.PyViz.plot_index[id] = Bokeh.index[id];\n    } else {\n      window.PyViz.plot_index[id] = null;\n    }\n  } else if (output.metadata[EXEC_MIME_TYPE][\"server_id\"] !== undefined) {\n    var bk_div = document.createElement(\"div\");\n    bk_div.innerHTML = output.data[HTML_MIME_TYPE];\n    var script_attrs = bk_div.children[0].attributes;\n    for (var i = 0; i < script_attrs.length; i++) {\n      toinsert[toinsert.length - 1].childNodes[1].setAttribute(script_attrs[i].name, script_attrs[i].value);\n    }\n    // store reference to server id on output_area\n    output_area._bokeh_server_id = output.metadata[EXEC_MIME_TYPE][\"server_id\"];\n  }\n}\n\n/**\n * Handle when an output is cleared or removed\n */\nfunction handle_clear_output(event, handle) {\n  var id = handle.cell.output_area._hv_plot_id;\n  var server_id = handle.cell.output_area._bokeh_server_id;\n  if (((id === undefined) || !(id in PyViz.plot_index)) && (server_id !== undefined)) { return; }\n  var comm = window.PyViz.comm_manager.get_client_comm(\"hv-extension-comm\", \"hv-extension-comm\", function () {});\n  if (server_id !== null) {\n    comm.send({event_type: 'server_delete', 'id': server_id});\n    return;\n  } else if (comm !== null) {\n    comm.send({event_type: 'delete', 'id': id});\n  }\n  delete PyViz.plot_index[id];\n  if ((window.Bokeh !== undefined) & (id in window.Bokeh.index)) {\n    var doc = window.Bokeh.index[id].model.document\n    doc.clear();\n    const i = window.Bokeh.documents.indexOf(doc);\n    if (i > -1) {\n      window.Bokeh.documents.splice(i, 1);\n    }\n  }\n}\n\n/**\n * Handle kernel restart event\n */\nfunction handle_kernel_cleanup(event, handle) {\n  delete PyViz.comms[\"hv-extension-comm\"];\n  window.PyViz.plot_index = {}\n}\n\n/**\n * Handle update_display_data messages\n */\nfunction handle_update_output(event, handle) {\n  handle_clear_output(event, {cell: {output_area: handle.output_area}})\n  handle_add_output(event, handle)\n}\n\nfunction register_renderer(events, OutputArea) {\n  function append_mime(data, metadata, element) {\n    // create a DOM node to render to\n    var toinsert = this.create_output_subarea(\n    metadata,\n    CLASS_NAME,\n    EXEC_MIME_TYPE\n    );\n    this.keyboard_manager.register_events(toinsert);\n    // Render to node\n    var props = {data: data, metadata: metadata[EXEC_MIME_TYPE]};\n    render(props, toinsert[0]);\n    element.append(toinsert);\n    return toinsert\n  }\n\n  events.on('output_added.OutputArea', handle_add_output);\n  events.on('output_updated.OutputArea', handle_update_output);\n  events.on('clear_output.CodeCell', handle_clear_output);\n  events.on('delete.Cell', handle_clear_output);\n  events.on('kernel_ready.Kernel', handle_kernel_cleanup);\n\n  OutputArea.prototype.register_mime_type(EXEC_MIME_TYPE, append_mime, {\n    safe: true,\n    index: 0\n  });\n}\n\nif (window.Jupyter !== undefined) {\n  try {\n    var events = require('base/js/events');\n    var OutputArea = require('notebook/js/outputarea').OutputArea;\n    if (OutputArea.prototype.mime_types().indexOf(EXEC_MIME_TYPE) == -1) {\n      register_renderer(events, OutputArea);\n    }\n  } catch(err) {\n  }\n}\n"
     },
     "metadata": {},
     "output_type": "display_data"
    },
    {
     "data": {
      "text/html": [
       "<style>.bk-root, .bk-root .bk:before, .bk-root .bk:after {\n",
       "  font-family: var(--jp-ui-font-size1);\n",
       "  font-size: var(--jp-ui-font-size1);\n",
       "  color: var(--jp-ui-font-color1);\n",
       "}\n",
       "</style>"
      ]
     },
     "metadata": {},
     "output_type": "display_data"
    }
   ],
   "source": [
    "import numpy as np\n",
    "import random\n",
    "from holoviews import opts, dim\n",
    "import holoviews as hv\n",
    "import panel as pn\n",
    "from holoviews.streams import Stream\n",
    "hv.extension('bokeh', logo=False)  "
   ]
  },
  {
   "cell_type": "code",
   "execution_count": 3,
   "metadata": {
    "execution": {
     "iopub.execute_input": "2023-11-02T13:57:31.027275Z",
     "iopub.status.busy": "2023-11-02T13:57:31.026096Z",
     "iopub.status.idle": "2023-11-02T13:57:31.034513Z",
     "shell.execute_reply": "2023-11-02T13:57:31.033920Z"
    }
   },
   "outputs": [],
   "source": [
    "class Particle:\n",
    "    def __init__(self, problem, velocity, position, index):\n",
    "        self.problem = problem\n",
    "        self.velocity = velocity\n",
    "        self.position = position\n",
    "        self.fittest_position = position\n",
    "        self.id = index"
   ]
  },
  {
   "cell_type": "markdown",
   "metadata": {},
   "source": [
    "## Create a \"swarm\" of them"
   ]
  },
  {
   "cell_type": "markdown",
   "metadata": {},
   "source": [
    "For each particle, we want their position and velocity. We also convert their velocity into angle and magnitude for the little arrows in the visualisation."
   ]
  },
  {
   "cell_type": "code",
   "execution_count": 4,
   "metadata": {
    "execution": {
     "iopub.execute_input": "2023-11-02T13:57:31.038311Z",
     "iopub.status.busy": "2023-11-02T13:57:31.037669Z",
     "iopub.status.idle": "2023-11-02T13:57:31.042745Z",
     "shell.execute_reply": "2023-11-02T13:57:31.042087Z"
    }
   },
   "outputs": [],
   "source": [
    "vector_length=2\n",
    "swarm_size = 50\n",
    "swarm = [Particle(problem, np.random.uniform(-2, 2, vector_length), np.random.rand(vector_length), i)\n",
    "                      for i, x in enumerate(range(swarm_size))]"
   ]
  },
  {
   "cell_type": "markdown",
   "metadata": {},
   "source": [
    "Here's what our swarm looks like:"
   ]
  },
  {
   "cell_type": "code",
   "execution_count": 5,
   "metadata": {
    "execution": {
     "iopub.execute_input": "2023-11-02T13:57:31.046256Z",
     "iopub.status.busy": "2023-11-02T13:57:31.045530Z",
     "iopub.status.idle": "2023-11-02T13:57:31.556069Z",
     "shell.execute_reply": "2023-11-02T13:57:31.555368Z"
    }
   },
   "outputs": [
    {
     "data": {},
     "metadata": {},
     "output_type": "display_data"
    },
    {
     "data": {
      "application/vnd.holoviews_exec.v0+json": "",
      "text/html": [
       "<div id='1002'>\n",
       "  <div class=\"bk-root\" id=\"ec3b1b77-e475-4e9a-9d2d-cc5bda21654b\" data-root-id=\"1002\"></div>\n",
       "</div>\n",
       "<script type=\"application/javascript\">(function(root) {\n",
       "  function embed_document(root) {\n",
       "    var docs_json = {\"50c9fa2c-5071-4af0-9e72-f25c25e5d8e4\":{\"defs\":[{\"extends\":null,\"module\":null,\"name\":\"ReactiveHTML1\",\"overrides\":[],\"properties\":[]},{\"extends\":null,\"module\":null,\"name\":\"FlexBox1\",\"overrides\":[],\"properties\":[{\"default\":\"flex-start\",\"kind\":null,\"name\":\"align_content\"},{\"default\":\"flex-start\",\"kind\":null,\"name\":\"align_items\"},{\"default\":\"row\",\"kind\":null,\"name\":\"flex_direction\"},{\"default\":\"wrap\",\"kind\":null,\"name\":\"flex_wrap\"},{\"default\":\"flex-start\",\"kind\":null,\"name\":\"justify_content\"}]},{\"extends\":null,\"module\":null,\"name\":\"GridStack1\",\"overrides\":[],\"properties\":[{\"default\":\"warn\",\"kind\":null,\"name\":\"mode\"},{\"default\":null,\"kind\":null,\"name\":\"ncols\"},{\"default\":null,\"kind\":null,\"name\":\"nrows\"},{\"default\":true,\"kind\":null,\"name\":\"allow_resize\"},{\"default\":true,\"kind\":null,\"name\":\"allow_drag\"},{\"default\":[],\"kind\":null,\"name\":\"state\"}]},{\"extends\":null,\"module\":null,\"name\":\"click1\",\"overrides\":[],\"properties\":[{\"default\":\"\",\"kind\":null,\"name\":\"terminal_output\"},{\"default\":\"\",\"kind\":null,\"name\":\"debug_name\"},{\"default\":0,\"kind\":null,\"name\":\"clears\"}]},{\"extends\":null,\"module\":null,\"name\":\"NotificationAreaBase1\",\"overrides\":[],\"properties\":[{\"default\":\"bottom-right\",\"kind\":null,\"name\":\"position\"},{\"default\":0,\"kind\":null,\"name\":\"_clear\"}]},{\"extends\":null,\"module\":null,\"name\":\"NotificationArea1\",\"overrides\":[],\"properties\":[{\"default\":[],\"kind\":null,\"name\":\"notifications\"},{\"default\":\"bottom-right\",\"kind\":null,\"name\":\"position\"},{\"default\":0,\"kind\":null,\"name\":\"_clear\"},{\"default\":[{\"background\":\"#ffc107\",\"icon\":{\"className\":\"fas fa-exclamation-triangle\",\"color\":\"white\",\"tagName\":\"i\"},\"type\":\"warning\"},{\"background\":\"#007bff\",\"icon\":{\"className\":\"fas fa-info-circle\",\"color\":\"white\",\"tagName\":\"i\"},\"type\":\"info\"}],\"kind\":null,\"name\":\"types\"}]},{\"extends\":null,\"module\":null,\"name\":\"Notification\",\"overrides\":[],\"properties\":[{\"default\":null,\"kind\":null,\"name\":\"background\"},{\"default\":3000,\"kind\":null,\"name\":\"duration\"},{\"default\":null,\"kind\":null,\"name\":\"icon\"},{\"default\":\"\",\"kind\":null,\"name\":\"message\"},{\"default\":null,\"kind\":null,\"name\":\"notification_type\"},{\"default\":false,\"kind\":null,\"name\":\"_destroyed\"}]},{\"extends\":null,\"module\":null,\"name\":\"TemplateActions1\",\"overrides\":[],\"properties\":[{\"default\":0,\"kind\":null,\"name\":\"open_modal\"},{\"default\":0,\"kind\":null,\"name\":\"close_modal\"}]},{\"extends\":null,\"module\":null,\"name\":\"MaterialTemplateActions1\",\"overrides\":[],\"properties\":[{\"default\":0,\"kind\":null,\"name\":\"open_modal\"},{\"default\":0,\"kind\":null,\"name\":\"close_modal\"}]}],\"roots\":{\"references\":[{\"attributes\":{\"fill_color\":{\"field\":\"color\",\"transform\":{\"id\":\"1052\"}},\"hatch_color\":{\"field\":\"color\",\"transform\":{\"id\":\"1052\"}},\"line_color\":{\"field\":\"color\",\"transform\":{\"id\":\"1052\"}},\"size\":{\"value\":5},\"tags\":[\"apply_ranges\"],\"x\":{\"field\":\"x\"},\"y\":{\"field\":\"y\"}},\"id\":\"1058\",\"type\":\"Scatter\"},{\"attributes\":{\"line_color\":{\"field\":\"color\",\"transform\":{\"id\":\"1042\"}},\"tags\":[\"apply_ranges\"],\"x0\":{\"field\":\"x0\"},\"x1\":{\"field\":\"x1\"},\"y0\":{\"field\":\"y0\"},\"y1\":{\"field\":\"y1\"}},\"id\":\"1046\",\"type\":\"Segment\"},{\"attributes\":{\"end\":0.9883855242643513,\"reset_end\":0.9883855242643513,\"reset_start\":-0.045173431110148286,\"start\":-0.045173431110148286,\"tags\":[[[\"x\",\"x\",null]],[]]},\"id\":\"1003\",\"type\":\"Range1d\"},{\"attributes\":{},\"id\":\"1038\",\"type\":\"AllLabels\"},{\"attributes\":{},\"id\":\"1054\",\"type\":\"Selection\"},{\"attributes\":{\"source\":{\"id\":\"1043\"}},\"id\":\"1050\",\"type\":\"CDSView\"},{\"attributes\":{},\"id\":\"1076\",\"type\":\"UnionRenderers\"},{\"attributes\":{\"end\":1.0413585087881327,\"reset_end\":1.0413585087881327,\"reset_start\":-0.04627389262202541,\"start\":-0.04627389262202541,\"tags\":[[[\"y\",\"y\",null]],{\"autorange\":false,\"invert_yaxis\":false}]},\"id\":\"1004\",\"type\":\"Range1d\"},{\"attributes\":{\"active_drag\":{\"id\":\"1025\"},\"active_scroll\":{\"id\":\"1026\"},\"tools\":[{\"id\":\"1024\"},{\"id\":\"1025\"},{\"id\":\"1026\"},{\"id\":\"1027\"},{\"id\":\"1028\"}]},\"id\":\"1030\",\"type\":\"Toolbar\"},{\"attributes\":{\"bottom_units\":\"screen\",\"coordinates\":null,\"fill_alpha\":0.5,\"fill_color\":\"lightgrey\",\"group\":null,\"left_units\":\"screen\",\"level\":\"overlay\",\"line_alpha\":1.0,\"line_color\":\"black\",\"line_dash\":[4,4],\"line_width\":2,\"right_units\":\"screen\",\"syncable\":false,\"top_units\":\"screen\"},\"id\":\"1029\",\"type\":\"BoxAnnotation\"},{\"attributes\":{},\"id\":\"1015\",\"type\":\"LinearScale\"},{\"attributes\":{\"coordinates\":null,\"group\":null,\"text_color\":\"black\",\"text_font_size\":\"12pt\"},\"id\":\"1008\",\"type\":\"Title\"},{\"attributes\":{\"fill_alpha\":{\"value\":0.2},\"fill_color\":{\"field\":\"color\",\"transform\":{\"id\":\"1052\"}},\"hatch_alpha\":{\"value\":0.2},\"hatch_color\":{\"field\":\"color\",\"transform\":{\"id\":\"1052\"}},\"line_alpha\":{\"value\":0.2},\"line_color\":{\"field\":\"color\",\"transform\":{\"id\":\"1052\"}},\"size\":{\"value\":5},\"tags\":[\"apply_ranges\"],\"x\":{\"field\":\"x\"},\"y\":{\"field\":\"y\"}},\"id\":\"1060\",\"type\":\"Scatter\"},{\"attributes\":{},\"id\":\"1017\",\"type\":\"BasicTicker\"},{\"attributes\":{},\"id\":\"1014\",\"type\":\"LinearScale\"},{\"attributes\":{\"high\":49.0,\"low\":0.0,\"palette\":[\"#3182bd\",\"#3182bd\",\"#3182bd\",\"#3182bd\",\"#3182bd\",\"#3182bd\",\"#3182bd\",\"#3182bd\",\"#3182bd\",\"#3182bd\",\"#3182bd\",\"#3182bd\",\"#3182bd\",\"#6baed6\",\"#6baed6\",\"#6baed6\",\"#6baed6\",\"#6baed6\",\"#6baed6\",\"#6baed6\",\"#6baed6\",\"#6baed6\",\"#6baed6\",\"#6baed6\",\"#6baed6\",\"#6baed6\",\"#9ecae1\",\"#9ecae1\",\"#9ecae1\",\"#9ecae1\",\"#9ecae1\",\"#9ecae1\",\"#9ecae1\",\"#9ecae1\",\"#9ecae1\",\"#9ecae1\",\"#9ecae1\",\"#9ecae1\",\"#9ecae1\",\"#c6dbef\",\"#c6dbef\",\"#c6dbef\",\"#c6dbef\",\"#c6dbef\",\"#c6dbef\",\"#c6dbef\",\"#c6dbef\",\"#c6dbef\",\"#c6dbef\",\"#c6dbef\",\"#c6dbef\",\"#e6550d\",\"#e6550d\",\"#e6550d\",\"#e6550d\",\"#e6550d\",\"#e6550d\",\"#e6550d\",\"#e6550d\",\"#e6550d\",\"#e6550d\",\"#e6550d\",\"#e6550d\",\"#e6550d\",\"#fd8d3c\",\"#fd8d3c\",\"#fd8d3c\",\"#fd8d3c\",\"#fd8d3c\",\"#fd8d3c\",\"#fd8d3c\",\"#fd8d3c\",\"#fd8d3c\",\"#fd8d3c\",\"#fd8d3c\",\"#fd8d3c\",\"#fd8d3c\",\"#fdae6b\",\"#fdae6b\",\"#fdae6b\",\"#fdae6b\",\"#fdae6b\",\"#fdae6b\",\"#fdae6b\",\"#fdae6b\",\"#fdae6b\",\"#fdae6b\",\"#fdae6b\",\"#fdae6b\",\"#fdae6b\",\"#fdd0a2\",\"#fdd0a2\",\"#fdd0a2\",\"#fdd0a2\",\"#fdd0a2\",\"#fdd0a2\",\"#fdd0a2\",\"#fdd0a2\",\"#fdd0a2\",\"#fdd0a2\",\"#fdd0a2\",\"#fdd0a2\",\"#31a354\",\"#31a354\",\"#31a354\",\"#31a354\",\"#31a354\",\"#31a354\",\"#31a354\",\"#31a354\",\"#31a354\",\"#31a354\",\"#31a354\",\"#31a354\",\"#31a354\",\"#74c476\",\"#74c476\",\"#74c476\",\"#74c476\",\"#74c476\",\"#74c476\",\"#74c476\",\"#74c476\",\"#74c476\",\"#74c476\",\"#74c476\",\"#74c476\",\"#74c476\",\"#a1d99b\",\"#a1d99b\",\"#a1d99b\",\"#a1d99b\",\"#a1d99b\",\"#a1d99b\",\"#a1d99b\",\"#a1d99b\",\"#a1d99b\",\"#a1d99b\",\"#a1d99b\",\"#a1d99b\",\"#a1d99b\",\"#c7e9c0\",\"#c7e9c0\",\"#c7e9c0\",\"#c7e9c0\",\"#c7e9c0\",\"#c7e9c0\",\"#c7e9c0\",\"#c7e9c0\",\"#c7e9c0\",\"#c7e9c0\",\"#c7e9c0\",\"#c7e9c0\",\"#756bb1\",\"#756bb1\",\"#756bb1\",\"#756bb1\",\"#756bb1\",\"#756bb1\",\"#756bb1\",\"#756bb1\",\"#756bb1\",\"#756bb1\",\"#756bb1\",\"#756bb1\",\"#756bb1\",\"#9e9ac8\",\"#9e9ac8\",\"#9e9ac8\",\"#9e9ac8\",\"#9e9ac8\",\"#9e9ac8\",\"#9e9ac8\",\"#9e9ac8\",\"#9e9ac8\",\"#9e9ac8\",\"#9e9ac8\",\"#9e9ac8\",\"#9e9ac8\",\"#bcbddc\",\"#bcbddc\",\"#bcbddc\",\"#bcbddc\",\"#bcbddc\",\"#bcbddc\",\"#bcbddc\",\"#bcbddc\",\"#bcbddc\",\"#bcbddc\",\"#bcbddc\",\"#bcbddc\",\"#bcbddc\",\"#dadaeb\",\"#dadaeb\",\"#dadaeb\",\"#dadaeb\",\"#dadaeb\",\"#dadaeb\",\"#dadaeb\",\"#dadaeb\",\"#dadaeb\",\"#dadaeb\",\"#dadaeb\",\"#dadaeb\",\"#636363\",\"#636363\",\"#636363\",\"#636363\",\"#636363\",\"#636363\",\"#636363\",\"#636363\",\"#636363\",\"#636363\",\"#636363\",\"#636363\",\"#636363\",\"#969696\",\"#969696\",\"#969696\",\"#969696\",\"#969696\",\"#969696\",\"#969696\",\"#969696\",\"#969696\",\"#969696\",\"#969696\",\"#969696\",\"#969696\",\"#bdbdbd\",\"#bdbdbd\",\"#bdbdbd\",\"#bdbdbd\",\"#bdbdbd\",\"#bdbdbd\",\"#bdbdbd\",\"#bdbdbd\",\"#bdbdbd\",\"#bdbdbd\",\"#bdbdbd\",\"#bdbdbd\",\"#bdbdbd\",\"#d9d9d9\",\"#d9d9d9\",\"#d9d9d9\",\"#d9d9d9\",\"#d9d9d9\",\"#d9d9d9\",\"#d9d9d9\",\"#d9d9d9\",\"#d9d9d9\",\"#d9d9d9\",\"#d9d9d9\",\"#d9d9d9\",\"#d9d9d9\"]},\"id\":\"1052\",\"type\":\"LinearColorMapper\"},{\"attributes\":{\"fill_color\":{\"field\":\"color\",\"transform\":{\"id\":\"1052\"}},\"hatch_color\":{\"field\":\"color\",\"transform\":{\"id\":\"1052\"}},\"line_color\":{\"field\":\"color\",\"transform\":{\"id\":\"1052\"}},\"size\":{\"value\":5},\"tags\":[\"apply_ranges\"],\"x\":{\"field\":\"x\"},\"y\":{\"field\":\"y\"}},\"id\":\"1059\",\"type\":\"Scatter\"},{\"attributes\":{\"axis_label\":\"x\",\"coordinates\":null,\"formatter\":{\"id\":\"1037\"},\"group\":null,\"major_label_policy\":{\"id\":\"1038\"},\"ticker\":{\"id\":\"1017\"}},\"id\":\"1016\",\"type\":\"LinearAxis\"},{\"attributes\":{\"coordinates\":null,\"data_source\":{\"id\":\"1053\"},\"glyph\":{\"id\":\"1056\"},\"group\":null,\"hover_glyph\":{\"id\":\"1059\"},\"muted_glyph\":{\"id\":\"1060\"},\"nonselection_glyph\":{\"id\":\"1057\"},\"selection_glyph\":{\"id\":\"1058\"},\"view\":{\"id\":\"1062\"}},\"id\":\"1061\",\"type\":\"GlyphRenderer\"},{\"attributes\":{\"axis\":{\"id\":\"1016\"},\"coordinates\":null,\"grid_line_color\":null,\"group\":null,\"ticker\":null},\"id\":\"1019\",\"type\":\"Grid\"},{\"attributes\":{\"line_alpha\":{\"value\":1.0},\"line_cap\":{\"value\":\"butt\"},\"line_color\":{\"field\":\"color\",\"transform\":{\"id\":\"1042\"}},\"line_dash\":{\"value\":[]},\"line_dash_offset\":{\"value\":0},\"line_join\":{\"value\":\"bevel\"},\"line_width\":{\"value\":1},\"tags\":[\"apply_ranges\"],\"x0\":{\"field\":\"x0\"},\"x1\":{\"field\":\"x1\"},\"y0\":{\"field\":\"y0\"},\"y1\":{\"field\":\"y1\"}},\"id\":\"1051\",\"type\":\"Segment\"},{\"attributes\":{},\"id\":\"1044\",\"type\":\"Selection\"},{\"attributes\":{\"axis_label\":\"y\",\"coordinates\":null,\"formatter\":{\"id\":\"1040\"},\"group\":null,\"major_label_policy\":{\"id\":\"1041\"},\"ticker\":{\"id\":\"1021\"}},\"id\":\"1020\",\"type\":\"LinearAxis\"},{\"attributes\":{},\"id\":\"1037\",\"type\":\"BasicTickFormatter\"},{\"attributes\":{\"axis\":{\"id\":\"1020\"},\"coordinates\":null,\"dimension\":1,\"grid_line_color\":null,\"group\":null,\"ticker\":null},\"id\":\"1023\",\"type\":\"Grid\"},{\"attributes\":{},\"id\":\"1021\",\"type\":\"BasicTicker\"},{\"attributes\":{\"high\":49,\"low\":0,\"palette\":[\"#3182bd\",\"#3182bd\",\"#3182bd\",\"#3182bd\",\"#3182bd\",\"#3182bd\",\"#3182bd\",\"#3182bd\",\"#3182bd\",\"#3182bd\",\"#3182bd\",\"#3182bd\",\"#3182bd\",\"#6baed6\",\"#6baed6\",\"#6baed6\",\"#6baed6\",\"#6baed6\",\"#6baed6\",\"#6baed6\",\"#6baed6\",\"#6baed6\",\"#6baed6\",\"#6baed6\",\"#6baed6\",\"#6baed6\",\"#9ecae1\",\"#9ecae1\",\"#9ecae1\",\"#9ecae1\",\"#9ecae1\",\"#9ecae1\",\"#9ecae1\",\"#9ecae1\",\"#9ecae1\",\"#9ecae1\",\"#9ecae1\",\"#9ecae1\",\"#9ecae1\",\"#c6dbef\",\"#c6dbef\",\"#c6dbef\",\"#c6dbef\",\"#c6dbef\",\"#c6dbef\",\"#c6dbef\",\"#c6dbef\",\"#c6dbef\",\"#c6dbef\",\"#c6dbef\",\"#c6dbef\",\"#e6550d\",\"#e6550d\",\"#e6550d\",\"#e6550d\",\"#e6550d\",\"#e6550d\",\"#e6550d\",\"#e6550d\",\"#e6550d\",\"#e6550d\",\"#e6550d\",\"#e6550d\",\"#e6550d\",\"#fd8d3c\",\"#fd8d3c\",\"#fd8d3c\",\"#fd8d3c\",\"#fd8d3c\",\"#fd8d3c\",\"#fd8d3c\",\"#fd8d3c\",\"#fd8d3c\",\"#fd8d3c\",\"#fd8d3c\",\"#fd8d3c\",\"#fd8d3c\",\"#fdae6b\",\"#fdae6b\",\"#fdae6b\",\"#fdae6b\",\"#fdae6b\",\"#fdae6b\",\"#fdae6b\",\"#fdae6b\",\"#fdae6b\",\"#fdae6b\",\"#fdae6b\",\"#fdae6b\",\"#fdae6b\",\"#fdd0a2\",\"#fdd0a2\",\"#fdd0a2\",\"#fdd0a2\",\"#fdd0a2\",\"#fdd0a2\",\"#fdd0a2\",\"#fdd0a2\",\"#fdd0a2\",\"#fdd0a2\",\"#fdd0a2\",\"#fdd0a2\",\"#31a354\",\"#31a354\",\"#31a354\",\"#31a354\",\"#31a354\",\"#31a354\",\"#31a354\",\"#31a354\",\"#31a354\",\"#31a354\",\"#31a354\",\"#31a354\",\"#31a354\",\"#74c476\",\"#74c476\",\"#74c476\",\"#74c476\",\"#74c476\",\"#74c476\",\"#74c476\",\"#74c476\",\"#74c476\",\"#74c476\",\"#74c476\",\"#74c476\",\"#74c476\",\"#a1d99b\",\"#a1d99b\",\"#a1d99b\",\"#a1d99b\",\"#a1d99b\",\"#a1d99b\",\"#a1d99b\",\"#a1d99b\",\"#a1d99b\",\"#a1d99b\",\"#a1d99b\",\"#a1d99b\",\"#a1d99b\",\"#c7e9c0\",\"#c7e9c0\",\"#c7e9c0\",\"#c7e9c0\",\"#c7e9c0\",\"#c7e9c0\",\"#c7e9c0\",\"#c7e9c0\",\"#c7e9c0\",\"#c7e9c0\",\"#c7e9c0\",\"#c7e9c0\",\"#756bb1\",\"#756bb1\",\"#756bb1\",\"#756bb1\",\"#756bb1\",\"#756bb1\",\"#756bb1\",\"#756bb1\",\"#756bb1\",\"#756bb1\",\"#756bb1\",\"#756bb1\",\"#756bb1\",\"#9e9ac8\",\"#9e9ac8\",\"#9e9ac8\",\"#9e9ac8\",\"#9e9ac8\",\"#9e9ac8\",\"#9e9ac8\",\"#9e9ac8\",\"#9e9ac8\",\"#9e9ac8\",\"#9e9ac8\",\"#9e9ac8\",\"#9e9ac8\",\"#bcbddc\",\"#bcbddc\",\"#bcbddc\",\"#bcbddc\",\"#bcbddc\",\"#bcbddc\",\"#bcbddc\",\"#bcbddc\",\"#bcbddc\",\"#bcbddc\",\"#bcbddc\",\"#bcbddc\",\"#bcbddc\",\"#dadaeb\",\"#dadaeb\",\"#dadaeb\",\"#dadaeb\",\"#dadaeb\",\"#dadaeb\",\"#dadaeb\",\"#dadaeb\",\"#dadaeb\",\"#dadaeb\",\"#dadaeb\",\"#dadaeb\",\"#636363\",\"#636363\",\"#636363\",\"#636363\",\"#636363\",\"#636363\",\"#636363\",\"#636363\",\"#636363\",\"#636363\",\"#636363\",\"#636363\",\"#636363\",\"#969696\",\"#969696\",\"#969696\",\"#969696\",\"#969696\",\"#969696\",\"#969696\",\"#969696\",\"#969696\",\"#969696\",\"#969696\",\"#969696\",\"#969696\",\"#bdbdbd\",\"#bdbdbd\",\"#bdbdbd\",\"#bdbdbd\",\"#bdbdbd\",\"#bdbdbd\",\"#bdbdbd\",\"#bdbdbd\",\"#bdbdbd\",\"#bdbdbd\",\"#bdbdbd\",\"#bdbdbd\",\"#bdbdbd\",\"#d9d9d9\",\"#d9d9d9\",\"#d9d9d9\",\"#d9d9d9\",\"#d9d9d9\",\"#d9d9d9\",\"#d9d9d9\",\"#d9d9d9\",\"#d9d9d9\",\"#d9d9d9\",\"#d9d9d9\",\"#d9d9d9\",\"#d9d9d9\"]},\"id\":\"1042\",\"type\":\"LinearColorMapper\"},{\"attributes\":{},\"id\":\"1041\",\"type\":\"AllLabels\"},{\"attributes\":{},\"id\":\"1026\",\"type\":\"WheelZoomTool\"},{\"attributes\":{\"coordinates\":null,\"data_source\":{\"id\":\"1043\"},\"glyph\":{\"id\":\"1046\"},\"group\":null,\"hover_glyph\":null,\"muted_glyph\":{\"id\":\"1048\"},\"nonselection_glyph\":{\"id\":\"1047\"},\"selection_glyph\":{\"id\":\"1051\"},\"view\":{\"id\":\"1050\"}},\"id\":\"1049\",\"type\":\"GlyphRenderer\"},{\"attributes\":{},\"id\":\"1025\",\"type\":\"PanTool\"},{\"attributes\":{},\"id\":\"1040\",\"type\":\"BasicTickFormatter\"},{\"attributes\":{},\"id\":\"1024\",\"type\":\"SaveTool\"},{\"attributes\":{\"source\":{\"id\":\"1053\"}},\"id\":\"1062\",\"type\":\"CDSView\"},{\"attributes\":{\"line_alpha\":{\"value\":0.1},\"line_color\":{\"field\":\"color\",\"transform\":{\"id\":\"1042\"}},\"tags\":[\"apply_ranges\"],\"x0\":{\"field\":\"x0\"},\"x1\":{\"field\":\"x1\"},\"y0\":{\"field\":\"y0\"},\"y1\":{\"field\":\"y1\"}},\"id\":\"1047\",\"type\":\"Segment\"},{\"attributes\":{\"overlay\":{\"id\":\"1029\"}},\"id\":\"1027\",\"type\":\"BoxZoomTool\"},{\"attributes\":{\"below\":[{\"id\":\"1016\"}],\"center\":[{\"id\":\"1019\"},{\"id\":\"1023\"}],\"height\":300,\"left\":[{\"id\":\"1020\"}],\"margin\":[5,5,5,5],\"min_border_bottom\":10,\"min_border_left\":10,\"min_border_right\":10,\"min_border_top\":10,\"output_backend\":\"webgl\",\"renderers\":[{\"id\":\"1049\"},{\"id\":\"1061\"}],\"sizing_mode\":\"fixed\",\"title\":{\"id\":\"1008\"},\"toolbar\":{\"id\":\"1030\"},\"width\":300,\"x_range\":{\"id\":\"1003\"},\"x_scale\":{\"id\":\"1014\"},\"y_range\":{\"id\":\"1004\"},\"y_scale\":{\"id\":\"1015\"}},\"id\":\"1007\",\"subtype\":\"Figure\",\"type\":\"Plot\"},{\"attributes\":{\"children\":[{\"id\":\"1007\"}],\"height\":300,\"margin\":[0,0,0,0],\"name\":\"Row00810\",\"sizing_mode\":\"fixed\",\"tags\":[\"embedded\"],\"width\":300},\"id\":\"1002\",\"type\":\"Row\"},{\"attributes\":{\"data\":{\"color\":[0,1,2,3,4,5,6,7,8,9,10,11,12,13,14,15,16,17,18,19,20,21,22,23,24,25,26,27,28,29,30,31,32,33,34,35,36,37,38,39,40,41,42,43,44,45,46,47,48,49,0,1,2,3,4,5,6,7,8,9,10,11,12,13,14,15,16,17,18,19,20,21,22,23,24,25,26,27,28,29,30,31,32,33,34,35,36,37,38,39,40,41,42,43,44,45,46,47,48,49,0,1,2,3,4,5,6,7,8,9,10,11,12,13,14,15,16,17,18,19,20,21,22,23,24,25,26,27,28,29,30,31,32,33,34,35,36,37,38,39,40,41,42,43,44,45,46,47,48,49],\"x0\":{\"__ndarray__\":\"Ey9WT9J6rT8gdEo96avXPwzhtKrQhew/35+Fcl2E1D/t4wEPyo3bP5fd16Sxw+s/3XuhIEBgoD89JkSw+VnTP6IoYgLMStw/7J06Z8hd6z8W17+chPedPyr60gBKJOI/PFJFCJyq6j9hFfkzVoLhP6r1QLLdIus/PMebxVYdzD/azkjMqTHpP8C3GUKBQOU/mg/sX8bm4T9k1AHOnzHrP0E0Wh9YCK8/ksEcuJxE5T9Kd9lS1ePpP/RAase76+M/uSX5M90s6z/wRXVZviLhP930ozJB6b4/cp3LKpBbjj9OqNo7xubZP1I7znF5tuA/VWrqX3sUxT8t1YAwMT7tPwv7lO+ipOk/Bx/8rryG5T/GRv8+9orWP8a3lTaBKcw/tWgiLhMR5z8mMsbKFf7eP996i0JJCO8/19cgV/rMzD8/s5oAAObCP2RHhEF2xeI/IEsy3SO7mT/B6ahus+HNP40kJZRDN94/4qhJNw/l4z9KzmfEHAbtP9P33GxL4tw/mBcIvZ7snj/g7zhXMKDWPxMvVk/Seq0/IHRKPemr1z8M4bSq0IXsP9+fhXJdhNQ/7eMBD8qN2z+X3dekscPrP917oSBAYKA/PSZEsPlZ0z+iKGICzErcP+ydOmfIXes/Fte/nIT3nT8q+tIASiTiPzxSRQicquo/YRX5M1aC4T+q9UCy3SLrPzzHm8VWHcw/2s5IzKkx6T/AtxlCgUDlP5oP7F/G5uE/ZNQBzp8x6z9BNFofWAivP5LBHLicROU/SnfZUtXj6T/0QGrHu+vjP7kl+TPdLOs/8EV1Wb4i4T/d9KMyQem+P3KdyyqQW44/TqjaO8bm2T9SO85xebbgP1Vq6l97FMU/LdWAMDE+7T8L+5TvoqTpPwcf/K68huU/xkb/PvaK1j/Gt5U2gSnMP7VoIi4TEec/JjLGyhX+3j/feotCSQjvP9fXIFf6zMw/P7OaAADmwj9kR4RBdsXiPyBLMt0ju5k/wemobrPhzT+NJCWUQzfeP+KoSTcP5eM/Ss5nxBwG7T/T99xsS+LcP5gXCL2e7J4/4O84VzCg1j8TL1ZP0nqtPyB0Sj3pq9c/DOG0qtCF7D/fn4VyXYTUP+3jAQ/Kjds/l93XpLHD6z/de6EgQGCgPz0mRLD5WdM/oihiAsxK3D/snTpnyF3rPxbXv5yE950/KvrSAEok4j88UkUInKrqP2EV+TNWguE/qvVAst0i6z88x5vFVh3MP9rOSMypMek/wLcZQoFA5T+aD+xfxubhP2TUAc6fMes/QTRaH1gIrz+SwRy4nETlP0p32VLV4+k/9EBqx7vr4z+5Jfkz3SzrP/BFdVm+IuE/3fSjMkHpvj9yncsqkFuOP06o2jvG5tk/UjvOcXm24D9VaupfexTFPy3VgDAxPu0/C/uU76Kk6T8HH/yuvIblP8ZG/z72itY/xreVNoEpzD+1aCIuExHnPyYyxsoV/t4/33qLQkkI7z/X1yBX+szMPz+zmgAA5sI/ZEeEQXbF4j8gSzLdI7uZP8HpqG6z4c0/jSQllEM33j/iqEk3D+XjP0rOZ8QcBu0/0/fcbEvi3D+YFwi9nuyeP+DvOFcwoNY/\",\"dtype\":\"float64\",\"order\":\"little\",\"shape\":[150]},\"x1\":{\"__ndarray__\":\"kM9chcw6rj+YCI68sjTXP0O68bh7K+0/LGf/c0rZ0z/++v4DdLXbP/vGyND9muw/QJK7Ze2elD98gSrDuevTP3B8paAxUtw/G/pmQwjw6z8Ag+lRxeeMP/NINy0+NuI/4A13yd4A6z/hnR28nw/hP/c+xjh/Ouo/lK7hie5wyj/3rrQGO4DoPz/g5pYB2OU/BzGDviuG4T99g/MCPjjrP4AmV5+E97A/ksEcuJxE5T/VYmU5yNvpP0LRZ59PP+M/VNFauxYu6j96vRCd5xbhP+jcxKvwtLc/ANIrlxmZXT+U1AYE5DraP+5y/R8ljeE/cCSUTlmlxj/luQLEPPntP8I7QaHMxek/etKOtJc35j+i9qWZVKnXP9AaR0Lj0Mg/Fg4yvsDw5z/G1uvYE+LfP6Sp3ZP+H+4/7KpRSXLCzj9Y+dFH6S/HP055xiYGpuM/AF+gmdYojT/YMhsune3PPxqNvuAIYt4/3y5OFjHl4z+OyOEqBKjsP3YTYRdZr9s/wEDe9yfWmD/yJ3q2URDWPxugyPcAFK0/L1kugtiw1z+wj3MWtZXsP6FKJ178XtQ/lhpyhOCJ2z8ODHWpKAPsP0caX7sXnaA/4t0gfn4l0z8PhI60fYLcP7fBx41kd+s/1SvqQJcLlz/cRES3xC7iPzsE/ojBxOo/RoffxFxQ4T8djkhoVwfrP0Q829UGgcs/d78i+7Uq6T888srlGWvlP4f8ysjF0OE/Lkc5NiRZ6z/O5M5AoAawP5LBHLicROU/LNhD8mG96T95Ogmi7N/jP3NAG+Ef6eo/8e0iBuAa4T8yrwVIipG8PzC0lR1nXIY/pWZIYB6o2T8rbDY2bv3gP3ONEjZ2n8Q/VX2SgG8w7T8ItZi8gsTpPyxuc9RFqOU/gGM1mQvh1j9A+2OdK4LLP4mkh7hXM+c/CP1eGFka3z+irwPRi7TuP8JLNvDUrM0/lvyo2VsZwz/3sdpYQBrjP8E75+q0l5w/YTyEcUGKzj/uRxBg21TeP+VEw++s2+M/nAhBnNsT7T9bBPCpScXcPxyuOchao58/8JUX5lOY1j+VPyJ2gyWuP2B51gzUfNc/UVKG0X6w7D9Xo4CoQm3UP3ZA2JC5n9s/hjOgIlnQ6z+NL9ya1PybP2J40bH8wdM/tFH3zrcV3D/MCPs94XfrP4fDFdJCZ58/wrOCSCgg4j/mp1f29a7qP/teyQXBi+E/MxsqVzzs6j87m++3LyLMP+lfcD3i+eg/Jnda83hL5T8FG+Vdn9rhPwL+4mNyDOs/xI3UiAQKrz+SwRy4nETlP3RRAv5vB+o/BUXnBZW64z+TEaHmhhbrP9P84CVtJuE/t9zj0Oe0vj93OuC37O2MP3vE4G4rQ9o/CV7JcWq74D9YK8feOhfGP9a6BEcUju0/8bD0sXyQ6T+9HrWsuqPlP7KmmAQgmtY/9tPHsPqhyz/KacWo4z3nPwsLdgFuMt8/lG9mDuYJ7z+M4Ex+a57MP3euj7zPNsQ/NqWENBHA4j/hJf/2Ru2SP7Ccq55g8s0/NtGp8coo3j8P+3p4fe7jP6lFZVEZ1+w/lsffjMeS3D9UGO6j4g6cP3fScjAvddY/\",\"dtype\":\"float64\",\"order\":\"little\",\"shape\":[150]},\"y0\":{\"__ndarray__\":\"owWtwL6P7D/Hp8vGpiHVP2MPAT6YTdU/nlGpJ/Rw5j9yFvR4Q3/dPzOf4qT8Ous/f2SzWSS7zj8AZOpnY5m7P/cSfqtIs+s/eYLGBTU90j+jTdEWSZ6nPzUiUpDRk+Y/7GjP6nDm4T/BqlduGm/pP7fBGSO3LdU/+AsF3jjY4D+wvYCFGUTiPyYngJHQOLU/i1HtJ4L/5j8/uBVGlA/wP+odiK/85OM/Xky0APtl0j+6TVt7hSDaP0686hgiV+0/XPlUTOafib/yQQTCPprpP048PbS9zaU/UcoX66sv4z9LCftAT1rUP1BKX54Q/+I/g/3MTm5Z5D91pdFr3FnjP3CuAXan/6g/KAjG5Z8a2z+NnsMbtRnsP4XMuo5uKLU/ntLhXWSm6D/e7F7R2YzoP7WzBFzZQec/G63dg2uQ5j9Q6BuGu+/pP+RL8Zh7GtU/R3ItEz+euT/k52ZKTnanP3zpt8W2H+8/SEvRNJmI7z8LjKTPcvndP+cxlduc7ew/1hKOM76+5T+er7L/AzTtP6MFrcC+j+w/x6fLxqYh1T9jDwE+mE3VP55RqSf0cOY/chb0eEN/3T8zn+Kk/DrrP39ks1kku84/AGTqZ2OZuz/3En6rSLPrP3mCxgU1PdI/o03RFkmepz81IlKQ0ZPmP+xoz+pw5uE/wapXbhpv6T+3wRkjty3VP/gLBd442OA/sL2AhRlE4j8mJ4CR0Di1P4tR7SeC/+Y/P7gVRpQP8D/qHYiv/OTjP15MtAD7ZdI/uk1be4Ug2j9OvOoYIlftP1z5VEzmn4m/8kEEwj6a6T9OPD20vc2lP1HKF+urL+M/Swn7QE9a1D9QSl+eEP/iP4P9zE5uWeQ/daXRa9xZ4z9wrgF2p/+oPygIxuWfGts/jZ7DG7UZ7D+FzLqObii1P57S4V1kpug/3uxe0dmM6D+1swRc2UHnPxut3YNrkOY/UOgbhrvv6T/kS/GYexrVP0dyLRM/nrk/5OdmSk52pz986bfFth/vP0hL0TSZiO8/C4ykz3L53T/nMZXbnO3sP9YSjjO+vuU/nq+y/wM07T+jBa3Avo/sP8eny8amIdU/Yw8BPphN1T+eUakn9HDmP3IW9HhDf90/M5/ipPw66z9/ZLNZJLvOPwBk6mdjmbs/9xJ+q0iz6z95gsYFNT3SP6NN0RZJnqc/NSJSkNGT5j/saM/qcObhP8GqV24ab+k/t8EZI7ct1T/4CwXeONjgP7C9gIUZROI/JieAkdA4tT+LUe0ngv/mPz+4FUaUD/A/6h2Ir/zk4z9eTLQA+2XSP7pNW3uFINo/TrzqGCJX7T9c+VRM5p+Jv/JBBMI+muk/Tjw9tL3NpT9Ryhfrqy/jP0sJ+0BPWtQ/UEpfnhD/4j+D/cxOblnkP3Wl0WvcWeM/cK4Bdqf/qD8oCMblnxrbP42ewxu1Gew/hcy6jm4otT+e0uFdZKboP97sXtHZjOg/tbMEXNlB5z8brd2Da5DmP1DoG4a77+k/5EvxmHsa1T9Hci0TP565P+TnZkpOdqc/fOm3xbYf7z9IS9E0mYjvPwuMpM9y+d0/5zGV25zt7D/WEo4zvr7lP56vsv8DNO0/\",\"dtype\":\"float64\",\"order\":\"little\",\"shape\":[150]},\"y1\":{\"__ndarray__\":\"5nT6YxjA7D8oofwkho7UP+L18Wwh5dU/3zgdGiSF5j9ImZsAD73dP9UFg81Fq+o/cHsbw+bgzD+QGXe980HBP/s7+590Ges/fjeyXfY/0j8oBHE4HrixP4X1yQV+auY/RR2FgMuo4T+n8eGNFhfqPyTT4dhhlNQ/eYKb4y1K4T+x0Dzq/rnhPxDMT5IjbbI/YKOiRF4b5z9n0MC2O0bvP4XvABUpt+M/Xky0APtl0j9eFV1icMPbP5T3+W+D7ew/ADmAZUXraT/+9YDE6rrpPwAwD7cN87A/eA+yKvx54z9eW0Ys3BDWP/yswttYROI/D0sjniNj5T/t0DKruWLkPwCYzGarmp8/AogMGewA2z88ToE9abXrP3AgCsBe3LU/Mm0j8jjE6D9ASWJR6K7oP/PCmytDM+g/lt7IuzXR5T/EhIf6k7nqP7yRHQBTHNM/mMlFfY/Isj+AwGv8/7+gP0B8XtVl4e4/q3QAbNC97z9eESpyvqHcP9jNc+oupuw/9s5H3rxt5T/+D+y6UALtP6vGGdNpmuw/B61XlpHy1D/u8aOL9KLVP1rTpsJmZeY/+3LK+jKR3T8i9aoipEfrP3mL5uSuIs4/kqwfbm85vT+Ap8iRvpjrPzlYR7NmcdI/3EN8MShWqD/N2wHYr4/mP5a+4djK6uE/W/QnQIV46T/KDOxsdMDUP/gAmhpv2eA/v06o9lEM4j9YIoYbjpC1P/Zc5iVb8+Y/HJoMIvv57z+Cwx92F+XjP15MtAD7ZdI/DwKt0bpn2j9fwGdX+yXtP/QCWqJ5NY+/1fhvju2d6T8CDL3wCmWlP8UcTF31KeM/eCUBdLS21D8HbVqeAQTjP8QthC4emuQ/HotVgr+p4z/IDP2bQ72nP5QHOOGbVNs/g06Q/kkh7D/mBB+DYRm0P7PThNg00+g/Udm27AWn6D9qqN8ndkPnP0ivqM3HhOY/HicZde9D6j+IB/J+sQ/VP/eooNnH6rc/oLNxCgO5pz/QP3p0ehjvP3WdAnYHku8/ynqf6Wub3T/ImZbr2sXsP9xCxVLQp+U/6qBPbIMe7T+S3iXWK5bsP7jC54G3HNU/G7KDZs8t1T89fNixpIPmP8nfgwMtg90/u3BFoIX76j/k/ANz7qvOP2uFdzBQa7w/QOVn0m+X6z/kOqy4/AnSP0QjvMQ/FKs/g9fg2VaJ5j/tthZqS8zhP9w4cd0Toek/0ZAKt8Nk1T+2LvXZTP/gPxPNplYNS+I/Q1P2cwvksz+eZA6/ghXnP7T98yOk9+8/lORjKa7U4z9eTLQA+2XSP/eLhjxsbdo/yMJLPvFi7T+QT7cpI2Fxv/GZVhUdouk/pMd5iSt9qj/2oUyPqE/jP/RKjRz3mNQ/dxn32Ru44j+89EKZr3bkP039vxueZ+M/nA7GpaoBpz/eadeajdfaPzCQqG6q7us/kkUewRl3tj/KlnzTH4ToP22Hkiq4fug/8n6MzZaV5z8gUJjddFjmP/pV2I/k4uk/vXZEaudw1D8fNsDPGue4P2Od+T4W1KQ/y1fC3+oQ7z9Fr1d8+5HvP2gX8h/13d0/o6sLvR387D8ihjRTCLnlP5ZcQzjyN+0/\",\"dtype\":\"float64\",\"order\":\"little\",\"shape\":[150]}},\"selected\":{\"id\":\"1044\"},\"selection_policy\":{\"id\":\"1074\"}},\"id\":\"1043\",\"type\":\"ColumnDataSource\"},{\"attributes\":{},\"id\":\"1028\",\"type\":\"ResetTool\"},{\"attributes\":{\"data\":{\"color\":{\"__ndarray__\":\"AAAAAAAAAAAAAAAAAAAAAAAAAAAAAAAAAAAAAAAAAAAAAAAAAAAAAAAAAAAAAAAAAAAAAAAAAAAAAAAAAAAAAAAAAAAAAAAAAAAAAAAAAAAAAAAAAAAAAAAAAAAAAAAAAAAAAAAAAAAAAAAAAAAAAAAAAAAAAAAAAAAAAAAAAAAAAAAAAAAAAAAAAAAAAAAAAAAAAAAAAAAAAAAAAAAAAAAAAAAAAAAAAAAAAAAAAAAAAAAAAAAAAAAAAAAAAAAAAAAAAAAAAAAAAAAAAAAAAAAAAAAAAAAAAAAAAAAAAAAAAAAAAAAAAAAAAAAAAAAAAAAAAAAAAAAAAAAAAAAAAAAAAAAAAAAAAAAAAAAAAAAAAAAAAAAAAAAAAAAAAAAAAAAAAAAAAAAAAAAAAAAAAAAAAAAAAAAAAAAAAAAAAAAAAAAAAAAAAAAAAAAAAAAAAAAAAAAAAAAAAAAAAAAAAAAAAAAAAAAAAAAAAAAAAAAAAAAAAAAAAAAAAAAAAAAAAAAAAAAAAAAAAAAAAAAAAAAAAAAAAPA/AAAAAAAA8D8AAAAAAADwPwAAAAAAAPA/AAAAAAAA8D8AAAAAAADwPwAAAAAAAPA/AAAAAAAA8D8AAAAAAADwPwAAAAAAAPA/AAAAAAAA8D8AAAAAAADwPwAAAAAAAPA/AAAAAAAA8D8AAAAAAADwPwAAAAAAAPA/AAAAAAAA8D8AAAAAAADwPwAAAAAAAPA/AAAAAAAA8D8AAAAAAADwPwAAAAAAAPA/AAAAAAAA8D8AAAAAAADwPwAAAAAAAPA/AAAAAAAA8D8AAAAAAADwPwAAAAAAAPA/AAAAAAAA8D8AAAAAAADwPwAAAAAAAPA/AAAAAAAA8D8AAAAAAADwPwAAAAAAAPA/AAAAAAAA8D8AAAAAAADwPwAAAAAAAPA/AAAAAAAA8D8AAAAAAADwPwAAAAAAAPA/AAAAAAAA8D8AAAAAAADwPwAAAAAAAPA/AAAAAAAA8D8AAAAAAADwPwAAAAAAAPA/AAAAAAAA8D8AAAAAAADwPwAAAAAAAPA/AAAAAAAA8D8AAAAAAAAAQAAAAAAAAABAAAAAAAAAAEAAAAAAAAAAQAAAAAAAAABAAAAAAAAAAEAAAAAAAAAAQAAAAAAAAABAAAAAAAAAAEAAAAAAAAAAQAAAAAAAAABAAAAAAAAAAEAAAAAAAAAAQAAAAAAAAABAAAAAAAAAAEAAAAAAAAAAQAAAAAAAAABAAAAAAAAAAEAAAAAAAAAAQAAAAAAAAABAAAAAAAAAAEAAAAAAAAAAQAAAAAAAAABAAAAAAAAAAEAAAAAAAAAAQAAAAAAAAABAAAAAAAAAAEAAAAAAAAAAQAAAAAAAAABAAAAAAAAAAEAAAAAAAAAAQAAAAAAAAABAAAAAAAAAAEAAAAAAAAAAQAAAAAAAAABAAAAAAAAAAEAAAAAAAAAAQAAAAAAAAABAAAAAAAAAAEAAAAAAAAAAQAAAAAAAAABAAAAAAAAAAEAAAAAAAAAAQAAAAAAAAABAAAAAAAAAAEAAAAAAAAAAQAAAAAAAAABAAAAAAAAAAEAAAAAAAAAAQAAAAAAAAABAAAAAAAAACEAAAAAAAAAIQAAAAAAAAAhAAAAAAAAACEAAAAAAAAAIQAAAAAAAAAhAAAAAAAAACEAAAAAAAAAIQAAAAAAAAAhAAAAAAAAACEAAAAAAAAAIQAAAAAAAAAhAAAAAAAAACEAAAAAAAAAIQAAAAAAAAAhAAAAAAAAACEAAAAAAAAAIQAAAAAAAAAhAAAAAAAAACEAAAAAAAAAIQAAAAAAAAAhAAAAAAAAACEAAAAAAAAAIQAAAAAAAAAhAAAAAAAAACEAAAAAAAAAIQAAAAAAAAAhAAAAAAAAACEAAAAAAAAAIQAAAAAAAAAhAAAAAAAAACEAAAAAAAAAIQAAAAAAAAAhAAAAAAAAACEAAAAAAAAAIQAAAAAAAAAhAAAAAAAAACEAAAAAAAAAIQAAAAAAAAAhAAAAAAAAACEAAAAAAAAAIQAAAAAAAAAhAAAAAAAAACEAAAAAAAAAIQAAAAAAAAAhAAAAAAAAACEAAAAAAAAAIQAAAAAAAAAhAAAAAAAAACEAAAAAAAAAIQAAAAAAAABBAAAAAAAAAEEAAAAAAAAAQQAAAAAAAABBAAAAAAAAAEEAAAAAAAAAQQAAAAAAAABBAAAAAAAAAEEAAAAAAAAAQQAAAAAAAABBAAAAAAAAAEEAAAAAAAAAQQAAAAAAAABBAAAAAAAAAEEAAAAAAAAAQQAAAAAAAABBAAAAAAAAAEEAAAAAAAAAQQAAAAAAAABBAAAAAAAAAEEAAAAAAAAAQQAAAAAAAABBAAAAAAAAAEEAAAAAAAAAQQAAAAAAAABBAAAAAAAAAEEAAAAAAAAAQQAAAAAAAABBAAAAAAAAAEEAAAAAAAAAQQAAAAAAAABBAAAAAAAAAEEAAAAAAAAAQQAAAAAAAABBAAAAAAAAAEEAAAAAAAAAQQAAAAAAAABBAAAAAAAAAEEAAAAAAAAAQQAAAAAAAABBAAAAAAAAAEEAAAAAAAAAQQAAAAAAAABBAAAAAAAAAEEAAAAAAAAAQQAAAAAAAABBAAAAAAAAAEEAAAAAAAAAQQAAAAAAAABBAAAAAAAAAEEAAAAAAAAAUQAAAAAAAABRAAAAAAAAAFEAAAAAAAAAUQAAAAAAAABRAAAAAAAAAFEAAAAAAAAAUQAAAAAAAABRAAAAAAAAAFEAAAAAAAAAUQAAAAAAAABRAAAAAAAAAFEAAAAAAAAAUQAAAAAAAABRAAAAAAAAAFEAAAAAAAAAUQAAAAAAAABRAAAAAAAAAFEAAAAAAAAAUQAAAAAAAABRAAAAAAAAAFEAAAAAAAAAUQAAAAAAAABRAAAAAAAAAFEAAAAAAAAAUQAAAAAAAABRAAAAAAAAAFEAAAAAAAAAUQAAAAAAAABRAAAAAAAAAFEAAAAAAAAAUQAAAAAAAABRAAAAAAAAAFEAAAAAAAAAUQAAAAAAAABRAAAAAAAAAFEAAAAAAAAAUQAAAAAAAABRAAAAAAAAAFEAAAAAAAAAUQAAAAAAAABRAAAAAAAAAFEAAAAAAAAAUQAAAAAAAABRAAAAAAAAAFEAAAAAAAAAUQAAAAAAAABRAAAAAAAAAFEAAAAAAAAAUQAAAAAAAABRAAAAAAAAAGEAAAAAAAAAYQAAAAAAAABhAAAAAAAAAGEAAAAAAAAAYQAAAAAAAABhAAAAAAAAAGEAAAAAAAAAYQAAAAAAAABhAAAAAAAAAGEAAAAAAAAAYQAAAAAAAABhAAAAAAAAAGEAAAAAAAAAYQAAAAAAAABhAAAAAAAAAGEAAAAAAAAAYQAAAAAAAABhAAAAAAAAAGEAAAAAAAAAYQAAAAAAAABhAAAAAAAAAGEAAAAAAAAAYQAAAAAAAABhAAAAAAAAAGEAAAAAAAAAYQAAAAAAAABhAAAAAAAAAGEAAAAAAAAAYQAAAAAAAABhAAAAAAAAAGEAAAAAAAAAYQAAAAAAAABhAAAAAAAAAGEAAAAAAAAAYQAAAAAAAABhAAAAAAAAAGEAAAAAAAAAYQAAAAAAAABhAAAAAAAAAGEAAAAAAAAAYQAAAAAAAABhAAAAAAAAAGEAAAAAAAAAYQAAAAAAAABhAAAAAAAAAGEAAAAAAAAAYQAAAAAAAABhAAAAAAAAAGEAAAAAAAAAYQAAAAAAAABxAAAAAAAAAHEAAAAAAAAAcQAAAAAAAABxAAAAAAAAAHEAAAAAAAAAcQAAAAAAAABxAAAAAAAAAHEAAAAAAAAAcQAAAAAAAABxAAAAAAAAAHEAAAAAAAAAcQAAAAAAAABxAAAAAAAAAHEAAAAAAAAAcQAAAAAAAABxAAAAAAAAAHEAAAAAAAAAcQAAAAAAAABxAAAAAAAAAHEAAAAAAAAAcQAAAAAAAABxAAAAAAAAAHEAAAAAAAAAcQAAAAAAAABxAAAAAAAAAHEAAAAAAAAAcQAAAAAAAABxAAAAAAAAAHEAAAAAAAAAcQAAAAAAAABxAAAAAAAAAHEAAAAAAAAAcQAAAAAAAABxAAAAAAAAAHEAAAAAAAAAcQAAAAAAAABxAAAAAAAAAHEAAAAAAAAAcQAAAAAAAABxAAAAAAAAAHEAAAAAAAAAcQAAAAAAAABxAAAAAAAAAHEAAAAAAAAAcQAAAAAAAABxAAAAAAAAAHEAAAAAAAAAcQAAAAAAAABxAAAAAAAAAHEAAAAAAAAAgQAAAAAAAACBAAAAAAAAAIEAAAAAAAAAgQAAAAAAAACBAAAAAAAAAIEAAAAAAAAAgQAAAAAAAACBAAAAAAAAAIEAAAAAAAAAgQAAAAAAAACBAAAAAAAAAIEAAAAAAAAAgQAAAAAAAACBAAAAAAAAAIEAAAAAAAAAgQAAAAAAAACBAAAAAAAAAIEAAAAAAAAAgQAAAAAAAACBAAAAAAAAAIEAAAAAAAAAgQAAAAAAAACBAAAAAAAAAIEAAAAAAAAAgQAAAAAAAACBAAAAAAAAAIEAAAAAAAAAgQAAAAAAAACBAAAAAAAAAIEAAAAAAAAAgQAAAAAAAACBAAAAAAAAAIEAAAAAAAAAgQAAAAAAAACBAAAAAAAAAIEAAAAAAAAAgQAAAAAAAACBAAAAAAAAAIEAAAAAAAAAgQAAAAAAAACBAAAAAAAAAIEAAAAAAAAAgQAAAAAAAACBAAAAAAAAAIEAAAAAAAAAgQAAAAAAAACBAAAAAAAAAIEAAAAAAAAAgQAAAAAAAACBAAAAAAAAAIkAAAAAAAAAiQAAAAAAAACJAAAAAAAAAIkAAAAAAAAAiQAAAAAAAACJAAAAAAAAAIkAAAAAAAAAiQAAAAAAAACJAAAAAAAAAIkAAAAAAAAAiQAAAAAAAACJAAAAAAAAAIkAAAAAAAAAiQAAAAAAAACJAAAAAAAAAIkAAAAAAAAAiQAAAAAAAACJAAAAAAAAAIkAAAAAAAAAiQAAAAAAAACJAAAAAAAAAIkAAAAAAAAAiQAAAAAAAACJAAAAAAAAAIkAAAAAAAAAiQAAAAAAAACJAAAAAAAAAIkAAAAAAAAAiQAAAAAAAACJAAAAAAAAAIkAAAAAAAAAiQAAAAAAAACJAAAAAAAAAIkAAAAAAAAAiQAAAAAAAACJAAAAAAAAAIkAAAAAAAAAiQAAAAAAAACJAAAAAAAAAIkAAAAAAAAAiQAAAAAAAACJAAAAAAAAAIkAAAAAAAAAiQAAAAAAAACJAAAAAAAAAIkAAAAAAAAAiQAAAAAAAACJAAAAAAAAAIkAAAAAAAAAiQAAAAAAAACRAAAAAAAAAJEAAAAAAAAAkQAAAAAAAACRAAAAAAAAAJEAAAAAAAAAkQAAAAAAAACRAAAAAAAAAJEAAAAAAAAAkQAAAAAAAACRAAAAAAAAAJEAAAAAAAAAkQAAAAAAAACRAAAAAAAAAJEAAAAAAAAAkQAAAAAAAACRAAAAAAAAAJEAAAAAAAAAkQAAAAAAAACRAAAAAAAAAJEAAAAAAAAAkQAAAAAAAACRAAAAAAAAAJEAAAAAAAAAkQAAAAAAAACRAAAAAAAAAJEAAAAAAAAAkQAAAAAAAACRAAAAAAAAAJEAAAAAAAAAkQAAAAAAAACRAAAAAAAAAJEAAAAAAAAAkQAAAAAAAACRAAAAAAAAAJEAAAAAAAAAkQAAAAAAAACRAAAAAAAAAJEAAAAAAAAAkQAAAAAAAACRAAAAAAAAAJEAAAAAAAAAkQAAAAAAAACRAAAAAAAAAJEAAAAAAAAAkQAAAAAAAACRAAAAAAAAAJEAAAAAAAAAkQAAAAAAAACRAAAAAAAAAJEAAAAAAAAAmQAAAAAAAACZAAAAAAAAAJkAAAAAAAAAmQAAAAAAAACZAAAAAAAAAJkAAAAAAAAAmQAAAAAAAACZAAAAAAAAAJkAAAAAAAAAmQAAAAAAAACZAAAAAAAAAJkAAAAAAAAAmQAAAAAAAACZAAAAAAAAAJkAAAAAAAAAmQAAAAAAAACZAAAAAAAAAJkAAAAAAAAAmQAAAAAAAACZAAAAAAAAAJkAAAAAAAAAmQAAAAAAAACZAAAAAAAAAJkAAAAAAAAAmQAAAAAAAACZAAAAAAAAAJkAAAAAAAAAmQAAAAAAAACZAAAAAAAAAJkAAAAAAAAAmQAAAAAAAACZAAAAAAAAAJkAAAAAAAAAmQAAAAAAAACZAAAAAAAAAJkAAAAAAAAAmQAAAAAAAACZAAAAAAAAAJkAAAAAAAAAmQAAAAAAAACZAAAAAAAAAJkAAAAAAAAAmQAAAAAAAACZAAAAAAAAAJkAAAAAAAAAmQAAAAAAAACZAAAAAAAAAJkAAAAAAAAAmQAAAAAAAACZAAAAAAAAAKEAAAAAAAAAoQAAAAAAAAChAAAAAAAAAKEAAAAAAAAAoQAAAAAAAAChAAAAAAAAAKEAAAAAAAAAoQAAAAAAAAChAAAAAAAAAKEAAAAAAAAAoQAAAAAAAAChAAAAAAAAAKEAAAAAAAAAoQAAAAAAAAChAAAAAAAAAKEAAAAAAAAAoQAAAAAAAAChAAAAAAAAAKEAAAAAAAAAoQAAAAAAAAChAAAAAAAAAKEAAAAAAAAAoQAAAAAAAAChAAAAAAAAAKEAAAAAAAAAoQAAAAAAAAChAAAAAAAAAKEAAAAAAAAAoQAAAAAAAAChAAAAAAAAAKEAAAAAAAAAoQAAAAAAAAChAAAAAAAAAKEAAAAAAAAAoQAAAAAAAAChAAAAAAAAAKEAAAAAAAAAoQAAAAAAAAChAAAAAAAAAKEAAAAAAAAAoQAAAAAAAAChAAAAAAAAAKEAAAAAAAAAoQAAAAAAAAChAAAAAAAAAKEAAAAAAAAAoQAAAAAAAAChAAAAAAAAAKEAAAAAAAAAoQAAAAAAAACpAAAAAAAAAKkAAAAAAAAAqQAAAAAAAACpAAAAAAAAAKkAAAAAAAAAqQAAAAAAAACpAAAAAAAAAKkAAAAAAAAAqQAAAAAAAACpAAAAAAAAAKkAAAAAAAAAqQAAAAAAAACpAAAAAAAAAKkAAAAAAAAAqQAAAAAAAACpAAAAAAAAAKkAAAAAAAAAqQAAAAAAAACpAAAAAAAAAKkAAAAAAAAAqQAAAAAAAACpAAAAAAAAAKkAAAAAAAAAqQAAAAAAAACpAAAAAAAAAKkAAAAAAAAAqQAAAAAAAACpAAAAAAAAAKkAAAAAAAAAqQAAAAAAAACpAAAAAAAAAKkAAAAAAAAAqQAAAAAAAACpAAAAAAAAAKkAAAAAAAAAqQAAAAAAAACpAAAAAAAAAKkAAAAAAAAAqQAAAAAAAACpAAAAAAAAAKkAAAAAAAAAqQAAAAAAAACpAAAAAAAAAKkAAAAAAAAAqQAAAAAAAACpAAAAAAAAAKkAAAAAAAAAqQAAAAAAAACpAAAAAAAAAKkAAAAAAAAAsQAAAAAAAACxAAAAAAAAALEAAAAAAAAAsQAAAAAAAACxAAAAAAAAALEAAAAAAAAAsQAAAAAAAACxAAAAAAAAALEAAAAAAAAAsQAAAAAAAACxAAAAAAAAALEAAAAAAAAAsQAAAAAAAACxAAAAAAAAALEAAAAAAAAAsQAAAAAAAACxAAAAAAAAALEAAAAAAAAAsQAAAAAAAACxAAAAAAAAALEAAAAAAAAAsQAAAAAAAACxAAAAAAAAALEAAAAAAAAAsQAAAAAAAACxAAAAAAAAALEAAAAAAAAAsQAAAAAAAACxAAAAAAAAALEAAAAAAAAAsQAAAAAAAACxAAAAAAAAALEAAAAAAAAAsQAAAAAAAACxAAAAAAAAALEAAAAAAAAAsQAAAAAAAACxAAAAAAAAALEAAAAAAAAAsQAAAAAAAACxAAAAAAAAALEAAAAAAAAAsQAAAAAAAACxAAAAAAAAALEAAAAAAAAAsQAAAAAAAACxAAAAAAAAALEAAAAAAAAAsQAAAAAAAACxAAAAAAAAALkAAAAAAAAAuQAAAAAAAAC5AAAAAAAAALkAAAAAAAAAuQAAAAAAAAC5AAAAAAAAALkAAAAAAAAAuQAAAAAAAAC5AAAAAAAAALkAAAAAAAAAuQAAAAAAAAC5AAAAAAAAALkAAAAAAAAAuQAAAAAAAAC5AAAAAAAAALkAAAAAAAAAuQAAAAAAAAC5AAAAAAAAALkAAAAAAAAAuQAAAAAAAAC5AAAAAAAAALkAAAAAAAAAuQAAAAAAAAC5AAAAAAAAALkAAAAAAAAAuQAAAAAAAAC5AAAAAAAAALkAAAAAAAAAuQAAAAAAAAC5AAAAAAAAALkAAAAAAAAAuQAAAAAAAAC5AAAAAAAAALkAAAAAAAAAuQAAAAAAAAC5AAAAAAAAALkAAAAAAAAAuQAAAAAAAAC5AAAAAAAAALkAAAAAAAAAuQAAAAAAAAC5AAAAAAAAALkAAAAAAAAAuQAAAAAAAAC5AAAAAAAAALkAAAAAAAAAuQAAAAAAAAC5AAAAAAAAALkAAAAAAAAAuQAAAAAAAADBAAAAAAAAAMEAAAAAAAAAwQAAAAAAAADBAAAAAAAAAMEAAAAAAAAAwQAAAAAAAADBAAAAAAAAAMEAAAAAAAAAwQAAAAAAAADBAAAAAAAAAMEAAAAAAAAAwQAAAAAAAADBAAAAAAAAAMEAAAAAAAAAwQAAAAAAAADBAAAAAAAAAMEAAAAAAAAAwQAAAAAAAADBAAAAAAAAAMEAAAAAAAAAwQAAAAAAAADBAAAAAAAAAMEAAAAAAAAAwQAAAAAAAADBAAAAAAAAAMEAAAAAAAAAwQAAAAAAAADBAAAAAAAAAMEAAAAAAAAAwQAAAAAAAADBAAAAAAAAAMEAAAAAAAAAwQAAAAAAAADBAAAAAAAAAMEAAAAAAAAAwQAAAAAAAADBAAAAAAAAAMEAAAAAAAAAwQAAAAAAAADBAAAAAAAAAMEAAAAAAAAAwQAAAAAAAADBAAAAAAAAAMEAAAAAAAAAwQAAAAAAAADBAAAAAAAAAMEAAAAAAAAAwQAAAAAAAADBAAAAAAAAAMEAAAAAAAAAxQAAAAAAAADFAAAAAAAAAMUAAAAAAAAAxQAAAAAAAADFAAAAAAAAAMUAAAAAAAAAxQAAAAAAAADFAAAAAAAAAMUAAAAAAAAAxQAAAAAAAADFAAAAAAAAAMUAAAAAAAAAxQAAAAAAAADFAAAAAAAAAMUAAAAAAAAAxQAAAAAAAADFAAAAAAAAAMUAAAAAAAAAxQAAAAAAAADFAAAAAAAAAMUAAAAAAAAAxQAAAAAAAADFAAAAAAAAAMUAAAAAAAAAxQAAAAAAAADFAAAAAAAAAMUAAAAAAAAAxQAAAAAAAADFAAAAAAAAAMUAAAAAAAAAxQAAAAAAAADFAAAAAAAAAMUAAAAAAAAAxQAAAAAAAADFAAAAAAAAAMUAAAAAAAAAxQAAAAAAAADFAAAAAAAAAMUAAAAAAAAAxQAAAAAAAADFAAAAAAAAAMUAAAAAAAAAxQAAAAAAAADFAAAAAAAAAMUAAAAAAAAAxQAAAAAAAADFAAAAAAAAAMUAAAAAAAAAxQAAAAAAAADFAAAAAAAAAMkAAAAAAAAAyQAAAAAAAADJAAAAAAAAAMkAAAAAAAAAyQAAAAAAAADJAAAAAAAAAMkAAAAAAAAAyQAAAAAAAADJAAAAAAAAAMkAAAAAAAAAyQAAAAAAAADJAAAAAAAAAMkAAAAAAAAAyQAAAAAAAADJAAAAAAAAAMkAAAAAAAAAyQAAAAAAAADJAAAAAAAAAMkAAAAAAAAAyQAAAAAAAADJAAAAAAAAAMkAAAAAAAAAyQAAAAAAAADJAAAAAAAAAMkAAAAAAAAAyQAAAAAAAADJAAAAAAAAAMkAAAAAAAAAyQAAAAAAAADJAAAAAAAAAMkAAAAAAAAAyQAAAAAAAADJAAAAAAAAAMkAAAAAAAAAyQAAAAAAAADJAAAAAAAAAMkAAAAAAAAAyQAAAAAAAADJAAAAAAAAAMkAAAAAAAAAyQAAAAAAAADJAAAAAAAAAMkAAAAAAAAAyQAAAAAAAADJAAAAAAAAAMkAAAAAAAAAyQAAAAAAAADJAAAAAAAAAMkAAAAAAAAAyQAAAAAAAADNAAAAAAAAAM0AAAAAAAAAzQAAAAAAAADNAAAAAAAAAM0AAAAAAAAAzQAAAAAAAADNAAAAAAAAAM0AAAAAAAAAzQAAAAAAAADNAAAAAAAAAM0AAAAAAAAAzQAAAAAAAADNAAAAAAAAAM0AAAAAAAAAzQAAAAAAAADNAAAAAAAAAM0AAAAAAAAAzQAAAAAAAADNAAAAAAAAAM0AAAAAAAAAzQAAAAAAAADNAAAAAAAAAM0AAAAAAAAAzQAAAAAAAADNAAAAAAAAAM0AAAAAAAAAzQAAAAAAAADNAAAAAAAAAM0AAAAAAAAAzQAAAAAAAADNAAAAAAAAAM0AAAAAAAAAzQAAAAAAAADNAAAAAAAAAM0AAAAAAAAAzQAAAAAAAADNAAAAAAAAAM0AAAAAAAAAzQAAAAAAAADNAAAAAAAAAM0AAAAAAAAAzQAAAAAAAADNAAAAAAAAAM0AAAAAAAAAzQAAAAAAAADNAAAAAAAAAM0AAAAAAAAAzQAAAAAAAADNAAAAAAAAAM0AAAAAAAAA0QAAAAAAAADRAAAAAAAAANEAAAAAAAAA0QAAAAAAAADRAAAAAAAAANEAAAAAAAAA0QAAAAAAAADRAAAAAAAAANEAAAAAAAAA0QAAAAAAAADRAAAAAAAAANEAAAAAAAAA0QAAAAAAAADRAAAAAAAAANEAAAAAAAAA0QAAAAAAAADRAAAAAAAAANEAAAAAAAAA0QAAAAAAAADRAAAAAAAAANEAAAAAAAAA0QAAAAAAAADRAAAAAAAAANEAAAAAAAAA0QAAAAAAAADRAAAAAAAAANEAAAAAAAAA0QAAAAAAAADRAAAAAAAAANEAAAAAAAAA0QAAAAAAAADRAAAAAAAAANEAAAAAAAAA0QAAAAAAAADRAAAAAAAAANEAAAAAAAAA0QAAAAAAAADRAAAAAAAAANEAAAAAAAAA0QAAAAAAAADRAAAAAAAAANEAAAAAAAAA0QAAAAAAAADRAAAAAAAAANEAAAAAAAAA0QAAAAAAAADRAAAAAAAAANEAAAAAAAAA0QAAAAAAAADRAAAAAAAAANUAAAAAAAAA1QAAAAAAAADVAAAAAAAAANUAAAAAAAAA1QAAAAAAAADVAAAAAAAAANUAAAAAAAAA1QAAAAAAAADVAAAAAAAAANUAAAAAAAAA1QAAAAAAAADVAAAAAAAAANUAAAAAAAAA1QAAAAAAAADVAAAAAAAAANUAAAAAAAAA1QAAAAAAAADVAAAAAAAAANUAAAAAAAAA1QAAAAAAAADVAAAAAAAAANUAAAAAAAAA1QAAAAAAAADVAAAAAAAAANUAAAAAAAAA1QAAAAAAAADVAAAAAAAAANUAAAAAAAAA1QAAAAAAAADVAAAAAAAAANUAAAAAAAAA1QAAAAAAAADVAAAAAAAAANUAAAAAAAAA1QAAAAAAAADVAAAAAAAAANUAAAAAAAAA1QAAAAAAAADVAAAAAAAAANUAAAAAAAAA1QAAAAAAAADVAAAAAAAAANUAAAAAAAAA1QAAAAAAAADVAAAAAAAAANUAAAAAAAAA1QAAAAAAAADVAAAAAAAAANUAAAAAAAAA1QAAAAAAAADZAAAAAAAAANkAAAAAAAAA2QAAAAAAAADZAAAAAAAAANkAAAAAAAAA2QAAAAAAAADZAAAAAAAAANkAAAAAAAAA2QAAAAAAAADZAAAAAAAAANkAAAAAAAAA2QAAAAAAAADZAAAAAAAAANkAAAAAAAAA2QAAAAAAAADZAAAAAAAAANkAAAAAAAAA2QAAAAAAAADZAAAAAAAAANkAAAAAAAAA2QAAAAAAAADZAAAAAAAAANkAAAAAAAAA2QAAAAAAAADZAAAAAAAAANkAAAAAAAAA2QAAAAAAAADZAAAAAAAAANkAAAAAAAAA2QAAAAAAAADZAAAAAAAAANkAAAAAAAAA2QAAAAAAAADZAAAAAAAAANkAAAAAAAAA2QAAAAAAAADZAAAAAAAAANkAAAAAAAAA2QAAAAAAAADZAAAAAAAAANkAAAAAAAAA2QAAAAAAAADZAAAAAAAAANkAAAAAAAAA2QAAAAAAAADZAAAAAAAAANkAAAAAAAAA2QAAAAAAAADZAAAAAAAAANkAAAAAAAAA3QAAAAAAAADdAAAAAAAAAN0AAAAAAAAA3QAAAAAAAADdAAAAAAAAAN0AAAAAAAAA3QAAAAAAAADdAAAAAAAAAN0AAAAAAAAA3QAAAAAAAADdAAAAAAAAAN0AAAAAAAAA3QAAAAAAAADdAAAAAAAAAN0AAAAAAAAA3QAAAAAAAADdAAAAAAAAAN0AAAAAAAAA3QAAAAAAAADdAAAAAAAAAN0AAAAAAAAA3QAAAAAAAADdAAAAAAAAAN0AAAAAAAAA3QAAAAAAAADdAAAAAAAAAN0AAAAAAAAA3QAAAAAAAADdAAAAAAAAAN0AAAAAAAAA3QAAAAAAAADdAAAAAAAAAN0AAAAAAAAA3QAAAAAAAADdAAAAAAAAAN0AAAAAAAAA3QAAAAAAAADdAAAAAAAAAN0AAAAAAAAA3QAAAAAAAADdAAAAAAAAAN0AAAAAAAAA3QAAAAAAAADdAAAAAAAAAN0AAAAAAAAA3QAAAAAAAADdAAAAAAAAAN0AAAAAAAAA3QAAAAAAAADdAAAAAAAAAOEAAAAAAAAA4QAAAAAAAADhAAAAAAAAAOEAAAAAAAAA4QAAAAAAAADhAAAAAAAAAOEAAAAAAAAA4QAAAAAAAADhAAAAAAAAAOEAAAAAAAAA4QAAAAAAAADhAAAAAAAAAOEAAAAAAAAA4QAAAAAAAADhAAAAAAAAAOEAAAAAAAAA4QAAAAAAAADhAAAAAAAAAOEAAAAAAAAA4QAAAAAAAADhAAAAAAAAAOEAAAAAAAAA4QAAAAAAAADhAAAAAAAAAOEAAAAAAAAA4QAAAAAAAADhAAAAAAAAAOEAAAAAAAAA4QAAAAAAAADhAAAAAAAAAOEAAAAAAAAA4QAAAAAAAADhAAAAAAAAAOEAAAAAAAAA4QAAAAAAAADhAAAAAAAAAOEAAAAAAAAA4QAAAAAAAADhAAAAAAAAAOEAAAAAAAAA4QAAAAAAAADhAAAAAAAAAOEAAAAAAAAA4QAAAAAAAADhAAAAAAAAAOEAAAAAAAAA4QAAAAAAAADhAAAAAAAAAOEAAAAAAAAA4QAAAAAAAADlAAAAAAAAAOUAAAAAAAAA5QAAAAAAAADlAAAAAAAAAOUAAAAAAAAA5QAAAAAAAADlAAAAAAAAAOUAAAAAAAAA5QAAAAAAAADlAAAAAAAAAOUAAAAAAAAA5QAAAAAAAADlAAAAAAAAAOUAAAAAAAAA5QAAAAAAAADlAAAAAAAAAOUAAAAAAAAA5QAAAAAAAADlAAAAAAAAAOUAAAAAAAAA5QAAAAAAAADlAAAAAAAAAOUAAAAAAAAA5QAAAAAAAADlAAAAAAAAAOUAAAAAAAAA5QAAAAAAAADlAAAAAAAAAOUAAAAAAAAA5QAAAAAAAADlAAAAAAAAAOUAAAAAAAAA5QAAAAAAAADlAAAAAAAAAOUAAAAAAAAA5QAAAAAAAADlAAAAAAAAAOUAAAAAAAAA5QAAAAAAAADlAAAAAAAAAOUAAAAAAAAA5QAAAAAAAADlAAAAAAAAAOUAAAAAAAAA5QAAAAAAAADlAAAAAAAAAOUAAAAAAAAA5QAAAAAAAADlAAAAAAAAAOUAAAAAAAAA6QAAAAAAAADpAAAAAAAAAOkAAAAAAAAA6QAAAAAAAADpAAAAAAAAAOkAAAAAAAAA6QAAAAAAAADpAAAAAAAAAOkAAAAAAAAA6QAAAAAAAADpAAAAAAAAAOkAAAAAAAAA6QAAAAAAAADpAAAAAAAAAOkAAAAAAAAA6QAAAAAAAADpAAAAAAAAAOkAAAAAAAAA6QAAAAAAAADpAAAAAAAAAOkAAAAAAAAA6QAAAAAAAADpAAAAAAAAAOkAAAAAAAAA6QAAAAAAAADpAAAAAAAAAOkAAAAAAAAA6QAAAAAAAADpAAAAAAAAAOkAAAAAAAAA6QAAAAAAAADpAAAAAAAAAOkAAAAAAAAA6QAAAAAAAADpAAAAAAAAAOkAAAAAAAAA6QAAAAAAAADpAAAAAAAAAOkAAAAAAAAA6QAAAAAAAADpAAAAAAAAAOkAAAAAAAAA6QAAAAAAAADpAAAAAAAAAOkAAAAAAAAA6QAAAAAAAADpAAAAAAAAAOkAAAAAAAAA6QAAAAAAAADpAAAAAAAAAO0AAAAAAAAA7QAAAAAAAADtAAAAAAAAAO0AAAAAAAAA7QAAAAAAAADtAAAAAAAAAO0AAAAAAAAA7QAAAAAAAADtAAAAAAAAAO0AAAAAAAAA7QAAAAAAAADtAAAAAAAAAO0AAAAAAAAA7QAAAAAAAADtAAAAAAAAAO0AAAAAAAAA7QAAAAAAAADtAAAAAAAAAO0AAAAAAAAA7QAAAAAAAADtAAAAAAAAAO0AAAAAAAAA7QAAAAAAAADtAAAAAAAAAO0AAAAAAAAA7QAAAAAAAADtAAAAAAAAAO0AAAAAAAAA7QAAAAAAAADtAAAAAAAAAO0AAAAAAAAA7QAAAAAAAADtAAAAAAAAAO0AAAAAAAAA7QAAAAAAAADtAAAAAAAAAO0AAAAAAAAA7QAAAAAAAADtAAAAAAAAAO0AAAAAAAAA7QAAAAAAAADtAAAAAAAAAO0AAAAAAAAA7QAAAAAAAADtAAAAAAAAAO0AAAAAAAAA7QAAAAAAAADtAAAAAAAAAO0AAAAAAAAA7QAAAAAAAADxAAAAAAAAAPEAAAAAAAAA8QAAAAAAAADxAAAAAAAAAPEAAAAAAAAA8QAAAAAAAADxAAAAAAAAAPEAAAAAAAAA8QAAAAAAAADxAAAAAAAAAPEAAAAAAAAA8QAAAAAAAADxAAAAAAAAAPEAAAAAAAAA8QAAAAAAAADxAAAAAAAAAPEAAAAAAAAA8QAAAAAAAADxAAAAAAAAAPEAAAAAAAAA8QAAAAAAAADxAAAAAAAAAPEAAAAAAAAA8QAAAAAAAADxAAAAAAAAAPEAAAAAAAAA8QAAAAAAAADxAAAAAAAAAPEAAAAAAAAA8QAAAAAAAADxAAAAAAAAAPEAAAAAAAAA8QAAAAAAAADxAAAAAAAAAPEAAAAAAAAA8QAAAAAAAADxAAAAAAAAAPEAAAAAAAAA8QAAAAAAAADxAAAAAAAAAPEAAAAAAAAA8QAAAAAAAADxAAAAAAAAAPEAAAAAAAAA8QAAAAAAAADxAAAAAAAAAPEAAAAAAAAA8QAAAAAAAADxAAAAAAAAAPEAAAAAAAAA9QAAAAAAAAD1AAAAAAAAAPUAAAAAAAAA9QAAAAAAAAD1AAAAAAAAAPUAAAAAAAAA9QAAAAAAAAD1AAAAAAAAAPUAAAAAAAAA9QAAAAAAAAD1AAAAAAAAAPUAAAAAAAAA9QAAAAAAAAD1AAAAAAAAAPUAAAAAAAAA9QAAAAAAAAD1AAAAAAAAAPUAAAAAAAAA9QAAAAAAAAD1AAAAAAAAAPUAAAAAAAAA9QAAAAAAAAD1AAAAAAAAAPUAAAAAAAAA9QAAAAAAAAD1AAAAAAAAAPUAAAAAAAAA9QAAAAAAAAD1AAAAAAAAAPUAAAAAAAAA9QAAAAAAAAD1AAAAAAAAAPUAAAAAAAAA9QAAAAAAAAD1AAAAAAAAAPUAAAAAAAAA9QAAAAAAAAD1AAAAAAAAAPUAAAAAAAAA9QAAAAAAAAD1AAAAAAAAAPUAAAAAAAAA9QAAAAAAAAD1AAAAAAAAAPUAAAAAAAAA9QAAAAAAAAD1AAAAAAAAAPUAAAAAAAAA9QAAAAAAAAD1AAAAAAAAAPkAAAAAAAAA+QAAAAAAAAD5AAAAAAAAAPkAAAAAAAAA+QAAAAAAAAD5AAAAAAAAAPkAAAAAAAAA+QAAAAAAAAD5AAAAAAAAAPkAAAAAAAAA+QAAAAAAAAD5AAAAAAAAAPkAAAAAAAAA+QAAAAAAAAD5AAAAAAAAAPkAAAAAAAAA+QAAAAAAAAD5AAAAAAAAAPkAAAAAAAAA+QAAAAAAAAD5AAAAAAAAAPkAAAAAAAAA+QAAAAAAAAD5AAAAAAAAAPkAAAAAAAAA+QAAAAAAAAD5AAAAAAAAAPkAAAAAAAAA+QAAAAAAAAD5AAAAAAAAAPkAAAAAAAAA+QAAAAAAAAD5AAAAAAAAAPkAAAAAAAAA+QAAAAAAAAD5AAAAAAAAAPkAAAAAAAAA+QAAAAAAAAD5AAAAAAAAAPkAAAAAAAAA+QAAAAAAAAD5AAAAAAAAAPkAAAAAAAAA+QAAAAAAAAD5AAAAAAAAAPkAAAAAAAAA+QAAAAAAAAD5AAAAAAAAAPkAAAAAAAAA+QAAAAAAAAD9AAAAAAAAAP0AAAAAAAAA/QAAAAAAAAD9AAAAAAAAAP0AAAAAAAAA/QAAAAAAAAD9AAAAAAAAAP0AAAAAAAAA/QAAAAAAAAD9AAAAAAAAAP0AAAAAAAAA/QAAAAAAAAD9AAAAAAAAAP0AAAAAAAAA/QAAAAAAAAD9AAAAAAAAAP0AAAAAAAAA/QAAAAAAAAD9AAAAAAAAAP0AAAAAAAAA/QAAAAAAAAD9AAAAAAAAAP0AAAAAAAAA/QAAAAAAAAD9AAAAAAAAAP0AAAAAAAAA/QAAAAAAAAD9AAAAAAAAAP0AAAAAAAAA/QAAAAAAAAD9AAAAAAAAAP0AAAAAAAAA/QAAAAAAAAD9AAAAAAAAAP0AAAAAAAAA/QAAAAAAAAD9AAAAAAAAAP0AAAAAAAAA/QAAAAAAAAD9AAAAAAAAAP0AAAAAAAAA/QAAAAAAAAD9AAAAAAAAAP0AAAAAAAAA/QAAAAAAAAD9AAAAAAAAAP0AAAAAAAAA/QAAAAAAAAD9AAAAAAAAAP0AAAAAAAABAQAAAAAAAAEBAAAAAAAAAQEAAAAAAAABAQAAAAAAAAEBAAAAAAAAAQEAAAAAAAABAQAAAAAAAAEBAAAAAAAAAQEAAAAAAAABAQAAAAAAAAEBAAAAAAAAAQEAAAAAAAABAQAAAAAAAAEBAAAAAAAAAQEAAAAAAAABAQAAAAAAAAEBAAAAAAAAAQEAAAAAAAABAQAAAAAAAAEBAAAAAAAAAQEAAAAAAAABAQAAAAAAAAEBAAAAAAAAAQEAAAAAAAABAQAAAAAAAAEBAAAAAAAAAQEAAAAAAAABAQAAAAAAAAEBAAAAAAAAAQEAAAAAAAABAQAAAAAAAAEBAAAAAAAAAQEAAAAAAAABAQAAAAAAAAEBAAAAAAAAAQEAAAAAAAABAQAAAAAAAAEBAAAAAAAAAQEAAAAAAAABAQAAAAAAAAEBAAAAAAAAAQEAAAAAAAABAQAAAAAAAAEBAAAAAAAAAQEAAAAAAAABAQAAAAAAAAEBAAAAAAAAAQEAAAAAAAABAQAAAAAAAAEBAAAAAAACAQEAAAAAAAIBAQAAAAAAAgEBAAAAAAACAQEAAAAAAAIBAQAAAAAAAgEBAAAAAAACAQEAAAAAAAIBAQAAAAAAAgEBAAAAAAACAQEAAAAAAAIBAQAAAAAAAgEBAAAAAAACAQEAAAAAAAIBAQAAAAAAAgEBAAAAAAACAQEAAAAAAAIBAQAAAAAAAgEBAAAAAAACAQEAAAAAAAIBAQAAAAAAAgEBAAAAAAACAQEAAAAAAAIBAQAAAAAAAgEBAAAAAAACAQEAAAAAAAIBAQAAAAAAAgEBAAAAAAACAQEAAAAAAAIBAQAAAAAAAgEBAAAAAAACAQEAAAAAAAIBAQAAAAAAAgEBAAAAAAACAQEAAAAAAAIBAQAAAAAAAgEBAAAAAAACAQEAAAAAAAIBAQAAAAAAAgEBAAAAAAACAQEAAAAAAAIBAQAAAAAAAgEBAAAAAAACAQEAAAAAAAIBAQAAAAAAAgEBAAAAAAACAQEAAAAAAAIBAQAAAAAAAgEBAAAAAAACAQEAAAAAAAIBAQAAAAAAAAEFAAAAAAAAAQUAAAAAAAABBQAAAAAAAAEFAAAAAAAAAQUAAAAAAAABBQAAAAAAAAEFAAAAAAAAAQUAAAAAAAABBQAAAAAAAAEFAAAAAAAAAQUAAAAAAAABBQAAAAAAAAEFAAAAAAAAAQUAAAAAAAABBQAAAAAAAAEFAAAAAAAAAQUAAAAAAAABBQAAAAAAAAEFAAAAAAAAAQUAAAAAAAABBQAAAAAAAAEFAAAAAAAAAQUAAAAAAAABBQAAAAAAAAEFAAAAAAAAAQUAAAAAAAABBQAAAAAAAAEFAAAAAAAAAQUAAAAAAAABBQAAAAAAAAEFAAAAAAAAAQUAAAAAAAABBQAAAAAAAAEFAAAAAAAAAQUAAAAAAAABBQAAAAAAAAEFAAAAAAAAAQUAAAAAAAABBQAAAAAAAAEFAAAAAAAAAQUAAAAAAAABBQAAAAAAAAEFAAAAAAAAAQUAAAAAAAABBQAAAAAAAAEFAAAAAAAAAQUAAAAAAAABBQAAAAAAAAEFAAAAAAAAAQUAAAAAAAIBBQAAAAAAAgEFAAAAAAACAQUAAAAAAAIBBQAAAAAAAgEFAAAAAAACAQUAAAAAAAIBBQAAAAAAAgEFAAAAAAACAQUAAAAAAAIBBQAAAAAAAgEFAAAAAAACAQUAAAAAAAIBBQAAAAAAAgEFAAAAAAACAQUAAAAAAAIBBQAAAAAAAgEFAAAAAAACAQUAAAAAAAIBBQAAAAAAAgEFAAAAAAACAQUAAAAAAAIBBQAAAAAAAgEFAAAAAAACAQUAAAAAAAIBBQAAAAAAAgEFAAAAAAACAQUAAAAAAAIBBQAAAAAAAgEFAAAAAAACAQUAAAAAAAIBBQAAAAAAAgEFAAAAAAACAQUAAAAAAAIBBQAAAAAAAgEFAAAAAAACAQUAAAAAAAIBBQAAAAAAAgEFAAAAAAACAQUAAAAAAAIBBQAAAAAAAgEFAAAAAAACAQUAAAAAAAIBBQAAAAAAAgEFAAAAAAACAQUAAAAAAAIBBQAAAAAAAgEFAAAAAAACAQUAAAAAAAIBBQAAAAAAAgEFAAAAAAAAAQkAAAAAAAABCQAAAAAAAAEJAAAAAAAAAQkAAAAAAAABCQAAAAAAAAEJAAAAAAAAAQkAAAAAAAABCQAAAAAAAAEJAAAAAAAAAQkAAAAAAAABCQAAAAAAAAEJAAAAAAAAAQkAAAAAAAABCQAAAAAAAAEJAAAAAAAAAQkAAAAAAAABCQAAAAAAAAEJAAAAAAAAAQkAAAAAAAABCQAAAAAAAAEJAAAAAAAAAQkAAAAAAAABCQAAAAAAAAEJAAAAAAAAAQkAAAAAAAABCQAAAAAAAAEJAAAAAAAAAQkAAAAAAAABCQAAAAAAAAEJAAAAAAAAAQkAAAAAAAABCQAAAAAAAAEJAAAAAAAAAQkAAAAAAAABCQAAAAAAAAEJAAAAAAAAAQkAAAAAAAABCQAAAAAAAAEJAAAAAAAAAQkAAAAAAAABCQAAAAAAAAEJAAAAAAAAAQkAAAAAAAABCQAAAAAAAAEJAAAAAAAAAQkAAAAAAAABCQAAAAAAAAEJAAAAAAAAAQkAAAAAAAABCQAAAAAAAgEJAAAAAAACAQkAAAAAAAIBCQAAAAAAAgEJAAAAAAACAQkAAAAAAAIBCQAAAAAAAgEJAAAAAAACAQkAAAAAAAIBCQAAAAAAAgEJAAAAAAACAQkAAAAAAAIBCQAAAAAAAgEJAAAAAAACAQkAAAAAAAIBCQAAAAAAAgEJAAAAAAACAQkAAAAAAAIBCQAAAAAAAgEJAAAAAAACAQkAAAAAAAIBCQAAAAAAAgEJAAAAAAACAQkAAAAAAAIBCQAAAAAAAgEJAAAAAAACAQkAAAAAAAIBCQAAAAAAAgEJAAAAAAACAQkAAAAAAAIBCQAAAAAAAgEJAAAAAAACAQkAAAAAAAIBCQAAAAAAAgEJAAAAAAACAQkAAAAAAAIBCQAAAAAAAgEJAAAAAAACAQkAAAAAAAIBCQAAAAAAAgEJAAAAAAACAQkAAAAAAAIBCQAAAAAAAgEJAAAAAAACAQkAAAAAAAIBCQAAAAAAAgEJAAAAAAACAQkAAAAAAAIBCQAAAAAAAgEJAAAAAAACAQkAAAAAAAABDQAAAAAAAAENAAAAAAAAAQ0AAAAAAAABDQAAAAAAAAENAAAAAAAAAQ0AAAAAAAABDQAAAAAAAAENAAAAAAAAAQ0AAAAAAAABDQAAAAAAAAENAAAAAAAAAQ0AAAAAAAABDQAAAAAAAAENAAAAAAAAAQ0AAAAAAAABDQAAAAAAAAENAAAAAAAAAQ0AAAAAAAABDQAAAAAAAAENAAAAAAAAAQ0AAAAAAAABDQAAAAAAAAENAAAAAAAAAQ0AAAAAAAABDQAAAAAAAAENAAAAAAAAAQ0AAAAAAAABDQAAAAAAAAENAAAAAAAAAQ0AAAAAAAABDQAAAAAAAAENAAAAAAAAAQ0AAAAAAAABDQAAAAAAAAENAAAAAAAAAQ0AAAAAAAABDQAAAAAAAAENAAAAAAAAAQ0AAAAAAAABDQAAAAAAAAENAAAAAAAAAQ0AAAAAAAABDQAAAAAAAAENAAAAAAAAAQ0AAAAAAAABDQAAAAAAAAENAAAAAAAAAQ0AAAAAAAABDQAAAAAAAAENAAAAAAACAQ0AAAAAAAIBDQAAAAAAAgENAAAAAAACAQ0AAAAAAAIBDQAAAAAAAgENAAAAAAACAQ0AAAAAAAIBDQAAAAAAAgENAAAAAAACAQ0AAAAAAAIBDQAAAAAAAgENAAAAAAACAQ0AAAAAAAIBDQAAAAAAAgENAAAAAAACAQ0AAAAAAAIBDQAAAAAAAgENAAAAAAACAQ0AAAAAAAIBDQAAAAAAAgENAAAAAAACAQ0AAAAAAAIBDQAAAAAAAgENAAAAAAACAQ0AAAAAAAIBDQAAAAAAAgENAAAAAAACAQ0AAAAAAAIBDQAAAAAAAgENAAAAAAACAQ0AAAAAAAIBDQAAAAAAAgENAAAAAAACAQ0AAAAAAAIBDQAAAAAAAgENAAAAAAACAQ0AAAAAAAIBDQAAAAAAAgENAAAAAAACAQ0AAAAAAAIBDQAAAAAAAgENAAAAAAACAQ0AAAAAAAIBDQAAAAAAAgENAAAAAAACAQ0AAAAAAAIBDQAAAAAAAgENAAAAAAACAQ0AAAAAAAIBDQAAAAAAAAERAAAAAAAAAREAAAAAAAABEQAAAAAAAAERAAAAAAAAAREAAAAAAAABEQAAAAAAAAERAAAAAAAAAREAAAAAAAABEQAAAAAAAAERAAAAAAAAAREAAAAAAAABEQAAAAAAAAERAAAAAAAAAREAAAAAAAABEQAAAAAAAAERAAAAAAAAAREAAAAAAAABEQAAAAAAAAERAAAAAAAAAREAAAAAAAABEQAAAAAAAAERAAAAAAAAAREAAAAAAAABEQAAAAAAAAERAAAAAAAAAREAAAAAAAABEQAAAAAAAAERAAAAAAAAAREAAAAAAAABEQAAAAAAAAERAAAAAAAAAREAAAAAAAABEQAAAAAAAAERAAAAAAAAAREAAAAAAAABEQAAAAAAAAERAAAAAAAAAREAAAAAAAABEQAAAAAAAAERAAAAAAAAAREAAAAAAAABEQAAAAAAAAERAAAAAAAAAREAAAAAAAABEQAAAAAAAAERAAAAAAAAAREAAAAAAAABEQAAAAAAAAERAAAAAAAAAREAAAAAAAIBEQAAAAAAAgERAAAAAAACAREAAAAAAAIBEQAAAAAAAgERAAAAAAACAREAAAAAAAIBEQAAAAAAAgERAAAAAAACAREAAAAAAAIBEQAAAAAAAgERAAAAAAACAREAAAAAAAIBEQAAAAAAAgERAAAAAAACAREAAAAAAAIBEQAAAAAAAgERAAAAAAACAREAAAAAAAIBEQAAAAAAAgERAAAAAAACAREAAAAAAAIBEQAAAAAAAgERAAAAAAACAREAAAAAAAIBEQAAAAAAAgERAAAAAAACAREAAAAAAAIBEQAAAAAAAgERAAAAAAACAREAAAAAAAIBEQAAAAAAAgERAAAAAAACAREAAAAAAAIBEQAAAAAAAgERAAAAAAACAREAAAAAAAIBEQAAAAAAAgERAAAAAAACAREAAAAAAAIBEQAAAAAAAgERAAAAAAACAREAAAAAAAIBEQAAAAAAAgERAAAAAAACAREAAAAAAAIBEQAAAAAAAgERAAAAAAACAREAAAAAAAIBEQAAAAAAAgERAAAAAAAAARUAAAAAAAABFQAAAAAAAAEVAAAAAAAAARUAAAAAAAABFQAAAAAAAAEVAAAAAAAAARUAAAAAAAABFQAAAAAAAAEVAAAAAAAAARUAAAAAAAABFQAAAAAAAAEVAAAAAAAAARUAAAAAAAABFQAAAAAAAAEVAAAAAAAAARUAAAAAAAABFQAAAAAAAAEVAAAAAAAAARUAAAAAAAABFQAAAAAAAAEVAAAAAAAAARUAAAAAAAABFQAAAAAAAAEVAAAAAAAAARUAAAAAAAABFQAAAAAAAAEVAAAAAAAAARUAAAAAAAABFQAAAAAAAAEVAAAAAAAAARUAAAAAAAABFQAAAAAAAAEVAAAAAAAAARUAAAAAAAABFQAAAAAAAAEVAAAAAAAAARUAAAAAAAABFQAAAAAAAAEVAAAAAAAAARUAAAAAAAABFQAAAAAAAAEVAAAAAAAAARUAAAAAAAABFQAAAAAAAAEVAAAAAAAAARUAAAAAAAABFQAAAAAAAAEVAAAAAAAAARUAAAAAAAABFQAAAAAAAgEVAAAAAAACARUAAAAAAAIBFQAAAAAAAgEVAAAAAAACARUAAAAAAAIBFQAAAAAAAgEVAAAAAAACARUAAAAAAAIBFQAAAAAAAgEVAAAAAAACARUAAAAAAAIBFQAAAAAAAgEVAAAAAAACARUAAAAAAAIBFQAAAAAAAgEVAAAAAAACARUAAAAAAAIBFQAAAAAAAgEVAAAAAAACARUAAAAAAAIBFQAAAAAAAgEVAAAAAAACARUAAAAAAAIBFQAAAAAAAgEVAAAAAAACARUAAAAAAAIBFQAAAAAAAgEVAAAAAAACARUAAAAAAAIBFQAAAAAAAgEVAAAAAAACARUAAAAAAAIBFQAAAAAAAgEVAAAAAAACARUAAAAAAAIBFQAAAAAAAgEVAAAAAAACARUAAAAAAAIBFQAAAAAAAgEVAAAAAAACARUAAAAAAAIBFQAAAAAAAgEVAAAAAAACARUAAAAAAAIBFQAAAAAAAgEVAAAAAAACARUAAAAAAAIBFQAAAAAAAgEVAAAAAAACARUAAAAAAAABGQAAAAAAAAEZAAAAAAAAARkAAAAAAAABGQAAAAAAAAEZAAAAAAAAARkAAAAAAAABGQAAAAAAAAEZAAAAAAAAARkAAAAAAAABGQAAAAAAAAEZAAAAAAAAARkAAAAAAAABGQAAAAAAAAEZAAAAAAAAARkAAAAAAAABGQAAAAAAAAEZAAAAAAAAARkAAAAAAAABGQAAAAAAAAEZAAAAAAAAARkAAAAAAAABGQAAAAAAAAEZAAAAAAAAARkAAAAAAAABGQAAAAAAAAEZAAAAAAAAARkAAAAAAAABGQAAAAAAAAEZAAAAAAAAARkAAAAAAAABGQAAAAAAAAEZAAAAAAAAARkAAAAAAAABGQAAAAAAAAEZAAAAAAAAARkAAAAAAAABGQAAAAAAAAEZAAAAAAAAARkAAAAAAAABGQAAAAAAAAEZAAAAAAAAARkAAAAAAAABGQAAAAAAAAEZAAAAAAAAARkAAAAAAAABGQAAAAAAAAEZAAAAAAAAARkAAAAAAAABGQAAAAAAAAEZAAAAAAACARkAAAAAAAIBGQAAAAAAAgEZAAAAAAACARkAAAAAAAIBGQAAAAAAAgEZAAAAAAACARkAAAAAAAIBGQAAAAAAAgEZAAAAAAACARkAAAAAAAIBGQAAAAAAAgEZAAAAAAACARkAAAAAAAIBGQAAAAAAAgEZAAAAAAACARkAAAAAAAIBGQAAAAAAAgEZAAAAAAACARkAAAAAAAIBGQAAAAAAAgEZAAAAAAACARkAAAAAAAIBGQAAAAAAAgEZAAAAAAACARkAAAAAAAIBGQAAAAAAAgEZAAAAAAACARkAAAAAAAIBGQAAAAAAAgEZAAAAAAACARkAAAAAAAIBGQAAAAAAAgEZAAAAAAACARkAAAAAAAIBGQAAAAAAAgEZAAAAAAACARkAAAAAAAIBGQAAAAAAAgEZAAAAAAACARkAAAAAAAIBGQAAAAAAAgEZAAAAAAACARkAAAAAAAIBGQAAAAAAAgEZAAAAAAACARkAAAAAAAIBGQAAAAAAAgEZAAAAAAACARkAAAAAAAIBGQAAAAAAAAEdAAAAAAAAAR0AAAAAAAABHQAAAAAAAAEdAAAAAAAAAR0AAAAAAAABHQAAAAAAAAEdAAAAAAAAAR0AAAAAAAABHQAAAAAAAAEdAAAAAAAAAR0AAAAAAAABHQAAAAAAAAEdAAAAAAAAAR0AAAAAAAABHQAAAAAAAAEdAAAAAAAAAR0AAAAAAAABHQAAAAAAAAEdAAAAAAAAAR0AAAAAAAABHQAAAAAAAAEdAAAAAAAAAR0AAAAAAAABHQAAAAAAAAEdAAAAAAAAAR0AAAAAAAABHQAAAAAAAAEdAAAAAAAAAR0AAAAAAAABHQAAAAAAAAEdAAAAAAAAAR0AAAAAAAABHQAAAAAAAAEdAAAAAAAAAR0AAAAAAAABHQAAAAAAAAEdAAAAAAAAAR0AAAAAAAABHQAAAAAAAAEdAAAAAAAAAR0AAAAAAAABHQAAAAAAAAEdAAAAAAAAAR0AAAAAAAABHQAAAAAAAAEdAAAAAAAAAR0AAAAAAAABHQAAAAAAAAEdAAAAAAAAAR0AAAAAAAIBHQAAAAAAAgEdAAAAAAACAR0AAAAAAAIBHQAAAAAAAgEdAAAAAAACAR0AAAAAAAIBHQAAAAAAAgEdAAAAAAACAR0AAAAAAAIBHQAAAAAAAgEdAAAAAAACAR0AAAAAAAIBHQAAAAAAAgEdAAAAAAACAR0AAAAAAAIBHQAAAAAAAgEdAAAAAAACAR0AAAAAAAIBHQAAAAAAAgEdAAAAAAACAR0AAAAAAAIBHQAAAAAAAgEdAAAAAAACAR0AAAAAAAIBHQAAAAAAAgEdAAAAAAACAR0AAAAAAAIBHQAAAAAAAgEdAAAAAAACAR0AAAAAAAIBHQAAAAAAAgEdAAAAAAACAR0AAAAAAAIBHQAAAAAAAgEdAAAAAAACAR0AAAAAAAIBHQAAAAAAAgEdAAAAAAACAR0AAAAAAAIBHQAAAAAAAgEdAAAAAAACAR0AAAAAAAIBHQAAAAAAAgEdAAAAAAACAR0AAAAAAAIBHQAAAAAAAgEdAAAAAAACAR0AAAAAAAIBHQAAAAAAAgEdAAAAAAAAASEAAAAAAAABIQAAAAAAAAEhAAAAAAAAASEAAAAAAAABIQAAAAAAAAEhAAAAAAAAASEAAAAAAAABIQAAAAAAAAEhAAAAAAAAASEAAAAAAAABIQAAAAAAAAEhAAAAAAAAASEAAAAAAAABIQAAAAAAAAEhAAAAAAAAASEAAAAAAAABIQAAAAAAAAEhAAAAAAAAASEAAAAAAAABIQAAAAAAAAEhAAAAAAAAASEAAAAAAAABIQAAAAAAAAEhAAAAAAAAASEAAAAAAAABIQAAAAAAAAEhAAAAAAAAASEAAAAAAAABIQAAAAAAAAEhAAAAAAAAASEAAAAAAAABIQAAAAAAAAEhAAAAAAAAASEAAAAAAAABIQAAAAAAAAEhAAAAAAAAASEAAAAAAAABIQAAAAAAAAEhAAAAAAAAASEAAAAAAAABIQAAAAAAAAEhAAAAAAAAASEAAAAAAAABIQAAAAAAAAEhAAAAAAAAASEAAAAAAAABIQAAAAAAAAEhAAAAAAAAASEAAAAAAAABIQAAAAAAAgEhAAAAAAACASEAAAAAAAIBIQAAAAAAAgEhAAAAAAACASEAAAAAAAIBIQAAAAAAAgEhAAAAAAACASEAAAAAAAIBIQAAAAAAAgEhAAAAAAACASEAAAAAAAIBIQAAAAAAAgEhAAAAAAACASEAAAAAAAIBIQAAAAAAAgEhAAAAAAACASEAAAAAAAIBIQAAAAAAAgEhAAAAAAACASEAAAAAAAIBIQAAAAAAAgEhAAAAAAACASEAAAAAAAIBIQAAAAAAAgEhAAAAAAACASEAAAAAAAIBIQAAAAAAAgEhAAAAAAACASEAAAAAAAIBIQAAAAAAAgEhAAAAAAACASEAAAAAAAIBIQAAAAAAAgEhAAAAAAACASEAAAAAAAIBIQAAAAAAAgEhAAAAAAACASEAAAAAAAIBIQAAAAAAAgEhAAAAAAACASEAAAAAAAIBIQAAAAAAAgEhAAAAAAACASEAAAAAAAIBIQAAAAAAAgEhAAAAAAACASEAAAAAAAIBIQAAAAAAAgEhAAAAAAACASEA=\",\"dtype\":\"float64\",\"order\":\"little\",\"shape\":[2500]},\"x\":{\"__ndarray__\":\"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\",\"dtype\":\"float64\",\"order\":\"little\",\"shape\":[2500]},\"y\":{\"__ndarray__\":\"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\",\"dtype\":\"float64\",\"order\":\"little\",\"shape\":[2500]}},\"selected\":{\"id\":\"1054\"},\"selection_policy\":{\"id\":\"1076\"}},\"id\":\"1053\",\"type\":\"ColumnDataSource\"},{\"attributes\":{\"fill_color\":{\"field\":\"color\",\"transform\":{\"id\":\"1052\"}},\"hatch_color\":{\"field\":\"color\",\"transform\":{\"id\":\"1052\"}},\"line_color\":{\"field\":\"color\",\"transform\":{\"id\":\"1052\"}},\"size\":{\"value\":5},\"tags\":[\"apply_ranges\"],\"x\":{\"field\":\"x\"},\"y\":{\"field\":\"y\"}},\"id\":\"1056\",\"type\":\"Scatter\"},{\"attributes\":{},\"id\":\"1074\",\"type\":\"UnionRenderers\"},{\"attributes\":{\"fill_alpha\":{\"value\":0.1},\"fill_color\":{\"field\":\"color\",\"transform\":{\"id\":\"1052\"}},\"hatch_alpha\":{\"value\":0.1},\"hatch_color\":{\"field\":\"color\",\"transform\":{\"id\":\"1052\"}},\"line_alpha\":{\"value\":0.1},\"line_color\":{\"field\":\"color\",\"transform\":{\"id\":\"1052\"}},\"size\":{\"value\":5},\"tags\":[\"apply_ranges\"],\"x\":{\"field\":\"x\"},\"y\":{\"field\":\"y\"}},\"id\":\"1057\",\"type\":\"Scatter\"},{\"attributes\":{\"line_alpha\":{\"value\":0.2},\"line_color\":{\"field\":\"color\",\"transform\":{\"id\":\"1042\"}},\"tags\":[\"apply_ranges\"],\"x0\":{\"field\":\"x0\"},\"x1\":{\"field\":\"x1\"},\"y0\":{\"field\":\"y0\"},\"y1\":{\"field\":\"y1\"}},\"id\":\"1048\",\"type\":\"Segment\"}],\"root_ids\":[\"1002\"]},\"title\":\"Bokeh Application\",\"version\":\"2.4.3\"}};\n",
       "    var render_items = [{\"docid\":\"50c9fa2c-5071-4af0-9e72-f25c25e5d8e4\",\"root_ids\":[\"1002\"],\"roots\":{\"1002\":\"ec3b1b77-e475-4e9a-9d2d-cc5bda21654b\"}}];\n",
       "    root.Bokeh.embed.embed_items_notebook(docs_json, render_items);\n",
       "    for (const render_item of render_items) {\n",
       "      for (const root_id of render_item.root_ids) {\n",
       "\tconst id_el = document.getElementById(root_id)\n",
       "\tif (id_el.children.length && (id_el.children[0].className === 'bk-root')) {\n",
       "\t  const root_el = id_el.children[0]\n",
       "\t  root_el.id = root_el.id + '-rendered'\n",
       "\t}\n",
       "      }\n",
       "    }\n",
       "  }\n",
       "  if (root.Bokeh !== undefined && root.Bokeh.Panel !== undefined) {\n",
       "    embed_document(root);\n",
       "  } else {\n",
       "    var attempts = 0;\n",
       "    var timer = setInterval(function(root) {\n",
       "      if (root.Bokeh !== undefined && root.Bokeh.Panel !== undefined) {\n",
       "        clearInterval(timer);\n",
       "        embed_document(root);\n",
       "      } else if (document.readyState == \"complete\") {\n",
       "        attempts++;\n",
       "        if (attempts > 200) {\n",
       "          clearInterval(timer);\n",
       "          console.log(\"Bokeh: ERROR: Unable to run BokehJS code because BokehJS library is missing\");\n",
       "        }\n",
       "      }\n",
       "    }, 25, root)\n",
       "  }\n",
       "})(window);</script>"
      ],
      "text/plain": [
       ":Overlay\n",
       "   .VectorField.I :VectorField   [x,y]   (Angle,Magnitude,Index)\n",
       "   .Points.I      :Points   [x,y]   (Index)"
      ]
     },
     "execution_count": 5,
     "metadata": {
      "application/vnd.holoviews_exec.v0+json": {
       "id": "1002"
      }
     },
     "output_type": "execute_result"
    }
   ],
   "source": [
    "def to_angle(vector):\n",
    "    x = vector[0]\n",
    "    y = vector[1]\n",
    "    mag = np.sqrt(x**2 + y**2)\n",
    "    angle = (np.pi/2.) - np.arctan2(x/mag, y/mag)\n",
    "    return mag, angle\n",
    "\n",
    "def get_vectorfield_data(swarm):\n",
    "    '''Returns (xs, ys, angles, mags, ids)'''\n",
    "    xs, ys, angles, mags, ids = [], [], [], [], []\n",
    "    for particle in swarm:\n",
    "        xs.append(particle.position[0])\n",
    "        ys.append(particle.position[1])\n",
    "        mag, angle = to_angle(particle.velocity)\n",
    "        mags.append(mag)\n",
    "        angles.append(angle)\n",
    "        ids.append(particle.id)\n",
    "    return xs, ys, angles, mags, ids\n",
    "\n",
    "vect_data = get_vectorfield_data(swarm)\n",
    "vectorfield = hv.VectorField(vect_data, vdims=['Angle', 'Magnitude', 'Index'])\n",
    "\n",
    "# [x, y, id] for all particles\n",
    "particles = [np.array([vect_data[0], vect_data[1], vect_data[4]]) for i, particle in enumerate(swarm)] \n",
    "points = hv.Points(particles, vdims=['Index'])\n",
    "layout = vectorfield * points\n",
    "layout.opts(\n",
    "    opts.VectorField(color='Index', cmap='tab20c', magnitude=dim('Magnitude').norm()*10, pivot='tail'),\n",
    "    opts.Points(color='Index',     cmap='tab20c', size=5)\n",
    ")"
   ]
  },
  {
   "cell_type": "markdown",
   "metadata": {},
   "source": [
    "> Note: Here we initialised the particles with a velocity for visualisationg, we'll initialise them with zero velocity when it comes to actually optimising."
   ]
  },
  {
   "cell_type": "markdown",
   "metadata": {},
   "source": [
    "# Updating\n",
    "\n",
    "Okay so we have a population of particles, **each with a position, velocity and fittest position** but how can we update this population to find our _optimum_ spot.\n",
    "\n",
    "Each particle could just move in the direction that they think the optimum spot is. But if they overshoot it or get lost, thankfully they remember their best position so they can use that a little bit too. \n",
    "\n",
    "## Particles' social lives\n",
    "\n",
    "Seems pretty inefficient for a bunch of these particles to all be trying the same thing without sharing any information with each other. In PSO, **they can get \"fittest position\" from some other members of the population when they’re updating (called the social component)**.\n",
    "\n",
    "They choose a few other particles and say “hey I’m looking for this red marker, any chance you’ve seen it? “ and the other particles reply “No but here is where I was when I was closest to it.“. Thrilling conversations."
   ]
  },
  {
   "cell_type": "markdown",
   "metadata": {},
   "source": [
    "> Note: Intesting side note, PSO was introduced by James Kennedy and Russell Eberhart in 1995 after they discovered its optimisation properties while trying to build a social simulator."
   ]
  },
  {
   "cell_type": "markdown",
   "metadata": {},
   "source": [
    "## Too much social interaction\n",
    "\n",
    "A quick way to get stuck with a bad solution to a complex problem is to only listen to one suggestion and following that. This is what happens in particle swarm optimisation when all particles communicate to all of the particles during their update step (called the **global component**). "
   ]
  },
  {
   "cell_type": "markdown",
   "metadata": {},
   "source": [
    "### Update code"
   ]
  },
  {
   "cell_type": "markdown",
   "metadata": {},
   "source": [
    "Here's the code for the Particle to update itself each iteration."
   ]
  },
  {
   "cell_type": "code",
   "execution_count": 6,
   "metadata": {
    "execution": {
     "iopub.execute_input": "2023-11-02T13:57:31.561400Z",
     "iopub.status.busy": "2023-11-02T13:57:31.560540Z",
     "iopub.status.idle": "2023-11-02T13:57:31.568549Z",
     "shell.execute_reply": "2023-11-02T13:57:31.567734Z"
    }
   },
   "outputs": [],
   "source": [
    "def update(self, fittest_informant, global_fittest, follow_current, follow_personal_best, follow_social_best, follow_global_best, scale_update_step):\n",
    "    \"\"\" Updates the velocity and position of the particle using the PSO update algorithm\"\"\"\n",
    "    self.position += self.velocity * scale_update_step\n",
    "    cognitive = random.uniform(0, follow_personal_best)\n",
    "    social = random.uniform(0, follow_social_best)\n",
    "    glob = random.uniform(0, follow_global_best)\n",
    "    self.velocity = (follow_current * self.velocity \n",
    "                    + cognitive * (self.fittest_position - self.position)\n",
    "                    + social * (fittest_informant.fittest_position - self.position)\n",
    "                    + glob * (global_fittest.fittest_position - self.position))\n",
    "    current_fitness = self.assess_fitness()\n",
    "    if (current_fitness < self.previous_fitness and self.previous_fitness is not None):\n",
    "        self.fittest_position = self.position\n",
    "    self.previous_fitness = current_fitness"
   ]
  },
  {
   "cell_type": "markdown",
   "metadata": {},
   "source": [
    "> Note: We are using a variant of the PSO algorithm introduced in 1995, with a social component as well as global. Also, we sample uniformly from 0 and our given update parameter before updating each part of the equation."
   ]
  },
  {
   "cell_type": "markdown",
   "metadata": {},
   "source": [
    "There are various values used to determine how to update the current velocity (as described above). \n",
    "- `follow_current` is how much to use the particles current velocity.\n",
    "- `cognitive` is how much to use the particles personal best fittest position. \n",
    "- `social` is how much to use it's the fittest position of a smaller subset of the population. \n",
    "- `glob` (global) is how much to use the fittest position of the fittest particle in the population. \n",
    "\n",
    "These are applied to the difference between the particles current position and a \"fit\" other position (either it's own fittest position or another particle's fittest position)."
   ]
  },
  {
   "cell_type": "markdown",
   "metadata": {},
   "source": [
    "### Particle Class"
   ]
  },
  {
   "cell_type": "markdown",
   "metadata": {},
   "source": [
    "Here is the Particle class with the `update` and `assess_fitness` methods added in."
   ]
  },
  {
   "cell_type": "code",
   "execution_count": 7,
   "metadata": {
    "execution": {
     "iopub.execute_input": "2023-11-02T13:57:31.572009Z",
     "iopub.status.busy": "2023-11-02T13:57:31.571534Z",
     "iopub.status.idle": "2023-11-02T13:57:31.580845Z",
     "shell.execute_reply": "2023-11-02T13:57:31.580106Z"
    }
   },
   "outputs": [],
   "source": [
    "#collapse-hide\n",
    "class Particle:\n",
    "    \"\"\"\n",
    "    An Particle used in PSO.\n",
    "        \n",
    "    Attributes\n",
    "    ----------\n",
    "    problem : function to minimise\n",
    "    velocity : nparray\n",
    "        The current velocity of the particle\n",
    "    position : nparray\n",
    "        The current position of the particle, used as the solution for the problem given\n",
    "    id : int\n",
    "        The unique id of the particle\n",
    "    \n",
    "    Public Methods\n",
    "    -------\n",
    "    assess_fitness()\n",
    "        Determines the fitness of the particle using the given problem\n",
    "    update(fittest_informant, global_fittest, \n",
    "           follow_current, follow_personal_best, \n",
    "           follow_social_best, follow_global_best,\n",
    "           scale_update_step)\n",
    "        Updates the velocity and position of the particle using the PSO update algorithm\n",
    "    \"\"\"\n",
    "    \n",
    "    def __init__(self, problem, velocity, position, index):\n",
    "        self.velocity = velocity\n",
    "        self.position = position\n",
    "        self.fittest_position = position\n",
    "        self.problem = problem\n",
    "        self.id = index\n",
    "        self.previous_fitness = 1e7\n",
    "\n",
    "    def assess_fitness(self): \n",
    "        \"\"\"Determines the fitness of the particle using the given problem\"\"\"\n",
    "        return assess_fitness(self.position, self.problem)\n",
    "    \n",
    "    def update(self, fittest_informant, global_fittest, follow_current, follow_personal_best, follow_social_best, follow_global_best, scale_update_step):\n",
    "        \"\"\" Updates the velocity and position of the particle using the PSO update algorithm\"\"\"\n",
    "        self.position += self.velocity * scale_update_step\n",
    "        cognitive = random.uniform(0, follow_personal_best)\n",
    "        social = random.uniform(0, follow_social_best)\n",
    "        glob = random.uniform(0, follow_global_best)\n",
    "        self.velocity = (follow_current * self.velocity \n",
    "                        + cognitive * (self.fittest_position - self.position)\n",
    "                        + social * (fittest_informant.fittest_position - self.position)\n",
    "                        + glob * (global_fittest.fittest_position - self.position))\n",
    "        current_fitness = self.assess_fitness()\n",
    "        if (current_fitness < self.previous_fitness):\n",
    "            self.fittest_position = self.position\n",
    "        self.previous_fitness = current_fitness"
   ]
  },
  {
   "cell_type": "markdown",
   "metadata": {},
   "source": [
    "## Find the fittest Particle in the swarm"
   ]
  },
  {
   "cell_type": "markdown",
   "metadata": {},
   "source": [
    "We use this `find_current_best` method to keep track of our current fittest `Particle`, and to find the best among a selected few \"informant\" `Particle`s for the social component."
   ]
  },
  {
   "cell_type": "code",
   "execution_count": 8,
   "metadata": {
    "execution": {
     "iopub.execute_input": "2023-11-02T13:57:31.583857Z",
     "iopub.status.busy": "2023-11-02T13:57:31.583554Z",
     "iopub.status.idle": "2023-11-02T13:57:31.590153Z",
     "shell.execute_reply": "2023-11-02T13:57:31.589332Z"
    }
   },
   "outputs": [],
   "source": [
    "#collapse-show\n",
    "def find_current_best(swarm, problem):\n",
    "    \"\"\"Evaluates a given swarm and returns the fittest particle based on their best previous position\n",
    "    This can be sped up to only loop over swarm once, but because this is a tutorial, 3 lines is nicer.\n",
    "    \"\"\"\n",
    "    fitnesses = [assess_fitness(x.fittest_position, problem) for x in swarm]\n",
    "    best_value = min(fitnesses)\n",
    "    best_index = fitnesses.index(best_value)\n",
    "    return swarm[best_index]"
   ]
  },
  {
   "cell_type": "markdown",
   "metadata": {},
   "source": [
    "## PSO Class"
   ]
  },
  {
   "cell_type": "markdown",
   "metadata": {},
   "source": [
    "This is just a wrapper which updates all the particles and keeps track of the current fittest. "
   ]
  },
  {
   "cell_type": "markdown",
   "metadata": {},
   "source": [
    "> Note: One thing to note is that we randomly sample the swarm to get the \"informants\" for the `social` update in each particle. There are many different topologies that can be chosen for this part of the algorithm, but we're keeping it simple here. "
   ]
  },
  {
   "cell_type": "code",
   "execution_count": 9,
   "metadata": {
    "execution": {
     "iopub.execute_input": "2023-11-02T13:57:31.593749Z",
     "iopub.status.busy": "2023-11-02T13:57:31.593227Z",
     "iopub.status.idle": "2023-11-02T13:57:31.603968Z",
     "shell.execute_reply": "2023-11-02T13:57:31.603273Z"
    }
   },
   "outputs": [],
   "source": [
    "class PSO:\n",
    "    \"\"\"\n",
    "    An implementation of Particle Swarm Optimisation, pioneered by Kennedy, Eberhart and Shi.\n",
    "    \n",
    "    \n",
    "    The swarm consists of Particles with 2 fixed length vectors; velocity and position.\n",
    "    Position is initialised with a uniform distribution between 0 and 1. Velocity is initialised with zeros.\n",
    "    Each particle has a given number of informants which are randomly chosen at each iteration.\n",
    "    \n",
    "    Attributes\n",
    "    ----------\n",
    "    swarm_size : int\n",
    "        The size of the swarm\n",
    "    vector_length : int\n",
    "        The dimensions of the problem, should be the same used when creating the problem object \n",
    "    num_informants: int\n",
    "        The number of informants used for social component in particle velocity update \n",
    "\n",
    "    Public Methods\n",
    "    -------\n",
    "    improve(follow_current, follow_personal_best, follow_social_best, follow_global_best, scale_update_step)\n",
    "        Update each particle in the swarm and updates the global fitness\n",
    "    update_swarm(follow_current, follow_personal_best, follow_social_best, follow_global_best, scale_update_step)\n",
    "        Updates each particle, randomly choosing informants for each particle's update.\n",
    "    update_global_fittest()\n",
    "        Updates the `globale_fittest` variable to be the current fittest Particle in the swarm.\n",
    "    \"\"\"\n",
    "    def __init__(self, problem, swarm_size, vector_length, num_informants=2):\n",
    "        self.swarm_size = swarm_size\n",
    "        self.num_informants = num_informants\n",
    "        self.problem = problem\n",
    "        self.swarm = [Particle(self.problem, np.zeros(vector_length), np.random.rand(vector_length), i)\n",
    "                      for i, x in enumerate(range(swarm_size))]\n",
    "        self.global_fittest = np.random.choice(self.swarm, 1)[0]\n",
    "    \n",
    "    def update_swarm(self, follow_current, follow_personal_best, follow_social_best, follow_global_best, scale_update_step):\n",
    "        \"\"\"Update each particle in the swarm\"\"\"\n",
    "        for particle in self.swarm:\n",
    "            informants = np.random.choice(self.swarm, self.num_informants)\n",
    "            if particle not in informants:\n",
    "                np.append(informants, particle)\n",
    "            fittest_informant = find_current_best(informants, self.problem)\n",
    "            particle.update(fittest_informant, \n",
    "                            self.global_fittest, \n",
    "                            follow_current, \n",
    "                            follow_personal_best, \n",
    "                            follow_social_best, \n",
    "                            follow_global_best, \n",
    "                            scale_update_step)\n",
    "    \n",
    "    def update_global_fittest(self):\n",
    "        fittest = find_current_best(self.swarm, self.problem)\n",
    "        global_fittest_fitness = self.global_fittest.assess_fitness()\n",
    "        if (fittest.assess_fitness() < global_fittest_fitness):\n",
    "            self.global_fittest = fittest\n",
    "    \n",
    "    def improve(self, follow_current, follow_personal_best, follow_social_best, follow_global_best, scale_update_step):\n",
    "        \"\"\"Improves the population for one iteration.\"\"\"\n",
    "        self.update_swarm(follow_current, follow_personal_best, follow_social_best, follow_global_best, scale_update_step)\n",
    "        self.update_global_fittest()\n",
    "        \n",
    "size = 25\n",
    "vector_length = 2\n",
    "num_informants = 2\n",
    "pso = PSO(problem, size, vector_length)"
   ]
  },
  {
   "cell_type": "markdown",
   "metadata": {},
   "source": [
    "# Interaction"
   ]
  },
  {
   "cell_type": "markdown",
   "metadata": {},
   "source": [
    "We're using [Panel](https://panel.holoviz.org/) (a library from Anaconda) for the sliders and buttons. Because there are a _lot_ of settings for PSO, we'll leave a escape hatch for people in the form of a `reset_button` which will set the sliders to their default."
   ]
  },
  {
   "cell_type": "markdown",
   "metadata": {},
   "source": [
    "## Sliders and defaults"
   ]
  },
  {
   "cell_type": "code",
   "execution_count": 10,
   "metadata": {
    "execution": {
     "iopub.execute_input": "2023-11-02T13:57:31.608240Z",
     "iopub.status.busy": "2023-11-02T13:57:31.607727Z",
     "iopub.status.idle": "2023-11-02T13:57:31.627048Z",
     "shell.execute_reply": "2023-11-02T13:57:31.626182Z"
    }
   },
   "outputs": [
    {
     "data": {
      "text/plain": [
       "Watcher(inst=Button(name='Reset Parameters', width=50), cls=<class 'panel.widgets.button.Button'>, fn=<function reset_event at 0x7fd552b0d5e0>, mode='args', onlychanged=False, parameter_names=('clicks',), what='value', queued=False, precedence=0)"
      ]
     },
     "execution_count": 10,
     "metadata": {},
     "output_type": "execute_result"
    }
   ],
   "source": [
    "default_pop_size = 25\n",
    "default_time = 3\n",
    "default_num_informants = 6\n",
    "population_size_slider = pn.widgets.IntSlider(name='Population Size', start=10, end=50, value=default_pop_size)\n",
    "time_slider = pn.widgets.IntSlider(name='Time Evolving (s)', start=0, end=15, value=default_time)\n",
    "num_informants_slider = pn.widgets.IntSlider(name='Number of Informants', start=0, end=20, value=default_num_informants)\n",
    "\n",
    "default_current = 0.7\n",
    "default_personal_best = 2.0\n",
    "default_social_best = 0.9\n",
    "default_global_best = 0.0\n",
    "default_scale_update_step = 0.7\n",
    "follow_current_slider = pn.widgets.FloatSlider(name='Follow Current', start=0.0, end=5, value=default_current)\n",
    "follow_personal_best_slider = pn.widgets.FloatSlider(name='Follow Personal Best', start=0, end=5, value=default_personal_best)\n",
    "follow_social_best_slider = pn.widgets.FloatSlider(name='Follow Social Best', start=0.0, end=5, value=default_social_best)\n",
    "follow_global_best_slider = pn.widgets.FloatSlider(name='Follow Global Best', start=0.0, end=1, value=default_global_best)\n",
    "scale_update_step_slider = pn.widgets.FloatSlider(name='Scale Update Step', start=0.0, end=1, value=0.7)\n",
    "\n",
    "reset_params_button = pn.widgets.Button(name='Reset Parameters', width=50)\n",
    "def reset_event(event):\n",
    "    global default_current\n",
    "    global default_personal_best\n",
    "    global default_social_best\n",
    "    global default_global_best\n",
    "    global default_scale_update_step\n",
    "    global default_pop_size \n",
    "    global default_time\n",
    "    global default_num_informants\n",
    "    follow_current_slider.value, follow_personal_best_slider.value = default_current, default_personal_best\n",
    "    follow_social_best_slider.value, follow_global_best_slider.value = default_social_best, default_global_best\n",
    "    scale_update_step_slider.value, population_size_slider.value = default_scale_update_step, default_pop_size\n",
    "    time_slider.value, num_informants_slider.value = default_time, default_num_informants\n",
    "reset_params_button.on_click(reset_event)\n"
   ]
  },
  {
   "cell_type": "markdown",
   "metadata": {},
   "source": [
    "## Set the Target\n",
    "\n",
    "For the \"click to set target\" interaction, we'll use a `Holoviews` [DynamicMap](https://holoviews.org/reference/containers/bokeh/DynamicMap.html). It sounds complicated but put simply, it links a stream with a callback function. In this case the stream we're using is a `hv.stream.SingleTap`, which will trigger the `tap_event` callback function with the x and y position of the tap when a tap happens. A `hv.Points` object is returned which can be displayed later."
   ]
  },
  {
   "cell_type": "code",
   "execution_count": 11,
   "metadata": {
    "execution": {
     "iopub.execute_input": "2023-11-02T13:57:31.630286Z",
     "iopub.status.busy": "2023-11-02T13:57:31.629795Z",
     "iopub.status.idle": "2023-11-02T13:57:31.636550Z",
     "shell.execute_reply": "2023-11-02T13:57:31.635644Z"
    }
   },
   "outputs": [],
   "source": [
    "def tap_event(x,y):\n",
    "    global target_x\n",
    "    global target_y\n",
    "    if x is not None:\n",
    "        target_x, target_y = x,y\n",
    "    return hv.Points((x,y,1), label='Target').opts(color='r', marker='^', size=15)\n",
    "\n",
    "target_x, target_y = 0.5, 0.5\n",
    "tap_stream = hv.streams.SingleTap(transient=True, x=target_x, y=target_y)\n",
    "target_tap = hv.DynamicMap(tap_event, streams=[tap_stream])"
   ]
  },
  {
   "cell_type": "markdown",
   "metadata": {},
   "source": [
    "## Create button events"
   ]
  },
  {
   "cell_type": "markdown",
   "metadata": {},
   "source": [
    "Now for the best part, animating the Particles. This time our callback will return our swarm visualised using `hv.Points` for the particle points, `hv.VectorField` for the velocity arrows, and `hv.Points` to circle the fittest particle.\n",
    "\n",
    "We're going to use a `Holoviews` [DynamicMap](https://holoviews.org/reference/containers/bokeh/DynamicMap.html) again. This time, our stream that we link to the callback is one with no parameters so we can trigger it with our buttons. `run_button` creates a new population and uses DynamicMap's `periodic` method to keep updating it for a given period of time (set with a slider from above)."
   ]
  },
  {
   "cell_type": "code",
   "execution_count": 12,
   "metadata": {
    "execution": {
     "iopub.execute_input": "2023-11-02T13:57:31.640189Z",
     "iopub.status.busy": "2023-11-02T13:57:31.639691Z",
     "iopub.status.idle": "2023-11-02T13:57:31.656928Z",
     "shell.execute_reply": "2023-11-02T13:57:31.656339Z"
    }
   },
   "outputs": [
    {
     "data": {
      "text/plain": [
       "Watcher(inst=Button(name='▶ Begin Improving', width=50), cls=<class 'panel.widgets.button.Button'>, fn=<function b at 0x7fd552b0d940>, mode='args', onlychanged=False, parameter_names=('clicks',), what='value', queued=False, precedence=0)"
      ]
     },
     "execution_count": 12,
     "metadata": {},
     "output_type": "execute_result"
    }
   ],
   "source": [
    "def update_dm():\n",
    "    pso.improve(follow_current_slider.value, follow_personal_best_slider.value, \n",
    "               follow_social_best_slider.value, follow_global_best_slider.value, \n",
    "                scale_update_step_slider.value)\n",
    "    vect_data = get_vectorfield_data(pso.swarm)\n",
    "    vectorfield = hv.VectorField(vect_data, vdims=['Angle', 'Magnitude', 'Index'])\n",
    "    particles = [np.array([vect_data[0], vect_data[1], vect_data[4]]) for i, particle in enumerate(swarm)]\n",
    "    scatter = hv.Points(particles, vdims=['Index'], group='Particles')\n",
    "    fittest = hv.Points((pso.global_fittest.fittest_position[0], pso.global_fittest.fittest_position[1],1), label='Current Fittest')\n",
    "    layout = vectorfield * scatter * fittest \n",
    "    layout.opts(\n",
    "        opts.Points(color='b', fill_alpha=0.1, line_width=1, size=10),\n",
    "        opts.VectorField(color='Index', cmap='tab20c', magnitude=dim('Magnitude').norm()*10, pivot='tail'),\n",
    "        opts.Points('Particles', color='Index', cmap='tab20c', size=5, xlim=(0,1), ylim=(0,1))\n",
    "    )\n",
    "    return layout\n",
    "vector_field = hv.DynamicMap(update_dm, streams=[Stream.define('Next')()])\n",
    "\n",
    "run_button = pn.widgets.Button(name='\\u25b6 Begin Improving', width=50)\n",
    "def b(event): \n",
    "    global pso\n",
    "    size = population_size_slider.value\n",
    "    vector_length = 2\n",
    "    num_informants = num_informants_slider.value\n",
    "    pso = PSO(problem, size, vector_length, num_informants)\n",
    "    vector_field.periodic(0.005, timeout=time_slider.value)    \n",
    "run_button.on_click(b)"
   ]
  },
  {
   "cell_type": "markdown",
   "metadata": {},
   "source": [
    "## New Population Button"
   ]
  },
  {
   "cell_type": "markdown",
   "metadata": {},
   "source": [
    "We'll also add a button which can step through the update process or reset the population. We do this by hooking up other buttons to the `vector_field.streams` DynamicMap and passing it to `hv.streams.Stream.trigger`."
   ]
  },
  {
   "cell_type": "code",
   "execution_count": 13,
   "metadata": {
    "execution": {
     "iopub.execute_input": "2023-11-02T13:57:31.660193Z",
     "iopub.status.busy": "2023-11-02T13:57:31.659713Z",
     "iopub.status.idle": "2023-11-02T13:57:31.671346Z",
     "shell.execute_reply": "2023-11-02T13:57:31.670766Z"
    }
   },
   "outputs": [
    {
     "data": {
      "text/plain": [
       "Watcher(inst=Button(name='Next Generation', width=50), cls=<class 'panel.widgets.button.Button'>, fn=<function next_gen_event at 0x7fd552b0d9d0>, mode='args', onlychanged=False, parameter_names=('clicks',), what='value', queued=False, precedence=0)"
      ]
     },
     "execution_count": 13,
     "metadata": {},
     "output_type": "execute_result"
    }
   ],
   "source": [
    "def new_pop_event(event):\n",
    "    global pso\n",
    "    size = population_size_slider.value\n",
    "    num_informants = num_informants_slider.value\n",
    "    pso = PSO(problem, size, vector_length=2, num_informants=num_informants)\n",
    "    hv.streams.Stream.trigger(vector_field.streams)\n",
    "new_pop_button = pn.widgets.Button(name='New Population', width=50)\n",
    "new_pop_button.on_click(new_pop_event)\n",
    "\n",
    "def next_gen_event(event):\n",
    "    hv.streams.Stream.trigger(vector_field.streams)\n",
    "next_generation_button = pn.widgets.Button(name='Next Generation', width=50)\n",
    "next_generation_button.on_click(next_gen_event)"
   ]
  },
  {
   "cell_type": "markdown",
   "metadata": {},
   "source": [
    "## Layout everything together"
   ]
  },
  {
   "cell_type": "code",
   "execution_count": 14,
   "metadata": {
    "execution": {
     "iopub.execute_input": "2023-11-02T13:57:31.674528Z",
     "iopub.status.busy": "2023-11-02T13:57:31.674066Z",
     "iopub.status.idle": "2023-11-02T13:57:31.687888Z",
     "shell.execute_reply": "2023-11-02T13:57:31.687153Z"
    }
   },
   "outputs": [],
   "source": [
    "instructions = pn.pane.Markdown('''\n",
    "# Particle Swarm Optimisation Dashboard \n",
    "## Instructions: \n",
    "1. **Click on the plot to place the target.** \n",
    "2. Click '\\u25b6 Begin Improving' button to begin improving for the time on the Time Evolving slider. \n",
    "3. Experiment with the sliders \n",
    "''')\n",
    "dashboard = pn.Column(instructions, \n",
    "                      pn.Row((vector_field*target_tap).opts(width=600, height=600), \n",
    "                             pn.Column(\n",
    "                                 pn.Row(run_button, pn.Spacer(width=50), new_pop_button), \n",
    "                                 next_generation_button, \n",
    "                                 time_slider, \n",
    "                                 num_informants_slider,\n",
    "                                 population_size_slider,\n",
    "                                 follow_current_slider, \n",
    "                                 follow_personal_best_slider, \n",
    "                                 follow_social_best_slider, \n",
    "                                 follow_global_best_slider,\n",
    "                                 scale_update_step_slider,\n",
    "                                 reset_params_button)))"
   ]
  },
  {
   "cell_type": "code",
   "execution_count": 15,
   "metadata": {
    "execution": {
     "iopub.execute_input": "2023-11-02T13:57:31.691710Z",
     "iopub.status.busy": "2023-11-02T13:57:31.691027Z",
     "iopub.status.idle": "2023-11-02T13:57:32.158834Z",
     "shell.execute_reply": "2023-11-02T13:57:32.158076Z"
    }
   },
   "outputs": [
    {
     "data": {},
     "metadata": {},
     "output_type": "display_data"
    },
    {
     "data": {},
     "metadata": {},
     "output_type": "display_data"
    },
    {
     "data": {
      "application/vnd.holoviews_exec.v0+json": "",
      "text/html": [
       "<div id='1140'>\n",
       "  <div class=\"bk-root\" id=\"9b2a4e13-e55b-4509-82fb-fd91da426647\" data-root-id=\"1140\"></div>\n",
       "</div>\n",
       "<script type=\"application/javascript\">(function(root) {\n",
       "  function embed_document(root) {\n",
       "    var docs_json = {\"1505c796-d11c-45e9-95e6-0320a4315bcc\":{\"defs\":[{\"extends\":null,\"module\":null,\"name\":\"ReactiveHTML1\",\"overrides\":[],\"properties\":[]},{\"extends\":null,\"module\":null,\"name\":\"FlexBox1\",\"overrides\":[],\"properties\":[{\"default\":\"flex-start\",\"kind\":null,\"name\":\"align_content\"},{\"default\":\"flex-start\",\"kind\":null,\"name\":\"align_items\"},{\"default\":\"row\",\"kind\":null,\"name\":\"flex_direction\"},{\"default\":\"wrap\",\"kind\":null,\"name\":\"flex_wrap\"},{\"default\":\"flex-start\",\"kind\":null,\"name\":\"justify_content\"}]},{\"extends\":null,\"module\":null,\"name\":\"GridStack1\",\"overrides\":[],\"properties\":[{\"default\":\"warn\",\"kind\":null,\"name\":\"mode\"},{\"default\":null,\"kind\":null,\"name\":\"ncols\"},{\"default\":null,\"kind\":null,\"name\":\"nrows\"},{\"default\":true,\"kind\":null,\"name\":\"allow_resize\"},{\"default\":true,\"kind\":null,\"name\":\"allow_drag\"},{\"default\":[],\"kind\":null,\"name\":\"state\"}]},{\"extends\":null,\"module\":null,\"name\":\"click1\",\"overrides\":[],\"properties\":[{\"default\":\"\",\"kind\":null,\"name\":\"terminal_output\"},{\"default\":\"\",\"kind\":null,\"name\":\"debug_name\"},{\"default\":0,\"kind\":null,\"name\":\"clears\"}]},{\"extends\":null,\"module\":null,\"name\":\"NotificationAreaBase1\",\"overrides\":[],\"properties\":[{\"default\":\"bottom-right\",\"kind\":null,\"name\":\"position\"},{\"default\":0,\"kind\":null,\"name\":\"_clear\"}]},{\"extends\":null,\"module\":null,\"name\":\"NotificationArea1\",\"overrides\":[],\"properties\":[{\"default\":[],\"kind\":null,\"name\":\"notifications\"},{\"default\":\"bottom-right\",\"kind\":null,\"name\":\"position\"},{\"default\":0,\"kind\":null,\"name\":\"_clear\"},{\"default\":[{\"background\":\"#ffc107\",\"icon\":{\"className\":\"fas fa-exclamation-triangle\",\"color\":\"white\",\"tagName\":\"i\"},\"type\":\"warning\"},{\"background\":\"#007bff\",\"icon\":{\"className\":\"fas fa-info-circle\",\"color\":\"white\",\"tagName\":\"i\"},\"type\":\"info\"}],\"kind\":null,\"name\":\"types\"}]},{\"extends\":null,\"module\":null,\"name\":\"Notification\",\"overrides\":[],\"properties\":[{\"default\":null,\"kind\":null,\"name\":\"background\"},{\"default\":3000,\"kind\":null,\"name\":\"duration\"},{\"default\":null,\"kind\":null,\"name\":\"icon\"},{\"default\":\"\",\"kind\":null,\"name\":\"message\"},{\"default\":null,\"kind\":null,\"name\":\"notification_type\"},{\"default\":false,\"kind\":null,\"name\":\"_destroyed\"}]},{\"extends\":null,\"module\":null,\"name\":\"TemplateActions1\",\"overrides\":[],\"properties\":[{\"default\":0,\"kind\":null,\"name\":\"open_modal\"},{\"default\":0,\"kind\":null,\"name\":\"close_modal\"}]},{\"extends\":null,\"module\":null,\"name\":\"MaterialTemplateActions1\",\"overrides\":[],\"properties\":[{\"default\":0,\"kind\":null,\"name\":\"open_modal\"},{\"default\":0,\"kind\":null,\"name\":\"close_modal\"}]}],\"roots\":{\"references\":[{\"attributes\":{\"end\":5,\"margin\":[5,10,5,10],\"start\":0,\"step\":0.1,\"title\":\"Follow Personal Best\",\"value\":2.0},\"id\":\"1284\",\"type\":\"Slider\"},{\"attributes\":{\"active_drag\":{\"id\":\"1165\"},\"active_scroll\":{\"id\":\"1166\"},\"tools\":[{\"id\":\"1164\"},{\"id\":\"1165\"},{\"id\":\"1166\"},{\"id\":\"1167\"},{\"id\":\"1168\"}]},\"id\":\"1170\",\"type\":\"Toolbar\"},{\"attributes\":{\"end\":1,\"margin\":[5,10,5,10],\"start\":0.0,\"step\":0.1,\"title\":\"Scale Update Step\",\"value\":0.7},\"id\":\"1287\",\"type\":\"Slider\"},{\"attributes\":{\"end\":1,\"margin\":[5,10,5,10],\"start\":0.0,\"step\":0.1,\"title\":\"Follow Global Best\",\"value\":0.0},\"id\":\"1286\",\"type\":\"Slider\"},{\"attributes\":{\"fill_alpha\":{\"value\":0.1},\"fill_color\":{\"field\":\"color\",\"transform\":{\"id\":\"1192\"}},\"hatch_alpha\":{\"value\":0.1},\"hatch_color\":{\"field\":\"color\",\"transform\":{\"id\":\"1192\"}},\"line_alpha\":{\"value\":0.1},\"line_color\":{\"field\":\"color\",\"transform\":{\"id\":\"1192\"}},\"size\":{\"value\":5},\"tags\":[\"apply_ranges\"],\"x\":{\"field\":\"x\"},\"y\":{\"field\":\"y\"}},\"id\":\"1197\",\"type\":\"Scatter\"},{\"attributes\":{},\"id\":\"1220\",\"type\":\"UnionRenderers\"},{\"attributes\":{\"end\":5,\"margin\":[5,10,5,10],\"start\":0.0,\"step\":0.1,\"title\":\"Follow Social Best\",\"value\":0.9},\"id\":\"1285\",\"type\":\"Slider\"},{\"attributes\":{\"end\":15,\"margin\":[5,10,5,10],\"start\":0,\"title\":\"Time Evolving (s)\",\"value\":3},\"id\":\"1280\",\"type\":\"Slider\"},{\"attributes\":{\"end\":20,\"margin\":[5,10,5,10],\"start\":0,\"title\":\"Number of Informants\",\"value\":6},\"id\":\"1281\",\"type\":\"Slider\"},{\"attributes\":{\"end\":5,\"margin\":[5,10,5,10],\"start\":0.0,\"step\":0.1,\"title\":\"Follow Current\",\"value\":0.7},\"id\":\"1283\",\"type\":\"Slider\"},{\"attributes\":{\"high\":24.0,\"low\":0.0,\"palette\":[\"#3182bd\",\"#3182bd\",\"#3182bd\",\"#3182bd\",\"#3182bd\",\"#3182bd\",\"#3182bd\",\"#3182bd\",\"#3182bd\",\"#3182bd\",\"#3182bd\",\"#3182bd\",\"#3182bd\",\"#6baed6\",\"#6baed6\",\"#6baed6\",\"#6baed6\",\"#6baed6\",\"#6baed6\",\"#6baed6\",\"#6baed6\",\"#6baed6\",\"#6baed6\",\"#6baed6\",\"#6baed6\",\"#6baed6\",\"#9ecae1\",\"#9ecae1\",\"#9ecae1\",\"#9ecae1\",\"#9ecae1\",\"#9ecae1\",\"#9ecae1\",\"#9ecae1\",\"#9ecae1\",\"#9ecae1\",\"#9ecae1\",\"#9ecae1\",\"#9ecae1\",\"#c6dbef\",\"#c6dbef\",\"#c6dbef\",\"#c6dbef\",\"#c6dbef\",\"#c6dbef\",\"#c6dbef\",\"#c6dbef\",\"#c6dbef\",\"#c6dbef\",\"#c6dbef\",\"#c6dbef\",\"#e6550d\",\"#e6550d\",\"#e6550d\",\"#e6550d\",\"#e6550d\",\"#e6550d\",\"#e6550d\",\"#e6550d\",\"#e6550d\",\"#e6550d\",\"#e6550d\",\"#e6550d\",\"#e6550d\",\"#fd8d3c\",\"#fd8d3c\",\"#fd8d3c\",\"#fd8d3c\",\"#fd8d3c\",\"#fd8d3c\",\"#fd8d3c\",\"#fd8d3c\",\"#fd8d3c\",\"#fd8d3c\",\"#fd8d3c\",\"#fd8d3c\",\"#fd8d3c\",\"#fdae6b\",\"#fdae6b\",\"#fdae6b\",\"#fdae6b\",\"#fdae6b\",\"#fdae6b\",\"#fdae6b\",\"#fdae6b\",\"#fdae6b\",\"#fdae6b\",\"#fdae6b\",\"#fdae6b\",\"#fdae6b\",\"#fdd0a2\",\"#fdd0a2\",\"#fdd0a2\",\"#fdd0a2\",\"#fdd0a2\",\"#fdd0a2\",\"#fdd0a2\",\"#fdd0a2\",\"#fdd0a2\",\"#fdd0a2\",\"#fdd0a2\",\"#fdd0a2\",\"#31a354\",\"#31a354\",\"#31a354\",\"#31a354\",\"#31a354\",\"#31a354\",\"#31a354\",\"#31a354\",\"#31a354\",\"#31a354\",\"#31a354\",\"#31a354\",\"#31a354\",\"#74c476\",\"#74c476\",\"#74c476\",\"#74c476\",\"#74c476\",\"#74c476\",\"#74c476\",\"#74c476\",\"#74c476\",\"#74c476\",\"#74c476\",\"#74c476\",\"#74c476\",\"#a1d99b\",\"#a1d99b\",\"#a1d99b\",\"#a1d99b\",\"#a1d99b\",\"#a1d99b\",\"#a1d99b\",\"#a1d99b\",\"#a1d99b\",\"#a1d99b\",\"#a1d99b\",\"#a1d99b\",\"#a1d99b\",\"#c7e9c0\",\"#c7e9c0\",\"#c7e9c0\",\"#c7e9c0\",\"#c7e9c0\",\"#c7e9c0\",\"#c7e9c0\",\"#c7e9c0\",\"#c7e9c0\",\"#c7e9c0\",\"#c7e9c0\",\"#c7e9c0\",\"#756bb1\",\"#756bb1\",\"#756bb1\",\"#756bb1\",\"#756bb1\",\"#756bb1\",\"#756bb1\",\"#756bb1\",\"#756bb1\",\"#756bb1\",\"#756bb1\",\"#756bb1\",\"#756bb1\",\"#9e9ac8\",\"#9e9ac8\",\"#9e9ac8\",\"#9e9ac8\",\"#9e9ac8\",\"#9e9ac8\",\"#9e9ac8\",\"#9e9ac8\",\"#9e9ac8\",\"#9e9ac8\",\"#9e9ac8\",\"#9e9ac8\",\"#9e9ac8\",\"#bcbddc\",\"#bcbddc\",\"#bcbddc\",\"#bcbddc\",\"#bcbddc\",\"#bcbddc\",\"#bcbddc\",\"#bcbddc\",\"#bcbddc\",\"#bcbddc\",\"#bcbddc\",\"#bcbddc\",\"#bcbddc\",\"#dadaeb\",\"#dadaeb\",\"#dadaeb\",\"#dadaeb\",\"#dadaeb\",\"#dadaeb\",\"#dadaeb\",\"#dadaeb\",\"#dadaeb\",\"#dadaeb\",\"#dadaeb\",\"#dadaeb\",\"#636363\",\"#636363\",\"#636363\",\"#636363\",\"#636363\",\"#636363\",\"#636363\",\"#636363\",\"#636363\",\"#636363\",\"#636363\",\"#636363\",\"#636363\",\"#969696\",\"#969696\",\"#969696\",\"#969696\",\"#969696\",\"#969696\",\"#969696\",\"#969696\",\"#969696\",\"#969696\",\"#969696\",\"#969696\",\"#969696\",\"#bdbdbd\",\"#bdbdbd\",\"#bdbdbd\",\"#bdbdbd\",\"#bdbdbd\",\"#bdbdbd\",\"#bdbdbd\",\"#bdbdbd\",\"#bdbdbd\",\"#bdbdbd\",\"#bdbdbd\",\"#bdbdbd\",\"#bdbdbd\",\"#d9d9d9\",\"#d9d9d9\",\"#d9d9d9\",\"#d9d9d9\",\"#d9d9d9\",\"#d9d9d9\",\"#d9d9d9\",\"#d9d9d9\",\"#d9d9d9\",\"#d9d9d9\",\"#d9d9d9\",\"#d9d9d9\",\"#d9d9d9\"]},\"id\":\"1192\",\"type\":\"LinearColorMapper\"},{\"attributes\":{},\"id\":\"1178\",\"type\":\"AllLabels\"},{\"attributes\":{},\"id\":\"1154\",\"type\":\"LinearScale\"},{\"attributes\":{\"angle\":{\"value\":0.0},\"fill_alpha\":{\"value\":0.1},\"fill_color\":{\"value\":\"#0000ff\"},\"hatch_alpha\":{\"value\":1.0},\"hatch_color\":{\"value\":\"#0000ff\"},\"hatch_scale\":{\"value\":12.0},\"hatch_weight\":{\"value\":1.0},\"line_alpha\":{\"value\":1.0},\"line_cap\":{\"value\":\"butt\"},\"line_color\":{\"value\":\"#0000ff\"},\"line_dash\":{\"value\":[]},\"line_dash_offset\":{\"value\":0},\"line_join\":{\"value\":\"bevel\"},\"line_width\":{\"value\":1},\"marker\":{\"value\":\"circle\"},\"size\":{\"value\":10},\"tags\":[\"apply_ranges\"],\"x\":{\"field\":\"x\"},\"y\":{\"field\":\"y\"}},\"id\":\"1227\",\"type\":\"Scatter\"},{\"attributes\":{\"fill_alpha\":{\"value\":0.1},\"fill_color\":{\"field\":\"color\",\"transform\":{\"id\":\"1192\"}},\"hatch_color\":{\"field\":\"color\",\"transform\":{\"id\":\"1192\"}},\"line_color\":{\"field\":\"color\",\"transform\":{\"id\":\"1192\"}},\"size\":{\"value\":5},\"tags\":[\"apply_ranges\"],\"x\":{\"field\":\"x\"},\"y\":{\"field\":\"y\"}},\"id\":\"1198\",\"type\":\"Scatter\"},{\"attributes\":{\"bottom_units\":\"screen\",\"coordinates\":null,\"fill_alpha\":0.5,\"fill_color\":\"lightgrey\",\"group\":null,\"left_units\":\"screen\",\"level\":\"overlay\",\"line_alpha\":1.0,\"line_color\":\"black\",\"line_dash\":[4,4],\"line_width\":2,\"right_units\":\"screen\",\"syncable\":false,\"top_units\":\"screen\"},\"id\":\"1169\",\"type\":\"BoxAnnotation\"},{\"attributes\":{\"line_color\":{\"field\":\"color\",\"transform\":{\"id\":\"1182\"}},\"tags\":[\"apply_ranges\"],\"x0\":{\"field\":\"x0\"},\"x1\":{\"field\":\"x1\"},\"y0\":{\"field\":\"y0\"},\"y1\":{\"field\":\"y1\"}},\"id\":\"1186\",\"type\":\"Segment\"},{\"attributes\":{\"fill_color\":{\"value\":\"#ff0000\"},\"hatch_color\":{\"value\":\"#ff0000\"},\"line_color\":{\"value\":\"#ff0000\"},\"marker\":{\"value\":\"triangle\"},\"size\":{\"value\":15},\"tags\":[\"apply_ranges\"],\"x\":{\"field\":\"x\"},\"y\":{\"field\":\"y\"}},\"id\":\"1231\",\"type\":\"Scatter\"},{\"attributes\":{\"icon\":null,\"label\":\"Next Generation\",\"margin\":[5,10,5,10],\"min_width\":50,\"subscribed_events\":[\"button_click\"],\"width\":50},\"id\":\"1279\",\"type\":\"Button\"},{\"attributes\":{\"fill_alpha\":{\"value\":0.1},\"fill_color\":{\"field\":\"color\",\"transform\":{\"id\":\"1192\"}},\"hatch_color\":{\"field\":\"color\",\"transform\":{\"id\":\"1192\"}},\"line_color\":{\"field\":\"color\",\"transform\":{\"id\":\"1192\"}},\"size\":{\"value\":5},\"tags\":[\"apply_ranges\"],\"x\":{\"field\":\"x\"},\"y\":{\"field\":\"y\"}},\"id\":\"1199\",\"type\":\"Scatter\"},{\"attributes\":{\"children\":[{\"id\":\"1276\"},{\"id\":\"1277\"},{\"id\":\"1278\"}],\"margin\":[0,0,0,0],\"name\":\"Row00914\"},\"id\":\"1275\",\"type\":\"Row\"},{\"attributes\":{\"source\":{\"id\":\"1193\"}},\"id\":\"1202\",\"type\":\"CDSView\"},{\"attributes\":{},\"id\":\"1177\",\"type\":\"BasicTickFormatter\"},{\"attributes\":{\"css_classes\":[\"markdown\"],\"margin\":[5,5,5,5],\"name\":\"Markdown00902\",\"text\":\"&lt;h1&gt;Particle Swarm Optimisation Dashboard&lt;/h1&gt;\\n&lt;h2&gt;Instructions:&lt;/h2&gt;\\n&lt;ol&gt;\\n&lt;li&gt;&lt;strong&gt;Click on the plot to place the target.&lt;/strong&gt; &lt;/li&gt;\\n&lt;li&gt;Click &amp;lsquo;\\u25b6 Begin Improving&amp;rsquo; button to begin improving for the time on the Time Evolving slider. &lt;/li&gt;\\n&lt;li&gt;Experiment with the sliders &lt;/li&gt;\\n&lt;/ol&gt;\"},\"id\":\"1141\",\"type\":\"panel.models.markup.HTML\"},{\"attributes\":{\"fill_alpha\":{\"value\":0.2},\"fill_color\":{\"field\":\"color\",\"transform\":{\"id\":\"1192\"}},\"hatch_alpha\":{\"value\":0.2},\"hatch_color\":{\"field\":\"color\",\"transform\":{\"id\":\"1192\"}},\"line_alpha\":{\"value\":0.2},\"line_color\":{\"field\":\"color\",\"transform\":{\"id\":\"1192\"}},\"size\":{\"value\":5},\"tags\":[\"apply_ranges\"],\"x\":{\"field\":\"x\"},\"y\":{\"field\":\"y\"}},\"id\":\"1200\",\"type\":\"Scatter\"},{\"attributes\":{},\"id\":\"1180\",\"type\":\"BasicTickFormatter\"},{\"attributes\":{},\"id\":\"1181\",\"type\":\"AllLabels\"},{\"attributes\":{\"coordinates\":null,\"data_source\":{\"id\":\"1193\"},\"glyph\":{\"id\":\"1196\"},\"group\":null,\"hover_glyph\":{\"id\":\"1199\"},\"muted_glyph\":{\"id\":\"1200\"},\"nonselection_glyph\":{\"id\":\"1197\"},\"selection_glyph\":{\"id\":\"1198\"},\"view\":{\"id\":\"1202\"}},\"id\":\"1201\",\"type\":\"GlyphRenderer\"},{\"attributes\":{\"fill_alpha\":{\"value\":0.2},\"fill_color\":{\"value\":\"#ff0000\"},\"hatch_alpha\":{\"value\":0.2},\"hatch_color\":{\"value\":\"#ff0000\"},\"line_alpha\":{\"value\":0.2},\"line_color\":{\"value\":\"#ff0000\"},\"marker\":{\"value\":\"triangle\"},\"size\":{\"value\":15},\"tags\":[\"apply_ranges\"],\"x\":{\"field\":\"x\"},\"y\":{\"field\":\"y\"}},\"id\":\"1233\",\"type\":\"Scatter\"},{\"attributes\":{\"margin\":[5,5,5,5],\"min_width\":50,\"name\":\"Spacer00913\",\"width\":50},\"id\":\"1277\",\"type\":\"Spacer\"},{\"attributes\":{\"fill_alpha\":{\"value\":0.1},\"fill_color\":{\"value\":\"#ff0000\"},\"hatch_alpha\":{\"value\":0.1},\"hatch_color\":{\"value\":\"#ff0000\"},\"line_alpha\":{\"value\":0.1},\"line_color\":{\"value\":\"#ff0000\"},\"marker\":{\"value\":\"triangle\"},\"size\":{\"value\":15},\"tags\":[\"apply_ranges\"],\"x\":{\"field\":\"x\"},\"y\":{\"field\":\"y\"}},\"id\":\"1232\",\"type\":\"Scatter\"},{\"attributes\":{\"icon\":null,\"label\":\"Reset Parameters\",\"margin\":[5,10,5,10],\"min_width\":50,\"subscribed_events\":[\"button_click\"],\"width\":50},\"id\":\"1288\",\"type\":\"Button\"},{\"attributes\":{\"fill_alpha\":{\"value\":0.1},\"fill_color\":{\"value\":\"#0000ff\"},\"hatch_color\":{\"value\":\"#0000ff\"},\"line_color\":{\"value\":\"#0000ff\"},\"size\":{\"value\":10},\"tags\":[\"apply_ranges\"],\"x\":{\"field\":\"x\"},\"y\":{\"field\":\"y\"}},\"id\":\"1206\",\"type\":\"Scatter\"},{\"attributes\":{\"fill_alpha\":{\"value\":0.1},\"fill_color\":{\"value\":\"#0000ff\"},\"hatch_alpha\":{\"value\":0.1},\"hatch_color\":{\"value\":\"#0000ff\"},\"line_alpha\":{\"value\":0.1},\"line_color\":{\"value\":\"#0000ff\"},\"size\":{\"value\":10},\"tags\":[\"apply_ranges\"],\"x\":{\"field\":\"x\"},\"y\":{\"field\":\"y\"}},\"id\":\"1207\",\"type\":\"Scatter\"},{\"attributes\":{\"reset_end\":1,\"reset_start\":0,\"tags\":[[[\"x\",\"x\",null]],[]]},\"id\":\"1143\",\"type\":\"Range1d\"},{\"attributes\":{\"data\":{\"x\":{\"__ndarray__\":\"AAAAAAAA4D8=\",\"dtype\":\"float64\",\"order\":\"little\",\"shape\":[1]},\"y\":{\"__ndarray__\":\"AAAAAAAA4D8=\",\"dtype\":\"float64\",\"order\":\"little\",\"shape\":[1]}},\"selected\":{\"id\":\"1229\"},\"selection_policy\":{\"id\":\"1249\"}},\"id\":\"1228\",\"type\":\"ColumnDataSource\"},{\"attributes\":{\"click_policy\":\"mute\",\"coordinates\":null,\"group\":null,\"items\":[{\"id\":\"1226\"},{\"id\":\"1252\"}]},\"id\":\"1225\",\"type\":\"Legend\"},{\"attributes\":{},\"id\":\"1204\",\"type\":\"Selection\"},{\"attributes\":{},\"id\":\"1229\",\"type\":\"Selection\"},{\"attributes\":{},\"id\":\"1184\",\"type\":\"Selection\"},{\"attributes\":{\"angle\":{\"value\":0},\"fill_alpha\":{\"value\":1.0},\"fill_color\":{\"value\":\"#ff0000\"},\"hatch_alpha\":{\"value\":1.0},\"hatch_color\":{\"value\":\"#ff0000\"},\"hatch_scale\":{\"value\":12.0},\"hatch_weight\":{\"value\":1.0},\"line_alpha\":{\"value\":1.0},\"line_cap\":{\"value\":\"butt\"},\"line_color\":{\"value\":\"#ff0000\"},\"line_dash\":{\"value\":[]},\"line_dash_offset\":{\"value\":0},\"line_join\":{\"value\":\"bevel\"},\"line_width\":{\"value\":1},\"marker\":{\"value\":\"triangle\"},\"size\":{\"value\":15},\"tags\":[\"apply_ranges\"],\"x\":{\"field\":\"x\"},\"y\":{\"field\":\"y\"}},\"id\":\"1253\",\"type\":\"Scatter\"},{\"attributes\":{},\"id\":\"1222\",\"type\":\"UnionRenderers\"},{\"attributes\":{\"coordinates\":null,\"data_source\":{\"id\":\"1228\"},\"glyph\":{\"id\":\"1231\"},\"group\":null,\"hover_glyph\":null,\"muted_glyph\":{\"id\":\"1233\"},\"name\":\"Target\",\"nonselection_glyph\":{\"id\":\"1232\"},\"selection_glyph\":{\"id\":\"1253\"},\"view\":{\"id\":\"1235\"}},\"id\":\"1234\",\"type\":\"GlyphRenderer\"},{\"attributes\":{\"icon\":null,\"label\":\"New Population\",\"margin\":[5,10,5,10],\"min_width\":50,\"subscribed_events\":[\"button_click\"],\"width\":50},\"id\":\"1278\",\"type\":\"Button\"},{\"attributes\":{\"label\":{\"value\":\"Target\"},\"renderers\":[{\"id\":\"1234\"}]},\"id\":\"1252\",\"type\":\"LegendItem\"},{\"attributes\":{\"end\":50,\"margin\":[5,10,5,10],\"start\":10,\"title\":\"Population Size\",\"value\":25},\"id\":\"1282\",\"type\":\"Slider\"},{\"attributes\":{\"below\":[{\"id\":\"1156\"}],\"center\":[{\"id\":\"1159\"},{\"id\":\"1163\"},{\"id\":\"1225\"}],\"left\":[{\"id\":\"1160\"}],\"margin\":[5,5,5,5],\"min_border_bottom\":10,\"min_border_left\":10,\"min_border_right\":10,\"min_border_top\":10,\"output_backend\":\"webgl\",\"renderers\":[{\"id\":\"1189\"},{\"id\":\"1201\"},{\"id\":\"1209\"},{\"id\":\"1234\"}],\"sizing_mode\":\"fixed\",\"subscribed_events\":[\"tap\"],\"title\":{\"id\":\"1148\"},\"toolbar\":{\"id\":\"1170\"},\"x_range\":{\"id\":\"1143\"},\"x_scale\":{\"id\":\"1154\"},\"y_range\":{\"id\":\"1144\"},\"y_scale\":{\"id\":\"1155\"}},\"id\":\"1147\",\"subtype\":\"Figure\",\"type\":\"Plot\"},{\"attributes\":{\"fill_alpha\":{\"value\":0.2},\"fill_color\":{\"value\":\"#0000ff\"},\"hatch_alpha\":{\"value\":0.2},\"hatch_color\":{\"value\":\"#0000ff\"},\"line_alpha\":{\"value\":0.2},\"line_color\":{\"value\":\"#0000ff\"},\"size\":{\"value\":10},\"tags\":[\"apply_ranges\"],\"x\":{\"field\":\"x\"},\"y\":{\"field\":\"y\"}},\"id\":\"1208\",\"type\":\"Scatter\"},{\"attributes\":{\"icon\":null,\"label\":\"\\u25b6 Begin Improving\",\"margin\":[5,10,5,10],\"min_width\":50,\"subscribed_events\":[\"button_click\"],\"width\":50},\"id\":\"1276\",\"type\":\"Button\"},{\"attributes\":{\"source\":{\"id\":\"1228\"}},\"id\":\"1235\",\"type\":\"CDSView\"},{\"attributes\":{\"label\":{\"value\":\"Current Fittest\"},\"renderers\":[{\"id\":\"1209\"}]},\"id\":\"1226\",\"type\":\"LegendItem\"},{\"attributes\":{\"coordinates\":null,\"data_source\":{\"id\":\"1203\"},\"glyph\":{\"id\":\"1206\"},\"group\":null,\"hover_glyph\":null,\"muted_glyph\":{\"id\":\"1208\"},\"name\":\"Current Fittest\",\"nonselection_glyph\":{\"id\":\"1207\"},\"selection_glyph\":{\"id\":\"1227\"},\"view\":{\"id\":\"1210\"}},\"id\":\"1209\",\"type\":\"GlyphRenderer\"},{\"attributes\":{\"reset_end\":1,\"reset_start\":0,\"tags\":[[[\"y\",\"y\",null]],{\"autorange\":false,\"invert_yaxis\":false}]},\"id\":\"1144\",\"type\":\"Range1d\"},{\"attributes\":{\"source\":{\"id\":\"1203\"}},\"id\":\"1210\",\"type\":\"CDSView\"},{\"attributes\":{},\"id\":\"1249\",\"type\":\"UnionRenderers\"},{\"attributes\":{\"coordinates\":null,\"group\":null,\"text_color\":\"black\",\"text_font_size\":\"12pt\"},\"id\":\"1148\",\"type\":\"Title\"},{\"attributes\":{},\"id\":\"1157\",\"type\":\"BasicTicker\"},{\"attributes\":{\"client_comm_id\":\"958fe390fd50493c88a474f1ced10fe5\",\"comm_id\":\"441a1f3207314438ae62c90c25eaab8c\",\"plot_id\":\"1140\"},\"id\":\"1337\",\"type\":\"panel.models.comm_manager.CommManager\"},{\"attributes\":{\"axis_label\":\"x\",\"coordinates\":null,\"formatter\":{\"id\":\"1177\"},\"group\":null,\"major_label_policy\":{\"id\":\"1178\"},\"ticker\":{\"id\":\"1157\"}},\"id\":\"1156\",\"type\":\"LinearAxis\"},{\"attributes\":{},\"id\":\"1155\",\"type\":\"LinearScale\"},{\"attributes\":{\"data\":{\"color\":[0,1,2,3,4,5,6,7,8,9,10,11,12,13,14,15,16,17,18,19,20,21,22,23,24,0,1,2,3,4,5,6,7,8,9,10,11,12,13,14,15,16,17,18,19,20,21,22,23,24,0,1,2,3,4,5,6,7,8,9,10,11,12,13,14,15,16,17,18,19,20,21,22,23,24],\"x0\":{\"__ndarray__\":\"7Mih9IG86T+9gvMFQSroP+/mai6fIdM/5zBqKJ175j/e/zGTWObWP5154uElG+s/LLsBEsX1pT9EKlWbWx3OPzs3d+Q6xNc/+BRw0+hu5j/qeNBS5LnVP56L4qNpRuk/aUsPOwQV4T+V26vQeB7mPwSdzFPH3dg/IDqtLfuv4j9HSn3SjZrMP3rSHPmTdec/unGn6iq/5z91dS+qWs3cP7RDobZnM+w/i+BRFRNT2j9N4r9JuMbkP194f2jTt+c/+m/N2P3DsD/syKH0gbzpP72C8wVBKug/7+ZqLp8h0z/nMGoonXvmP97/MZNY5tY/nXni4SUb6z8suwESxfWlP0QqVZtbHc4/Ozd35DrE1z/4FHDT6G7mP+p40FLkudU/novio2lG6T9pSw87BBXhP5Xbq9B4HuY/BJ3MU8fd2D8gOq0t+6/iP0dKfdKNmsw/etIc+ZN15z+6cafqKr/nP3V1L6pazdw/tEOhtmcz7D+L4FEVE1PaP03iv0m4xuQ/X3h/aNO35z/6b83Y/cOwP+zIofSBvOk/vYLzBUEq6D/v5mounyHTP+cwaiide+Y/3v8xk1jm1j+deeLhJRvrPyy7ARLF9aU/RCpVm1sdzj87N3fkOsTXP/gUcNPobuY/6njQUuS51T+ei+KjaUbpP2lLDzsEFeE/ldur0Hge5j8EncxTx93YPyA6rS37r+I/R0p90o2azD960hz5k3XnP7pxp+oqv+c/dXUvqlrN3D+0Q6G2ZzPsP4vgURUTU9o/TeK/SbjG5D9feH9o07fnP/pvzdj9w7A/\",\"dtype\":\"float64\",\"order\":\"little\",\"shape\":[75]},\"x1\":{\"__ndarray__\":\"sBcOq0uF6T8TVeCd5jbqP2IK1w2IQtU/UkO7ZCF15j+Uqf2YgPbMP/pSkQ2pIes/cMa75lC0pD9EKlWbWx3OP8jIWskW8tU/L3G7nqVu5j8iG4sz5DTRP48uqOJl6+k/atfXBnvD3z8RG2PbQQnmPxC8QF0FnNY/SDbEhmvS4T9o7q/SPFmwP4EgBWdNlOY//N+UxuX65z8KiW3Xs83YPzMKej0/ku0/8J55COE43T+cNKy9xV3lP3U1WRcrPug/wEPMmFF4rD9UYOa9by7qP9lu4ZHVuug/XvCgmJU61D9eEt+x2a7mP74gZXeYUNQ/6+fsayUd6z8S07yYd2uoP0QqVZtbHc4/DlJMs5Sl1z/usjDbnmPmP/qdY8coT9Q/0NaAzL9o6T/yxVIY0bLgP6YK00dc3OU/3roIJVDU2T/6ENay3zHjP5N7O5TW8Mg/g9xT99uZ5j8NlaV4iRjoP2i9pi568ds/OGgwRT0e7D9VteXh1NTbPwmRVhCh3eQ/VVmmjQDZ6D8wDS5xpU2vP28JtPEON+k/+ti7FipT6D8LLthbUMnSPzcLPM4VRuY/py4hxCeC1j/+nOfGcxvrPzjNYN5rDqM/RCpVm1sdzj8w5FjQEj7XP1xF5wgbeuY/qQyaI5CL1T+AE8w/aF7pP5zeXeWTCuE/Js1MNxVZ5j/B6fPa+RrXP/GJpTvB3+E/u4j0XTULyT8JZ7FapgHoP2C1PX/qeuc/NGKrxlA/3D8+t5O9nMTsP88LLMOV19k/ll5/Ojfl5D89LyiPJcbmPy3aveQd/LA/\",\"dtype\":\"float64\",\"order\":\"little\",\"shape\":[75]},\"y0\":{\"__ndarray__\":\"4mZ1uTSOwT+0ivPzrC/XPzxylYv7rtA/o1AO7Q525j++t24pVg3YP1U+kdzP88k/RH1QbZD52j+JNrvtH+TkP6WmMEZecOU/wbG1lcsw6z+m8IhvOo/qP62cznpc7+o/glRplWWl6T9WQ4IAve7qP88vP7Fvr90/j8eobdEj1D9D77vznoXlPwCG4Q3I5OY/5nmDKbcn4j/lhywYkuTsP9ec+bx73u0/TzawVpnn0z86lCfunU/rP1lhFBt33Mw/3Etea3bL5j/iZnW5NI7BP7SK8/OsL9c/PHKVi/uu0D+jUA7tDnbmP763bilWDdg/VT6R3M/zyT9EfVBtkPnaP4k2u+0f5OQ/paYwRl5w5T/BsbWVyzDrP6bwiG86j+o/rZzOelzv6j+CVGmVZaXpP1ZDggC97uo/zy8/sW+v3T+Px6ht0SPUP0Pvu/OeheU/AIbhDcjk5j/meYMptyfiP+WHLBiS5Ow/15z5vHve7T9PNrBWmefTPzqUJ+6dT+s/WWEUG3fczD/cS15rdsvmP+Jmdbk0jsE/tIrz86wv1z88cpWL+67QP6NQDu0OduY/vrduKVYN2D9VPpHcz/PJP0R9UG2Q+do/iTa77R/k5D+lpjBGXnDlP8GxtZXLMOs/pvCIbzqP6j+tnM56XO/qP4JUaZVlpek/VkOCAL3u6j/PLz+xb6/dP4/HqG3RI9Q/Q++7856F5T8AhuENyOTmP+Z5gym3J+I/5YcsGJLk7D/XnPm8e97tP082sFaZ59M/OpQn7p1P6z9ZYRQbd9zMP9xLXmt2y+Y/\",\"dtype\":\"float64\",\"order\":\"little\",\"shape\":[75]},\"y1\":{\"__ndarray__\":\"QKlcrMR9qj9a/BD6OuXUP+QwNlgONck/yizq0rxN5T/UgFvdqkHeP3yinLul4Mk/yAyjgR4U2T+JNrvtH+TkPwa5ipr83eQ/mKMyhGRw6z/CflXUsE7sP5/IGRQc0uo/WW/4Sp+d6j+XDEmrgU/sP4i6bbgR+9U/wLflm0FWyT+OQOR6RJjlP93qxEJs3uo/y4FCX+Vp4D8g2byNplLtP0SZo5sOte8/PPhf4XaOzD9z7ZkzE2XrP+BAHAEWmqU/9jAuyyBE5z/g0Xxb0fC+Py43hBV/gdc/WLkCuaxW0D/zKuCSh0DmP4fmXVolqdc/2sulcAf1yT+GX9xGpZzaP4k2u+0f5OQ/IH0hPEot5T8l4izL/TvrP4W67VcQeOo/jyS4FlsH6z+157c/9ZrpP+c0I2dZKes/jHxmOKLs2z8wZ5mJXYPSP+C+mdbIoeQ/jxp2b9pw5z+MvRm+duPhP0V+aiaNnew/YRDsw7Bv7j+TYYoEHGzTP4MQ594cbus/0Ty3tb8VyT8iWdxsetLmP4gSxij7jL8/fLIX3IMO1j+b0b5CCizPPyxvmWPSQuY/3pY7RRaj2j8ehWe00evJP0caeRzaqto/iTa77R/k5D88GcZesX/lP8sT9Y0VPOs/Hl4/NZhE6z97UTBSBs3qP/nZJbiYB+o/RRRbidkw6z/1EQPg5rjcP9sZV2MIINM/8GJMwwxw5j/3e6oPgMDnP5NWhZtYzuE/7OPwVYJS7T9TeGoupvPtP4VhHIrXZdI/fuWQJ7U46z+B3XiGwlfIPwgZZc8b7+Y/\",\"dtype\":\"float64\",\"order\":\"little\",\"shape\":[75]}},\"selected\":{\"id\":\"1184\"},\"selection_policy\":{\"id\":\"1218\"}},\"id\":\"1183\",\"type\":\"ColumnDataSource\"},{\"attributes\":{\"axis\":{\"id\":\"1156\"},\"coordinates\":null,\"grid_line_color\":null,\"group\":null,\"ticker\":null},\"id\":\"1159\",\"type\":\"Grid\"},{\"attributes\":{\"axis_label\":\"y\",\"coordinates\":null,\"formatter\":{\"id\":\"1180\"},\"group\":null,\"major_label_policy\":{\"id\":\"1181\"},\"ticker\":{\"id\":\"1161\"}},\"id\":\"1160\",\"type\":\"LinearAxis\"},{\"attributes\":{\"axis\":{\"id\":\"1160\"},\"coordinates\":null,\"dimension\":1,\"grid_line_color\":null,\"group\":null,\"ticker\":null},\"id\":\"1163\",\"type\":\"Grid\"},{\"attributes\":{},\"id\":\"1161\",\"type\":\"BasicTicker\"},{\"attributes\":{\"source\":{\"id\":\"1183\"}},\"id\":\"1190\",\"type\":\"CDSView\"},{\"attributes\":{},\"id\":\"1166\",\"type\":\"WheelZoomTool\"},{\"attributes\":{\"high\":24,\"low\":0,\"palette\":[\"#3182bd\",\"#3182bd\",\"#3182bd\",\"#3182bd\",\"#3182bd\",\"#3182bd\",\"#3182bd\",\"#3182bd\",\"#3182bd\",\"#3182bd\",\"#3182bd\",\"#3182bd\",\"#3182bd\",\"#6baed6\",\"#6baed6\",\"#6baed6\",\"#6baed6\",\"#6baed6\",\"#6baed6\",\"#6baed6\",\"#6baed6\",\"#6baed6\",\"#6baed6\",\"#6baed6\",\"#6baed6\",\"#6baed6\",\"#9ecae1\",\"#9ecae1\",\"#9ecae1\",\"#9ecae1\",\"#9ecae1\",\"#9ecae1\",\"#9ecae1\",\"#9ecae1\",\"#9ecae1\",\"#9ecae1\",\"#9ecae1\",\"#9ecae1\",\"#9ecae1\",\"#c6dbef\",\"#c6dbef\",\"#c6dbef\",\"#c6dbef\",\"#c6dbef\",\"#c6dbef\",\"#c6dbef\",\"#c6dbef\",\"#c6dbef\",\"#c6dbef\",\"#c6dbef\",\"#c6dbef\",\"#e6550d\",\"#e6550d\",\"#e6550d\",\"#e6550d\",\"#e6550d\",\"#e6550d\",\"#e6550d\",\"#e6550d\",\"#e6550d\",\"#e6550d\",\"#e6550d\",\"#e6550d\",\"#e6550d\",\"#fd8d3c\",\"#fd8d3c\",\"#fd8d3c\",\"#fd8d3c\",\"#fd8d3c\",\"#fd8d3c\",\"#fd8d3c\",\"#fd8d3c\",\"#fd8d3c\",\"#fd8d3c\",\"#fd8d3c\",\"#fd8d3c\",\"#fd8d3c\",\"#fdae6b\",\"#fdae6b\",\"#fdae6b\",\"#fdae6b\",\"#fdae6b\",\"#fdae6b\",\"#fdae6b\",\"#fdae6b\",\"#fdae6b\",\"#fdae6b\",\"#fdae6b\",\"#fdae6b\",\"#fdae6b\",\"#fdd0a2\",\"#fdd0a2\",\"#fdd0a2\",\"#fdd0a2\",\"#fdd0a2\",\"#fdd0a2\",\"#fdd0a2\",\"#fdd0a2\",\"#fdd0a2\",\"#fdd0a2\",\"#fdd0a2\",\"#fdd0a2\",\"#31a354\",\"#31a354\",\"#31a354\",\"#31a354\",\"#31a354\",\"#31a354\",\"#31a354\",\"#31a354\",\"#31a354\",\"#31a354\",\"#31a354\",\"#31a354\",\"#31a354\",\"#74c476\",\"#74c476\",\"#74c476\",\"#74c476\",\"#74c476\",\"#74c476\",\"#74c476\",\"#74c476\",\"#74c476\",\"#74c476\",\"#74c476\",\"#74c476\",\"#74c476\",\"#a1d99b\",\"#a1d99b\",\"#a1d99b\",\"#a1d99b\",\"#a1d99b\",\"#a1d99b\",\"#a1d99b\",\"#a1d99b\",\"#a1d99b\",\"#a1d99b\",\"#a1d99b\",\"#a1d99b\",\"#a1d99b\",\"#c7e9c0\",\"#c7e9c0\",\"#c7e9c0\",\"#c7e9c0\",\"#c7e9c0\",\"#c7e9c0\",\"#c7e9c0\",\"#c7e9c0\",\"#c7e9c0\",\"#c7e9c0\",\"#c7e9c0\",\"#c7e9c0\",\"#756bb1\",\"#756bb1\",\"#756bb1\",\"#756bb1\",\"#756bb1\",\"#756bb1\",\"#756bb1\",\"#756bb1\",\"#756bb1\",\"#756bb1\",\"#756bb1\",\"#756bb1\",\"#756bb1\",\"#9e9ac8\",\"#9e9ac8\",\"#9e9ac8\",\"#9e9ac8\",\"#9e9ac8\",\"#9e9ac8\",\"#9e9ac8\",\"#9e9ac8\",\"#9e9ac8\",\"#9e9ac8\",\"#9e9ac8\",\"#9e9ac8\",\"#9e9ac8\",\"#bcbddc\",\"#bcbddc\",\"#bcbddc\",\"#bcbddc\",\"#bcbddc\",\"#bcbddc\",\"#bcbddc\",\"#bcbddc\",\"#bcbddc\",\"#bcbddc\",\"#bcbddc\",\"#bcbddc\",\"#bcbddc\",\"#dadaeb\",\"#dadaeb\",\"#dadaeb\",\"#dadaeb\",\"#dadaeb\",\"#dadaeb\",\"#dadaeb\",\"#dadaeb\",\"#dadaeb\",\"#dadaeb\",\"#dadaeb\",\"#dadaeb\",\"#636363\",\"#636363\",\"#636363\",\"#636363\",\"#636363\",\"#636363\",\"#636363\",\"#636363\",\"#636363\",\"#636363\",\"#636363\",\"#636363\",\"#636363\",\"#969696\",\"#969696\",\"#969696\",\"#969696\",\"#969696\",\"#969696\",\"#969696\",\"#969696\",\"#969696\",\"#969696\",\"#969696\",\"#969696\",\"#969696\",\"#bdbdbd\",\"#bdbdbd\",\"#bdbdbd\",\"#bdbdbd\",\"#bdbdbd\",\"#bdbdbd\",\"#bdbdbd\",\"#bdbdbd\",\"#bdbdbd\",\"#bdbdbd\",\"#bdbdbd\",\"#bdbdbd\",\"#bdbdbd\",\"#d9d9d9\",\"#d9d9d9\",\"#d9d9d9\",\"#d9d9d9\",\"#d9d9d9\",\"#d9d9d9\",\"#d9d9d9\",\"#d9d9d9\",\"#d9d9d9\",\"#d9d9d9\",\"#d9d9d9\",\"#d9d9d9\",\"#d9d9d9\"]},\"id\":\"1182\",\"type\":\"LinearColorMapper\"},{\"attributes\":{},\"id\":\"1165\",\"type\":\"PanTool\"},{\"attributes\":{\"children\":[{\"id\":\"1141\"},{\"id\":\"1142\"}],\"margin\":[0,0,0,0],\"name\":\"Column00922\"},\"id\":\"1140\",\"type\":\"Column\"},{\"attributes\":{\"line_alpha\":{\"value\":1.0},\"line_cap\":{\"value\":\"butt\"},\"line_color\":{\"field\":\"color\",\"transform\":{\"id\":\"1182\"}},\"line_dash\":{\"value\":[]},\"line_dash_offset\":{\"value\":0},\"line_join\":{\"value\":\"bevel\"},\"line_width\":{\"value\":1},\"tags\":[\"apply_ranges\"],\"x0\":{\"field\":\"x0\"},\"x1\":{\"field\":\"x1\"},\"y0\":{\"field\":\"y0\"},\"y1\":{\"field\":\"y1\"}},\"id\":\"1191\",\"type\":\"Segment\"},{\"attributes\":{},\"id\":\"1164\",\"type\":\"SaveTool\"},{\"attributes\":{\"children\":[{\"id\":\"1147\"},{\"id\":\"1274\"}],\"margin\":[0,0,0,0],\"name\":\"Row00921\"},\"id\":\"1142\",\"type\":\"Row\"},{\"attributes\":{\"data\":{\"color\":{\"__ndarray__\":\"AAAAAAAAAAAAAAAAAAAAAAAAAAAAAAAAAAAAAAAAAAAAAAAAAAAAAAAAAAAAAAAAAAAAAAAAAAAAAAAAAAAAAAAAAAAAAAAAAAAAAAAAAAAAAAAAAAAAAAAAAAAAAAAAAAAAAAAAAAAAAAAAAAAAAAAAAAAAAAAAAAAAAAAAAAAAAAAAAAAAAAAAAAAAAAAAAAAAAAAAAAAAAAAAAAAAAAAAAAAAAAAAAAAAAAAAAAAAAAAAAAAAAAAAAAAAAAAAAAAAAAAAAAAAAAAAAAAAAAAAAAAAAAAAAAAAAAAAAAAAAAAAAAAAAAAAAAAAAAAAAAAAAAAAAAAAAAAAAAAAAAAAAAAAAAAAAAAAAAAAAAAAAAAAAAAAAAAAAAAAAAAAAAAAAAAAAAAAAAAAAAAAAAAAAAAAAAAAAAAAAAAAAAAAAAAAAAAAAAAAAAAAAAAAAAAAAAAAAAAAAAAAAAAAAAAAAAAAAAAAAAAAAAAAAAAAAAAAAAAAAAAAAAAAAAAAAAAAAAAAAAAAAAAAAAAAAAAAAAAAAPA/AAAAAAAA8D8AAAAAAADwPwAAAAAAAPA/AAAAAAAA8D8AAAAAAADwPwAAAAAAAPA/AAAAAAAA8D8AAAAAAADwPwAAAAAAAPA/AAAAAAAA8D8AAAAAAADwPwAAAAAAAPA/AAAAAAAA8D8AAAAAAADwPwAAAAAAAPA/AAAAAAAA8D8AAAAAAADwPwAAAAAAAPA/AAAAAAAA8D8AAAAAAADwPwAAAAAAAPA/AAAAAAAA8D8AAAAAAADwPwAAAAAAAPA/AAAAAAAA8D8AAAAAAADwPwAAAAAAAPA/AAAAAAAA8D8AAAAAAADwPwAAAAAAAPA/AAAAAAAA8D8AAAAAAADwPwAAAAAAAPA/AAAAAAAA8D8AAAAAAADwPwAAAAAAAPA/AAAAAAAA8D8AAAAAAADwPwAAAAAAAPA/AAAAAAAA8D8AAAAAAADwPwAAAAAAAPA/AAAAAAAA8D8AAAAAAADwPwAAAAAAAPA/AAAAAAAA8D8AAAAAAADwPwAAAAAAAPA/AAAAAAAA8D8AAAAAAAAAQAAAAAAAAABAAAAAAAAAAEAAAAAAAAAAQAAAAAAAAABAAAAAAAAAAEAAAAAAAAAAQAAAAAAAAABAAAAAAAAAAEAAAAAAAAAAQAAAAAAAAABAAAAAAAAAAEAAAAAAAAAAQAAAAAAAAABAAAAAAAAAAEAAAAAAAAAAQAAAAAAAAABAAAAAAAAAAEAAAAAAAAAAQAAAAAAAAABAAAAAAAAAAEAAAAAAAAAAQAAAAAAAAABAAAAAAAAAAEAAAAAAAAAAQAAAAAAAAABAAAAAAAAAAEAAAAAAAAAAQAAAAAAAAABAAAAAAAAAAEAAAAAAAAAAQAAAAAAAAABAAAAAAAAAAEAAAAAAAAAAQAAAAAAAAABAAAAAAAAAAEAAAAAAAAAAQAAAAAAAAABAAAAAAAAAAEAAAAAAAAAAQAAAAAAAAABAAAAAAAAAAEAAAAAAAAAAQAAAAAAAAABAAAAAAAAAAEAAAAAAAAAAQAAAAAAAAABAAAAAAAAAAEAAAAAAAAAAQAAAAAAAAABAAAAAAAAACEAAAAAAAAAIQAAAAAAAAAhAAAAAAAAACEAAAAAAAAAIQAAAAAAAAAhAAAAAAAAACEAAAAAAAAAIQAAAAAAAAAhAAAAAAAAACEAAAAAAAAAIQAAAAAAAAAhAAAAAAAAACEAAAAAAAAAIQAAAAAAAAAhAAAAAAAAACEAAAAAAAAAIQAAAAAAAAAhAAAAAAAAACEAAAAAAAAAIQAAAAAAAAAhAAAAAAAAACEAAAAAAAAAIQAAAAAAAAAhAAAAAAAAACEAAAAAAAAAIQAAAAAAAAAhAAAAAAAAACEAAAAAAAAAIQAAAAAAAAAhAAAAAAAAACEAAAAAAAAAIQAAAAAAAAAhAAAAAAAAACEAAAAAAAAAIQAAAAAAAAAhAAAAAAAAACEAAAAAAAAAIQAAAAAAAAAhAAAAAAAAACEAAAAAAAAAIQAAAAAAAAAhAAAAAAAAACEAAAAAAAAAIQAAAAAAAAAhAAAAAAAAACEAAAAAAAAAIQAAAAAAAAAhAAAAAAAAACEAAAAAAAAAIQAAAAAAAABBAAAAAAAAAEEAAAAAAAAAQQAAAAAAAABBAAAAAAAAAEEAAAAAAAAAQQAAAAAAAABBAAAAAAAAAEEAAAAAAAAAQQAAAAAAAABBAAAAAAAAAEEAAAAAAAAAQQAAAAAAAABBAAAAAAAAAEEAAAAAAAAAQQAAAAAAAABBAAAAAAAAAEEAAAAAAAAAQQAAAAAAAABBAAAAAAAAAEEAAAAAAAAAQQAAAAAAAABBAAAAAAAAAEEAAAAAAAAAQQAAAAAAAABBAAAAAAAAAEEAAAAAAAAAQQAAAAAAAABBAAAAAAAAAEEAAAAAAAAAQQAAAAAAAABBAAAAAAAAAEEAAAAAAAAAQQAAAAAAAABBAAAAAAAAAEEAAAAAAAAAQQAAAAAAAABBAAAAAAAAAEEAAAAAAAAAQQAAAAAAAABBAAAAAAAAAEEAAAAAAAAAQQAAAAAAAABBAAAAAAAAAEEAAAAAAAAAQQAAAAAAAABBAAAAAAAAAEEAAAAAAAAAQQAAAAAAAABBAAAAAAAAAEEAAAAAAAAAUQAAAAAAAABRAAAAAAAAAFEAAAAAAAAAUQAAAAAAAABRAAAAAAAAAFEAAAAAAAAAUQAAAAAAAABRAAAAAAAAAFEAAAAAAAAAUQAAAAAAAABRAAAAAAAAAFEAAAAAAAAAUQAAAAAAAABRAAAAAAAAAFEAAAAAAAAAUQAAAAAAAABRAAAAAAAAAFEAAAAAAAAAUQAAAAAAAABRAAAAAAAAAFEAAAAAAAAAUQAAAAAAAABRAAAAAAAAAFEAAAAAAAAAUQAAAAAAAABRAAAAAAAAAFEAAAAAAAAAUQAAAAAAAABRAAAAAAAAAFEAAAAAAAAAUQAAAAAAAABRAAAAAAAAAFEAAAAAAAAAUQAAAAAAAABRAAAAAAAAAFEAAAAAAAAAUQAAAAAAAABRAAAAAAAAAFEAAAAAAAAAUQAAAAAAAABRAAAAAAAAAFEAAAAAAAAAUQAAAAAAAABRAAAAAAAAAFEAAAAAAAAAUQAAAAAAAABRAAAAAAAAAFEAAAAAAAAAUQAAAAAAAABRAAAAAAAAAGEAAAAAAAAAYQAAAAAAAABhAAAAAAAAAGEAAAAAAAAAYQAAAAAAAABhAAAAAAAAAGEAAAAAAAAAYQAAAAAAAABhAAAAAAAAAGEAAAAAAAAAYQAAAAAAAABhAAAAAAAAAGEAAAAAAAAAYQAAAAAAAABhAAAAAAAAAGEAAAAAAAAAYQAAAAAAAABhAAAAAAAAAGEAAAAAAAAAYQAAAAAAAABhAAAAAAAAAGEAAAAAAAAAYQAAAAAAAABhAAAAAAAAAGEAAAAAAAAAYQAAAAAAAABhAAAAAAAAAGEAAAAAAAAAYQAAAAAAAABhAAAAAAAAAGEAAAAAAAAAYQAAAAAAAABhAAAAAAAAAGEAAAAAAAAAYQAAAAAAAABhAAAAAAAAAGEAAAAAAAAAYQAAAAAAAABhAAAAAAAAAGEAAAAAAAAAYQAAAAAAAABhAAAAAAAAAGEAAAAAAAAAYQAAAAAAAABhAAAAAAAAAGEAAAAAAAAAYQAAAAAAAABhAAAAAAAAAGEAAAAAAAAAYQAAAAAAAABxAAAAAAAAAHEAAAAAAAAAcQAAAAAAAABxAAAAAAAAAHEAAAAAAAAAcQAAAAAAAABxAAAAAAAAAHEAAAAAAAAAcQAAAAAAAABxAAAAAAAAAHEAAAAAAAAAcQAAAAAAAABxAAAAAAAAAHEAAAAAAAAAcQAAAAAAAABxAAAAAAAAAHEAAAAAAAAAcQAAAAAAAABxAAAAAAAAAHEAAAAAAAAAcQAAAAAAAABxAAAAAAAAAHEAAAAAAAAAcQAAAAAAAABxAAAAAAAAAHEAAAAAAAAAcQAAAAAAAABxAAAAAAAAAHEAAAAAAAAAcQAAAAAAAABxAAAAAAAAAHEAAAAAAAAAcQAAAAAAAABxAAAAAAAAAHEAAAAAAAAAcQAAAAAAAABxAAAAAAAAAHEAAAAAAAAAcQAAAAAAAABxAAAAAAAAAHEAAAAAAAAAcQAAAAAAAABxAAAAAAAAAHEAAAAAAAAAcQAAAAAAAABxAAAAAAAAAHEAAAAAAAAAcQAAAAAAAABxAAAAAAAAAHEAAAAAAAAAgQAAAAAAAACBAAAAAAAAAIEAAAAAAAAAgQAAAAAAAACBAAAAAAAAAIEAAAAAAAAAgQAAAAAAAACBAAAAAAAAAIEAAAAAAAAAgQAAAAAAAACBAAAAAAAAAIEAAAAAAAAAgQAAAAAAAACBAAAAAAAAAIEAAAAAAAAAgQAAAAAAAACBAAAAAAAAAIEAAAAAAAAAgQAAAAAAAACBAAAAAAAAAIEAAAAAAAAAgQAAAAAAAACBAAAAAAAAAIEAAAAAAAAAgQAAAAAAAACBAAAAAAAAAIEAAAAAAAAAgQAAAAAAAACBAAAAAAAAAIEAAAAAAAAAgQAAAAAAAACBAAAAAAAAAIEAAAAAAAAAgQAAAAAAAACBAAAAAAAAAIEAAAAAAAAAgQAAAAAAAACBAAAAAAAAAIEAAAAAAAAAgQAAAAAAAACBAAAAAAAAAIEAAAAAAAAAgQAAAAAAAACBAAAAAAAAAIEAAAAAAAAAgQAAAAAAAACBAAAAAAAAAIEAAAAAAAAAgQAAAAAAAACBAAAAAAAAAIkAAAAAAAAAiQAAAAAAAACJAAAAAAAAAIkAAAAAAAAAiQAAAAAAAACJAAAAAAAAAIkAAAAAAAAAiQAAAAAAAACJAAAAAAAAAIkAAAAAAAAAiQAAAAAAAACJAAAAAAAAAIkAAAAAAAAAiQAAAAAAAACJAAAAAAAAAIkAAAAAAAAAiQAAAAAAAACJAAAAAAAAAIkAAAAAAAAAiQAAAAAAAACJAAAAAAAAAIkAAAAAAAAAiQAAAAAAAACJAAAAAAAAAIkAAAAAAAAAiQAAAAAAAACJAAAAAAAAAIkAAAAAAAAAiQAAAAAAAACJAAAAAAAAAIkAAAAAAAAAiQAAAAAAAACJAAAAAAAAAIkAAAAAAAAAiQAAAAAAAACJAAAAAAAAAIkAAAAAAAAAiQAAAAAAAACJAAAAAAAAAIkAAAAAAAAAiQAAAAAAAACJAAAAAAAAAIkAAAAAAAAAiQAAAAAAAACJAAAAAAAAAIkAAAAAAAAAiQAAAAAAAACJAAAAAAAAAIkAAAAAAAAAiQAAAAAAAACRAAAAAAAAAJEAAAAAAAAAkQAAAAAAAACRAAAAAAAAAJEAAAAAAAAAkQAAAAAAAACRAAAAAAAAAJEAAAAAAAAAkQAAAAAAAACRAAAAAAAAAJEAAAAAAAAAkQAAAAAAAACRAAAAAAAAAJEAAAAAAAAAkQAAAAAAAACRAAAAAAAAAJEAAAAAAAAAkQAAAAAAAACRAAAAAAAAAJEAAAAAAAAAkQAAAAAAAACRAAAAAAAAAJEAAAAAAAAAkQAAAAAAAACRAAAAAAAAAJEAAAAAAAAAkQAAAAAAAACRAAAAAAAAAJEAAAAAAAAAkQAAAAAAAACRAAAAAAAAAJEAAAAAAAAAkQAAAAAAAACRAAAAAAAAAJEAAAAAAAAAkQAAAAAAAACRAAAAAAAAAJEAAAAAAAAAkQAAAAAAAACRAAAAAAAAAJEAAAAAAAAAkQAAAAAAAACRAAAAAAAAAJEAAAAAAAAAkQAAAAAAAACRAAAAAAAAAJEAAAAAAAAAkQAAAAAAAACRAAAAAAAAAJEAAAAAAAAAmQAAAAAAAACZAAAAAAAAAJkAAAAAAAAAmQAAAAAAAACZAAAAAAAAAJkAAAAAAAAAmQAAAAAAAACZAAAAAAAAAJkAAAAAAAAAmQAAAAAAAACZAAAAAAAAAJkAAAAAAAAAmQAAAAAAAACZAAAAAAAAAJkAAAAAAAAAmQAAAAAAAACZAAAAAAAAAJkAAAAAAAAAmQAAAAAAAACZAAAAAAAAAJkAAAAAAAAAmQAAAAAAAACZAAAAAAAAAJkAAAAAAAAAmQAAAAAAAACZAAAAAAAAAJkAAAAAAAAAmQAAAAAAAACZAAAAAAAAAJkAAAAAAAAAmQAAAAAAAACZAAAAAAAAAJkAAAAAAAAAmQAAAAAAAACZAAAAAAAAAJkAAAAAAAAAmQAAAAAAAACZAAAAAAAAAJkAAAAAAAAAmQAAAAAAAACZAAAAAAAAAJkAAAAAAAAAmQAAAAAAAACZAAAAAAAAAJkAAAAAAAAAmQAAAAAAAACZAAAAAAAAAJkAAAAAAAAAmQAAAAAAAACZAAAAAAAAAKEAAAAAAAAAoQAAAAAAAAChAAAAAAAAAKEAAAAAAAAAoQAAAAAAAAChAAAAAAAAAKEAAAAAAAAAoQAAAAAAAAChAAAAAAAAAKEAAAAAAAAAoQAAAAAAAAChAAAAAAAAAKEAAAAAAAAAoQAAAAAAAAChAAAAAAAAAKEAAAAAAAAAoQAAAAAAAAChAAAAAAAAAKEAAAAAAAAAoQAAAAAAAAChAAAAAAAAAKEAAAAAAAAAoQAAAAAAAAChAAAAAAAAAKEAAAAAAAAAoQAAAAAAAAChAAAAAAAAAKEAAAAAAAAAoQAAAAAAAAChAAAAAAAAAKEAAAAAAAAAoQAAAAAAAAChAAAAAAAAAKEAAAAAAAAAoQAAAAAAAAChAAAAAAAAAKEAAAAAAAAAoQAAAAAAAAChAAAAAAAAAKEAAAAAAAAAoQAAAAAAAAChAAAAAAAAAKEAAAAAAAAAoQAAAAAAAAChAAAAAAAAAKEAAAAAAAAAoQAAAAAAAAChAAAAAAAAAKEAAAAAAAAAoQAAAAAAAACpAAAAAAAAAKkAAAAAAAAAqQAAAAAAAACpAAAAAAAAAKkAAAAAAAAAqQAAAAAAAACpAAAAAAAAAKkAAAAAAAAAqQAAAAAAAACpAAAAAAAAAKkAAAAAAAAAqQAAAAAAAACpAAAAAAAAAKkAAAAAAAAAqQAAAAAAAACpAAAAAAAAAKkAAAAAAAAAqQAAAAAAAACpAAAAAAAAAKkAAAAAAAAAqQAAAAAAAACpAAAAAAAAAKkAAAAAAAAAqQAAAAAAAACpAAAAAAAAAKkAAAAAAAAAqQAAAAAAAACpAAAAAAAAAKkAAAAAAAAAqQAAAAAAAACpAAAAAAAAAKkAAAAAAAAAqQAAAAAAAACpAAAAAAAAAKkAAAAAAAAAqQAAAAAAAACpAAAAAAAAAKkAAAAAAAAAqQAAAAAAAACpAAAAAAAAAKkAAAAAAAAAqQAAAAAAAACpAAAAAAAAAKkAAAAAAAAAqQAAAAAAAACpAAAAAAAAAKkAAAAAAAAAqQAAAAAAAACpAAAAAAAAAKkAAAAAAAAAsQAAAAAAAACxAAAAAAAAALEAAAAAAAAAsQAAAAAAAACxAAAAAAAAALEAAAAAAAAAsQAAAAAAAACxAAAAAAAAALEAAAAAAAAAsQAAAAAAAACxAAAAAAAAALEAAAAAAAAAsQAAAAAAAACxAAAAAAAAALEAAAAAAAAAsQAAAAAAAACxAAAAAAAAALEAAAAAAAAAsQAAAAAAAACxAAAAAAAAALEAAAAAAAAAsQAAAAAAAACxAAAAAAAAALEAAAAAAAAAsQAAAAAAAACxAAAAAAAAALEAAAAAAAAAsQAAAAAAAACxAAAAAAAAALEAAAAAAAAAsQAAAAAAAACxAAAAAAAAALEAAAAAAAAAsQAAAAAAAACxAAAAAAAAALEAAAAAAAAAsQAAAAAAAACxAAAAAAAAALEAAAAAAAAAsQAAAAAAAACxAAAAAAAAALEAAAAAAAAAsQAAAAAAAACxAAAAAAAAALEAAAAAAAAAsQAAAAAAAACxAAAAAAAAALEAAAAAAAAAsQAAAAAAAACxAAAAAAAAALkAAAAAAAAAuQAAAAAAAAC5AAAAAAAAALkAAAAAAAAAuQAAAAAAAAC5AAAAAAAAALkAAAAAAAAAuQAAAAAAAAC5AAAAAAAAALkAAAAAAAAAuQAAAAAAAAC5AAAAAAAAALkAAAAAAAAAuQAAAAAAAAC5AAAAAAAAALkAAAAAAAAAuQAAAAAAAAC5AAAAAAAAALkAAAAAAAAAuQAAAAAAAAC5AAAAAAAAALkAAAAAAAAAuQAAAAAAAAC5AAAAAAAAALkAAAAAAAAAuQAAAAAAAAC5AAAAAAAAALkAAAAAAAAAuQAAAAAAAAC5AAAAAAAAALkAAAAAAAAAuQAAAAAAAAC5AAAAAAAAALkAAAAAAAAAuQAAAAAAAAC5AAAAAAAAALkAAAAAAAAAuQAAAAAAAAC5AAAAAAAAALkAAAAAAAAAuQAAAAAAAAC5AAAAAAAAALkAAAAAAAAAuQAAAAAAAAC5AAAAAAAAALkAAAAAAAAAuQAAAAAAAAC5AAAAAAAAALkAAAAAAAAAuQAAAAAAAADBAAAAAAAAAMEAAAAAAAAAwQAAAAAAAADBAAAAAAAAAMEAAAAAAAAAwQAAAAAAAADBAAAAAAAAAMEAAAAAAAAAwQAAAAAAAADBAAAAAAAAAMEAAAAAAAAAwQAAAAAAAADBAAAAAAAAAMEAAAAAAAAAwQAAAAAAAADBAAAAAAAAAMEAAAAAAAAAwQAAAAAAAADBAAAAAAAAAMEAAAAAAAAAwQAAAAAAAADBAAAAAAAAAMEAAAAAAAAAwQAAAAAAAADBAAAAAAAAAMEAAAAAAAAAwQAAAAAAAADBAAAAAAAAAMEAAAAAAAAAwQAAAAAAAADBAAAAAAAAAMEAAAAAAAAAwQAAAAAAAADBAAAAAAAAAMEAAAAAAAAAwQAAAAAAAADBAAAAAAAAAMEAAAAAAAAAwQAAAAAAAADBAAAAAAAAAMEAAAAAAAAAwQAAAAAAAADBAAAAAAAAAMEAAAAAAAAAwQAAAAAAAADBAAAAAAAAAMEAAAAAAAAAwQAAAAAAAADBAAAAAAAAAMEAAAAAAAAAxQAAAAAAAADFAAAAAAAAAMUAAAAAAAAAxQAAAAAAAADFAAAAAAAAAMUAAAAAAAAAxQAAAAAAAADFAAAAAAAAAMUAAAAAAAAAxQAAAAAAAADFAAAAAAAAAMUAAAAAAAAAxQAAAAAAAADFAAAAAAAAAMUAAAAAAAAAxQAAAAAAAADFAAAAAAAAAMUAAAAAAAAAxQAAAAAAAADFAAAAAAAAAMUAAAAAAAAAxQAAAAAAAADFAAAAAAAAAMUAAAAAAAAAxQAAAAAAAADFAAAAAAAAAMUAAAAAAAAAxQAAAAAAAADFAAAAAAAAAMUAAAAAAAAAxQAAAAAAAADFAAAAAAAAAMUAAAAAAAAAxQAAAAAAAADFAAAAAAAAAMUAAAAAAAAAxQAAAAAAAADFAAAAAAAAAMUAAAAAAAAAxQAAAAAAAADFAAAAAAAAAMUAAAAAAAAAxQAAAAAAAADFAAAAAAAAAMUAAAAAAAAAxQAAAAAAAADFAAAAAAAAAMUAAAAAAAAAxQAAAAAAAADFAAAAAAAAAMkAAAAAAAAAyQAAAAAAAADJAAAAAAAAAMkAAAAAAAAAyQAAAAAAAADJAAAAAAAAAMkAAAAAAAAAyQAAAAAAAADJAAAAAAAAAMkAAAAAAAAAyQAAAAAAAADJAAAAAAAAAMkAAAAAAAAAyQAAAAAAAADJAAAAAAAAAMkAAAAAAAAAyQAAAAAAAADJAAAAAAAAAMkAAAAAAAAAyQAAAAAAAADJAAAAAAAAAMkAAAAAAAAAyQAAAAAAAADJAAAAAAAAAMkAAAAAAAAAyQAAAAAAAADJAAAAAAAAAMkAAAAAAAAAyQAAAAAAAADJAAAAAAAAAMkAAAAAAAAAyQAAAAAAAADJAAAAAAAAAMkAAAAAAAAAyQAAAAAAAADJAAAAAAAAAMkAAAAAAAAAyQAAAAAAAADJAAAAAAAAAMkAAAAAAAAAyQAAAAAAAADJAAAAAAAAAMkAAAAAAAAAyQAAAAAAAADJAAAAAAAAAMkAAAAAAAAAyQAAAAAAAADJAAAAAAAAAMkAAAAAAAAAyQAAAAAAAADNAAAAAAAAAM0AAAAAAAAAzQAAAAAAAADNAAAAAAAAAM0AAAAAAAAAzQAAAAAAAADNAAAAAAAAAM0AAAAAAAAAzQAAAAAAAADNAAAAAAAAAM0AAAAAAAAAzQAAAAAAAADNAAAAAAAAAM0AAAAAAAAAzQAAAAAAAADNAAAAAAAAAM0AAAAAAAAAzQAAAAAAAADNAAAAAAAAAM0AAAAAAAAAzQAAAAAAAADNAAAAAAAAAM0AAAAAAAAAzQAAAAAAAADNAAAAAAAAAM0AAAAAAAAAzQAAAAAAAADNAAAAAAAAAM0AAAAAAAAAzQAAAAAAAADNAAAAAAAAAM0AAAAAAAAAzQAAAAAAAADNAAAAAAAAAM0AAAAAAAAAzQAAAAAAAADNAAAAAAAAAM0AAAAAAAAAzQAAAAAAAADNAAAAAAAAAM0AAAAAAAAAzQAAAAAAAADNAAAAAAAAAM0AAAAAAAAAzQAAAAAAAADNAAAAAAAAAM0AAAAAAAAAzQAAAAAAAADNAAAAAAAAAM0AAAAAAAAA0QAAAAAAAADRAAAAAAAAANEAAAAAAAAA0QAAAAAAAADRAAAAAAAAANEAAAAAAAAA0QAAAAAAAADRAAAAAAAAANEAAAAAAAAA0QAAAAAAAADRAAAAAAAAANEAAAAAAAAA0QAAAAAAAADRAAAAAAAAANEAAAAAAAAA0QAAAAAAAADRAAAAAAAAANEAAAAAAAAA0QAAAAAAAADRAAAAAAAAANEAAAAAAAAA0QAAAAAAAADRAAAAAAAAANEAAAAAAAAA0QAAAAAAAADRAAAAAAAAANEAAAAAAAAA0QAAAAAAAADRAAAAAAAAANEAAAAAAAAA0QAAAAAAAADRAAAAAAAAANEAAAAAAAAA0QAAAAAAAADRAAAAAAAAANEAAAAAAAAA0QAAAAAAAADRAAAAAAAAANEAAAAAAAAA0QAAAAAAAADRAAAAAAAAANEAAAAAAAAA0QAAAAAAAADRAAAAAAAAANEAAAAAAAAA0QAAAAAAAADRAAAAAAAAANEAAAAAAAAA0QAAAAAAAADRAAAAAAAAANUAAAAAAAAA1QAAAAAAAADVAAAAAAAAANUAAAAAAAAA1QAAAAAAAADVAAAAAAAAANUAAAAAAAAA1QAAAAAAAADVAAAAAAAAANUAAAAAAAAA1QAAAAAAAADVAAAAAAAAANUAAAAAAAAA1QAAAAAAAADVAAAAAAAAANUAAAAAAAAA1QAAAAAAAADVAAAAAAAAANUAAAAAAAAA1QAAAAAAAADVAAAAAAAAANUAAAAAAAAA1QAAAAAAAADVAAAAAAAAANUAAAAAAAAA1QAAAAAAAADVAAAAAAAAANUAAAAAAAAA1QAAAAAAAADVAAAAAAAAANUAAAAAAAAA1QAAAAAAAADVAAAAAAAAANUAAAAAAAAA1QAAAAAAAADVAAAAAAAAANUAAAAAAAAA1QAAAAAAAADVAAAAAAAAANUAAAAAAAAA1QAAAAAAAADVAAAAAAAAANUAAAAAAAAA1QAAAAAAAADVAAAAAAAAANUAAAAAAAAA1QAAAAAAAADVAAAAAAAAANUAAAAAAAAA1QAAAAAAAADZAAAAAAAAANkAAAAAAAAA2QAAAAAAAADZAAAAAAAAANkAAAAAAAAA2QAAAAAAAADZAAAAAAAAANkAAAAAAAAA2QAAAAAAAADZAAAAAAAAANkAAAAAAAAA2QAAAAAAAADZAAAAAAAAANkAAAAAAAAA2QAAAAAAAADZAAAAAAAAANkAAAAAAAAA2QAAAAAAAADZAAAAAAAAANkAAAAAAAAA2QAAAAAAAADZAAAAAAAAANkAAAAAAAAA2QAAAAAAAADZAAAAAAAAANkAAAAAAAAA2QAAAAAAAADZAAAAAAAAANkAAAAAAAAA2QAAAAAAAADZAAAAAAAAANkAAAAAAAAA2QAAAAAAAADZAAAAAAAAANkAAAAAAAAA2QAAAAAAAADZAAAAAAAAANkAAAAAAAAA2QAAAAAAAADZAAAAAAAAANkAAAAAAAAA2QAAAAAAAADZAAAAAAAAANkAAAAAAAAA2QAAAAAAAADZAAAAAAAAANkAAAAAAAAA2QAAAAAAAADZAAAAAAAAANkAAAAAAAAA3QAAAAAAAADdAAAAAAAAAN0AAAAAAAAA3QAAAAAAAADdAAAAAAAAAN0AAAAAAAAA3QAAAAAAAADdAAAAAAAAAN0AAAAAAAAA3QAAAAAAAADdAAAAAAAAAN0AAAAAAAAA3QAAAAAAAADdAAAAAAAAAN0AAAAAAAAA3QAAAAAAAADdAAAAAAAAAN0AAAAAAAAA3QAAAAAAAADdAAAAAAAAAN0AAAAAAAAA3QAAAAAAAADdAAAAAAAAAN0AAAAAAAAA3QAAAAAAAADdAAAAAAAAAN0AAAAAAAAA3QAAAAAAAADdAAAAAAAAAN0AAAAAAAAA3QAAAAAAAADdAAAAAAAAAN0AAAAAAAAA3QAAAAAAAADdAAAAAAAAAN0AAAAAAAAA3QAAAAAAAADdAAAAAAAAAN0AAAAAAAAA3QAAAAAAAADdAAAAAAAAAN0AAAAAAAAA3QAAAAAAAADdAAAAAAAAAN0AAAAAAAAA3QAAAAAAAADdAAAAAAAAAN0AAAAAAAAA3QAAAAAAAADdAAAAAAAAAOEAAAAAAAAA4QAAAAAAAADhAAAAAAAAAOEAAAAAAAAA4QAAAAAAAADhAAAAAAAAAOEAAAAAAAAA4QAAAAAAAADhAAAAAAAAAOEAAAAAAAAA4QAAAAAAAADhAAAAAAAAAOEAAAAAAAAA4QAAAAAAAADhAAAAAAAAAOEAAAAAAAAA4QAAAAAAAADhAAAAAAAAAOEAAAAAAAAA4QAAAAAAAADhAAAAAAAAAOEAAAAAAAAA4QAAAAAAAADhAAAAAAAAAOEAAAAAAAAA4QAAAAAAAADhAAAAAAAAAOEAAAAAAAAA4QAAAAAAAADhAAAAAAAAAOEAAAAAAAAA4QAAAAAAAADhAAAAAAAAAOEAAAAAAAAA4QAAAAAAAADhAAAAAAAAAOEAAAAAAAAA4QAAAAAAAADhAAAAAAAAAOEAAAAAAAAA4QAAAAAAAADhAAAAAAAAAOEAAAAAAAAA4QAAAAAAAADhAAAAAAAAAOEAAAAAAAAA4QAAAAAAAADhAAAAAAAAAOEAAAAAAAAA4QA==\",\"dtype\":\"float64\",\"order\":\"little\",\"shape\":[1250]},\"x\":{\"__ndarray__\":\"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\",\"dtype\":\"float64\",\"order\":\"little\",\"shape\":[1250]},\"y\":{\"__ndarray__\":\"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\",\"dtype\":\"float64\",\"order\":\"little\",\"shape\":[1250]}},\"selected\":{\"id\":\"1194\"},\"selection_policy\":{\"id\":\"1220\"}},\"id\":\"1193\",\"type\":\"ColumnDataSource\"},{\"attributes\":{\"overlay\":{\"id\":\"1169\"}},\"id\":\"1167\",\"type\":\"BoxZoomTool\"},{\"attributes\":{\"children\":[{\"id\":\"1275\"},{\"id\":\"1279\"},{\"id\":\"1280\"},{\"id\":\"1281\"},{\"id\":\"1282\"},{\"id\":\"1283\"},{\"id\":\"1284\"},{\"id\":\"1285\"},{\"id\":\"1286\"},{\"id\":\"1287\"},{\"id\":\"1288\"}],\"margin\":[0,0,0,0],\"name\":\"Column00915\"},\"id\":\"1274\",\"type\":\"Column\"},{\"attributes\":{},\"id\":\"1168\",\"type\":\"ResetTool\"},{\"attributes\":{\"line_alpha\":{\"value\":0.1},\"line_color\":{\"field\":\"color\",\"transform\":{\"id\":\"1182\"}},\"tags\":[\"apply_ranges\"],\"x0\":{\"field\":\"x0\"},\"x1\":{\"field\":\"x1\"},\"y0\":{\"field\":\"y0\"},\"y1\":{\"field\":\"y1\"}},\"id\":\"1187\",\"type\":\"Segment\"},{\"attributes\":{},\"id\":\"1194\",\"type\":\"Selection\"},{\"attributes\":{\"fill_alpha\":{\"value\":0.1},\"fill_color\":{\"field\":\"color\",\"transform\":{\"id\":\"1192\"}},\"hatch_color\":{\"field\":\"color\",\"transform\":{\"id\":\"1192\"}},\"line_color\":{\"field\":\"color\",\"transform\":{\"id\":\"1192\"}},\"size\":{\"value\":5},\"tags\":[\"apply_ranges\"],\"x\":{\"field\":\"x\"},\"y\":{\"field\":\"y\"}},\"id\":\"1196\",\"type\":\"Scatter\"},{\"attributes\":{\"line_alpha\":{\"value\":0.2},\"line_color\":{\"field\":\"color\",\"transform\":{\"id\":\"1182\"}},\"tags\":[\"apply_ranges\"],\"x0\":{\"field\":\"x0\"},\"x1\":{\"field\":\"x1\"},\"y0\":{\"field\":\"y0\"},\"y1\":{\"field\":\"y1\"}},\"id\":\"1188\",\"type\":\"Segment\"},{\"attributes\":{\"coordinates\":null,\"data_source\":{\"id\":\"1183\"},\"glyph\":{\"id\":\"1186\"},\"group\":null,\"hover_glyph\":null,\"muted_glyph\":{\"id\":\"1188\"},\"nonselection_glyph\":{\"id\":\"1187\"},\"selection_glyph\":{\"id\":\"1191\"},\"view\":{\"id\":\"1190\"}},\"id\":\"1189\",\"type\":\"GlyphRenderer\"},{\"attributes\":{\"data\":{\"x\":{\"__ndarray__\":\"ELxAXQWc1j8=\",\"dtype\":\"float64\",\"order\":\"little\",\"shape\":[1]},\"y\":{\"__ndarray__\":\"iLptuBH71T8=\",\"dtype\":\"float64\",\"order\":\"little\",\"shape\":[1]}},\"selected\":{\"id\":\"1204\"},\"selection_policy\":{\"id\":\"1222\"}},\"id\":\"1203\",\"type\":\"ColumnDataSource\"},{\"attributes\":{},\"id\":\"1218\",\"type\":\"UnionRenderers\"}],\"root_ids\":[\"1140\",\"1337\"]},\"title\":\"Bokeh Application\",\"version\":\"2.4.3\"}};\n",
       "    var render_items = [{\"docid\":\"1505c796-d11c-45e9-95e6-0320a4315bcc\",\"root_ids\":[\"1140\"],\"roots\":{\"1140\":\"9b2a4e13-e55b-4509-82fb-fd91da426647\"}}];\n",
       "    root.Bokeh.embed.embed_items_notebook(docs_json, render_items);\n",
       "    for (const render_item of render_items) {\n",
       "      for (const root_id of render_item.root_ids) {\n",
       "\tconst id_el = document.getElementById(root_id)\n",
       "\tif (id_el.children.length && (id_el.children[0].className === 'bk-root')) {\n",
       "\t  const root_el = id_el.children[0]\n",
       "\t  root_el.id = root_el.id + '-rendered'\n",
       "\t}\n",
       "      }\n",
       "    }\n",
       "  }\n",
       "  if (root.Bokeh !== undefined && root.Bokeh.Panel !== undefined) {\n",
       "    embed_document(root);\n",
       "  } else {\n",
       "    var attempts = 0;\n",
       "    var timer = setInterval(function(root) {\n",
       "      if (root.Bokeh !== undefined && root.Bokeh.Panel !== undefined) {\n",
       "        clearInterval(timer);\n",
       "        embed_document(root);\n",
       "      } else if (document.readyState == \"complete\") {\n",
       "        attempts++;\n",
       "        if (attempts > 200) {\n",
       "          clearInterval(timer);\n",
       "          console.log(\"Bokeh: ERROR: Unable to run BokehJS code because BokehJS library is missing\");\n",
       "        }\n",
       "      }\n",
       "    }, 25, root)\n",
       "  }\n",
       "})(window);</script>"
      ],
      "text/plain": [
       "Column\n",
       "    [0] Markdown(str)\n",
       "    [1] Row\n",
       "        [0] HoloViews(DynamicMap, height=600, sizing_mode='fixed', width=600)\n",
       "        [1] Column\n",
       "            [0] Row\n",
       "                [0] Button(name='▶ Begin Improving', width=50)\n",
       "                [1] Spacer(width=50)\n",
       "                [2] Button(name='New Population', width=50)\n",
       "            [1] Button(name='Next Generation', width=50)\n",
       "            [2] IntSlider(end=15, name='Time Evolving (s)', value=3)\n",
       "            [3] IntSlider(end=20, name='Number of Informants', value=6)\n",
       "            [4] IntSlider(end=50, name='Population Size', start=10, value=25)\n",
       "            [5] FloatSlider(end=5, name='Follow Current', value=0.7)\n",
       "            [6] FloatSlider(end=5, name='Follow Personal Best', value=2.0)\n",
       "            [7] FloatSlider(end=5, name='Follow Social Best', value=0.9)\n",
       "            [8] FloatSlider(name='Follow Global Best')\n",
       "            [9] FloatSlider(name='Scale Update Step', value=0.7)\n",
       "            [10] Button(name='Reset Parameters', width=50)"
      ]
     },
     "execution_count": 15,
     "metadata": {
      "application/vnd.holoviews_exec.v0+json": {
       "id": "1140"
      }
     },
     "output_type": "execute_result"
    }
   ],
   "source": [
    "dashboard.servable()"
   ]
  },
  {
   "cell_type": "markdown",
   "metadata": {},
   "source": [
    "# Conclusion"
   ]
  },
  {
   "cell_type": "markdown",
   "metadata": {},
   "source": [
    "Particle Swarm Optimisation is a really intesting algorithm which was built while trying to build a simiplified model of social interactions. The original aim was to create an algorithm in which the particles would behave like flocking birds.\n",
    "\n",
    "We've seen how each particle has a velocity and position, and the position represents a potential solution to your problem. For updating the velocities, each particle uses its current position, its own fittest position and the fittest positions of other particles.\n",
    "\n",
    "We've also looked the [HoloViz](https://holoviz.org/) tools (Holoviews, Panel and Bokeh). Using these we build an interactive dashboard which shows all the particles updating!\n",
    "\n",
    "Thanks for reading! "
   ]
  }
 ],
 "metadata": {
  "kernelspec": {
   "display_name": "Python 3 (ipykernel)",
   "language": "python",
   "name": "python3"
  },
  "language_info": {
   "codemirror_mode": {
    "name": "ipython",
    "version": 3
   },
   "file_extension": ".py",
   "mimetype": "text/x-python",
   "name": "python",
   "nbconvert_exporter": "python",
   "pygments_lexer": "ipython3",
   "version": "3.9.12"
  }
 },
 "nbformat": 4,
 "nbformat_minor": 2
}
